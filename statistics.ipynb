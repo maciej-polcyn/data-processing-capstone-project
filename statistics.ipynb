{
 "cells": [
  {
   "cell_type": "code",
   "execution_count": 1,
   "id": "initial_id",
   "metadata": {
    "collapsed": true,
    "ExecuteTime": {
     "end_time": "2024-01-30T10:24:22.758785Z",
     "start_time": "2024-01-30T10:24:22.755892Z"
    }
   },
   "outputs": [],
   "source": [
    "import numpy as np\n",
    "import pandas as pd\n",
    "from scipy import stats\n",
    "import matplotlib.pyplot as plt\n",
    "import seaborn as sns"
   ]
  },
  {
   "cell_type": "code",
   "outputs": [],
   "source": [
    "df = pd.read_csv(\"capstone_data_clean.csv\")\n",
    "df[\"Adv_Year\"] = df[\"Adv_Year\"].astype(\"category\")\n",
    "df[\"Adv_Month\"] = df[\"Adv_Month\"].astype(\"category\")\n",
    "df[\"Gearbox_Type\"] = df[\"Gearbox_Type\"].astype(\"category\")\n",
    "df[\"Fuel_Type\"] = df[\"Fuel_Type\"].astype(\"category\")"
   ],
   "metadata": {
    "collapsed": false,
    "ExecuteTime": {
     "end_time": "2024-01-30T10:24:24.807181Z",
     "start_time": "2024-01-30T10:24:23.573510Z"
    }
   },
   "id": "6fd18b3832100ea2",
   "execution_count": 2
  },
  {
   "cell_type": "code",
   "outputs": [
    {
     "data": {
      "text/plain": "Maker             object\nGenmodel          object\nGenmodel_ID       object\nAdv_ID            object\nAdv_Year        category\nAdv_Month       category\nColor             object\nBody_Type         object\nGearbox_Type    category\nFuel_Type       category\nReg_Year         float64\nMileage          float64\nEngine_Size      float64\nPrice            float64\nEngine_Power     float64\nAnnual_Tax       float64\nWheelbase        float64\nHeight           float64\nWidth            float64\nLength           float64\nAverage_Mpg      float64\nTop_Speed        float64\nSeat_Num         float64\nDoor_Num         float64\ndtype: object"
     },
     "execution_count": 3,
     "metadata": {},
     "output_type": "execute_result"
    }
   ],
   "source": [
    "df.dtypes"
   ],
   "metadata": {
    "collapsed": false,
    "ExecuteTime": {
     "end_time": "2024-01-30T10:24:28.861630Z",
     "start_time": "2024-01-30T10:24:28.831501Z"
    }
   },
   "id": "efb4aa18f279024c",
   "execution_count": 3
  },
  {
   "cell_type": "code",
   "outputs": [
    {
     "name": "stdout",
     "output_type": "stream",
     "text": [
      "<class 'pandas.core.frame.DataFrame'>\n",
      "RangeIndex: 268252 entries, 0 to 268251\n",
      "Data columns (total 24 columns):\n",
      " #   Column        Non-Null Count   Dtype   \n",
      "---  ------        --------------   -----   \n",
      " 0   Maker         268252 non-null  object  \n",
      " 1   Genmodel      268252 non-null  object  \n",
      " 2   Genmodel_ID   268252 non-null  object  \n",
      " 3   Adv_ID        268252 non-null  object  \n",
      " 4   Adv_Year      268252 non-null  category\n",
      " 5   Adv_Month     268252 non-null  category\n",
      " 6   Color         246377 non-null  object  \n",
      " 7   Body_Type     267298 non-null  object  \n",
      " 8   Gearbox_Type  268085 non-null  category\n",
      " 9   Fuel_Type     267843 non-null  category\n",
      " 10  Reg_Year      268245 non-null  float64 \n",
      " 11  Mileage       267197 non-null  float64 \n",
      " 12  Engine_Size   266188 non-null  float64 \n",
      " 13  Price         267107 non-null  float64 \n",
      " 14  Engine_Power  236442 non-null  float64 \n",
      " 15  Annual_Tax    220716 non-null  float64 \n",
      " 16  Wheelbase     232831 non-null  float64 \n",
      " 17  Height        239507 non-null  float64 \n",
      " 18  Width         240173 non-null  float64 \n",
      " 19  Length        240364 non-null  float64 \n",
      " 20  Average_Mpg   226320 non-null  float64 \n",
      " 21  Top_Speed     224651 non-null  float64 \n",
      " 22  Seat_Num      261778 non-null  float64 \n",
      " 23  Door_Num      263700 non-null  float64 \n",
      "dtypes: category(4), float64(14), object(6)\n",
      "memory usage: 42.0+ MB\n"
     ]
    }
   ],
   "source": [
    "df.info()"
   ],
   "metadata": {
    "collapsed": false,
    "ExecuteTime": {
     "end_time": "2024-01-30T10:26:30.819208Z",
     "start_time": "2024-01-30T10:26:30.725891Z"
    }
   },
   "id": "2026de9c69a09976",
   "execution_count": 6
  },
  {
   "cell_type": "code",
   "outputs": [
    {
     "data": {
      "text/plain": "     Maker Genmodel Genmodel_ID  Adv_ID Adv_Year Adv_Month   Color Body_Type  \\\n0  Bentley   Arnage        10_1  10_1_1     2018       Apr  Silver    Saloon   \n1  Bentley   Arnage        10_1  10_1_2     2018       Jun    Grey    Saloon   \n2  Bentley   Arnage        10_1  10_1_3     2017       Nov    Blue    Saloon   \n3  Bentley   Arnage        10_1  10_1_4     2018       Apr   Green    Saloon   \n4  Bentley   Arnage        10_1  10_1_5     2017       Nov    Grey    Saloon   \n\n  Gearbox_Type Fuel_Type  ...  Engine_Power  Annual_Tax  Wheelbase  Height  \\\n0    Automatic    Petrol  ...           NaN         NaN     3116.0  1515.0   \n1    Automatic    Petrol  ...         450.0       315.0     3116.0  1515.0   \n2    Automatic    Petrol  ...         400.0       315.0     3116.0  1515.0   \n3    Automatic    Petrol  ...           NaN         NaN     3116.0  1515.0   \n4    Automatic    Petrol  ...           NaN         NaN     3116.0  1515.0   \n\n    Width  Length  Average_Mpg  Top_Speed  Seat_Num  Door_Num  \n0  2125.0  5390.0          NaN        NaN       5.0       4.0  \n1  2125.0  5390.0         13.7      179.0       5.0       4.0  \n2  2125.0  5390.0         14.7      155.0       5.0       4.0  \n3  2125.0  5390.0          NaN        NaN       5.0       4.0  \n4  2125.0  5390.0          NaN        NaN       5.0       4.0  \n\n[5 rows x 24 columns]",
      "text/html": "<div>\n<style scoped>\n    .dataframe tbody tr th:only-of-type {\n        vertical-align: middle;\n    }\n\n    .dataframe tbody tr th {\n        vertical-align: top;\n    }\n\n    .dataframe thead th {\n        text-align: right;\n    }\n</style>\n<table border=\"1\" class=\"dataframe\">\n  <thead>\n    <tr style=\"text-align: right;\">\n      <th></th>\n      <th>Maker</th>\n      <th>Genmodel</th>\n      <th>Genmodel_ID</th>\n      <th>Adv_ID</th>\n      <th>Adv_Year</th>\n      <th>Adv_Month</th>\n      <th>Color</th>\n      <th>Body_Type</th>\n      <th>Gearbox_Type</th>\n      <th>Fuel_Type</th>\n      <th>...</th>\n      <th>Engine_Power</th>\n      <th>Annual_Tax</th>\n      <th>Wheelbase</th>\n      <th>Height</th>\n      <th>Width</th>\n      <th>Length</th>\n      <th>Average_Mpg</th>\n      <th>Top_Speed</th>\n      <th>Seat_Num</th>\n      <th>Door_Num</th>\n    </tr>\n  </thead>\n  <tbody>\n    <tr>\n      <th>0</th>\n      <td>Bentley</td>\n      <td>Arnage</td>\n      <td>10_1</td>\n      <td>10_1_1</td>\n      <td>2018</td>\n      <td>Apr</td>\n      <td>Silver</td>\n      <td>Saloon</td>\n      <td>Automatic</td>\n      <td>Petrol</td>\n      <td>...</td>\n      <td>NaN</td>\n      <td>NaN</td>\n      <td>3116.0</td>\n      <td>1515.0</td>\n      <td>2125.0</td>\n      <td>5390.0</td>\n      <td>NaN</td>\n      <td>NaN</td>\n      <td>5.0</td>\n      <td>4.0</td>\n    </tr>\n    <tr>\n      <th>1</th>\n      <td>Bentley</td>\n      <td>Arnage</td>\n      <td>10_1</td>\n      <td>10_1_2</td>\n      <td>2018</td>\n      <td>Jun</td>\n      <td>Grey</td>\n      <td>Saloon</td>\n      <td>Automatic</td>\n      <td>Petrol</td>\n      <td>...</td>\n      <td>450.0</td>\n      <td>315.0</td>\n      <td>3116.0</td>\n      <td>1515.0</td>\n      <td>2125.0</td>\n      <td>5390.0</td>\n      <td>13.7</td>\n      <td>179.0</td>\n      <td>5.0</td>\n      <td>4.0</td>\n    </tr>\n    <tr>\n      <th>2</th>\n      <td>Bentley</td>\n      <td>Arnage</td>\n      <td>10_1</td>\n      <td>10_1_3</td>\n      <td>2017</td>\n      <td>Nov</td>\n      <td>Blue</td>\n      <td>Saloon</td>\n      <td>Automatic</td>\n      <td>Petrol</td>\n      <td>...</td>\n      <td>400.0</td>\n      <td>315.0</td>\n      <td>3116.0</td>\n      <td>1515.0</td>\n      <td>2125.0</td>\n      <td>5390.0</td>\n      <td>14.7</td>\n      <td>155.0</td>\n      <td>5.0</td>\n      <td>4.0</td>\n    </tr>\n    <tr>\n      <th>3</th>\n      <td>Bentley</td>\n      <td>Arnage</td>\n      <td>10_1</td>\n      <td>10_1_4</td>\n      <td>2018</td>\n      <td>Apr</td>\n      <td>Green</td>\n      <td>Saloon</td>\n      <td>Automatic</td>\n      <td>Petrol</td>\n      <td>...</td>\n      <td>NaN</td>\n      <td>NaN</td>\n      <td>3116.0</td>\n      <td>1515.0</td>\n      <td>2125.0</td>\n      <td>5390.0</td>\n      <td>NaN</td>\n      <td>NaN</td>\n      <td>5.0</td>\n      <td>4.0</td>\n    </tr>\n    <tr>\n      <th>4</th>\n      <td>Bentley</td>\n      <td>Arnage</td>\n      <td>10_1</td>\n      <td>10_1_5</td>\n      <td>2017</td>\n      <td>Nov</td>\n      <td>Grey</td>\n      <td>Saloon</td>\n      <td>Automatic</td>\n      <td>Petrol</td>\n      <td>...</td>\n      <td>NaN</td>\n      <td>NaN</td>\n      <td>3116.0</td>\n      <td>1515.0</td>\n      <td>2125.0</td>\n      <td>5390.0</td>\n      <td>NaN</td>\n      <td>NaN</td>\n      <td>5.0</td>\n      <td>4.0</td>\n    </tr>\n  </tbody>\n</table>\n<p>5 rows × 24 columns</p>\n</div>"
     },
     "execution_count": 7,
     "metadata": {},
     "output_type": "execute_result"
    }
   ],
   "source": [
    "df.head()"
   ],
   "metadata": {
    "collapsed": false,
    "ExecuteTime": {
     "end_time": "2024-01-30T10:26:32.061456Z",
     "start_time": "2024-01-30T10:26:32.049115Z"
    }
   },
   "id": "d627fcec5f5f4bf0",
   "execution_count": 7
  },
  {
   "cell_type": "code",
   "outputs": [
    {
     "data": {
      "text/plain": "count    2.671070e+05\nmean     1.475596e+04\nstd      3.232048e+04\nmin      1.000000e+02\n25%      4.990000e+03\n50%      9.299000e+03\n75%      1.715000e+04\nmax      9.999999e+06\nName: Price, dtype: float64"
     },
     "execution_count": 8,
     "metadata": {},
     "output_type": "execute_result"
    }
   ],
   "source": [
    "df[\"Price\"].describe()"
   ],
   "metadata": {
    "collapsed": false,
    "ExecuteTime": {
     "end_time": "2024-01-30T10:26:33.460671Z",
     "start_time": "2024-01-30T10:26:33.411684Z"
    }
   },
   "id": "21816adaf86dc768",
   "execution_count": 8
  },
  {
   "cell_type": "code",
   "outputs": [
    {
     "data": {
      "text/plain": "0    3995.0\nName: Price, dtype: float64"
     },
     "execution_count": 9,
     "metadata": {},
     "output_type": "execute_result"
    }
   ],
   "source": [
    "df[\"Price\"].mode()"
   ],
   "metadata": {
    "collapsed": false,
    "ExecuteTime": {
     "end_time": "2024-01-30T10:26:39.178905Z",
     "start_time": "2024-01-30T10:26:39.151407Z"
    }
   },
   "id": "7015d865f0a65073",
   "execution_count": 9
  },
  {
   "cell_type": "code",
   "outputs": [
    {
     "data": {
      "text/plain": "125.96446025762475"
     },
     "execution_count": 10,
     "metadata": {},
     "output_type": "execute_result"
    }
   ],
   "source": [
    "df[\"Price\"].skew()"
   ],
   "metadata": {
    "collapsed": false,
    "ExecuteTime": {
     "end_time": "2024-01-30T10:26:42.931Z",
     "start_time": "2024-01-30T10:26:42.874258Z"
    }
   },
   "id": "df602ba65bf2f24b",
   "execution_count": 10
  },
  {
   "cell_type": "markdown",
   "source": [
    "### Price normal distribution test:\n",
    "> H0: the variable is normally distributed\n",
    "> H1: the variable is not normally distributed"
   ],
   "metadata": {
    "collapsed": false
   },
   "id": "59120af4eccf3c60"
  },
  {
   "cell_type": "code",
   "outputs": [
    {
     "data": {
      "text/plain": "NormaltestResult(statistic=1141533.6021175836, pvalue=0.0)"
     },
     "execution_count": 11,
     "metadata": {},
     "output_type": "execute_result"
    }
   ],
   "source": [
    "stats.normaltest(df[\"Price\"], nan_policy=\"omit\")"
   ],
   "metadata": {
    "collapsed": false,
    "ExecuteTime": {
     "end_time": "2024-01-30T10:26:47.236533Z",
     "start_time": "2024-01-30T10:26:47.177191Z"
    }
   },
   "id": "1c30e0e4c5da10c6",
   "execution_count": 11
  },
  {
   "cell_type": "markdown",
   "source": [
    "There's a reason to reject H0 in favor of H1."
   ],
   "metadata": {
    "collapsed": false
   },
   "id": "b0b095ecc534dbde"
  },
  {
   "cell_type": "markdown",
   "source": [
    "## Numeric features' influence on Price"
   ],
   "metadata": {
    "collapsed": false
   },
   "id": "69ced68ba6fc5db9"
  },
  {
   "cell_type": "markdown",
   "source": [
    "### Spearman correlations\n",
    "Non-parametric rank-based test. No assumptions about the distributions or data, except that variables should be at least ordinal. "
   ],
   "metadata": {
    "collapsed": false
   },
   "id": "1b092106da51c488"
  },
  {
   "cell_type": "code",
   "outputs": [],
   "source": [
    "spearman = df.corr(method=\"spearman\", numeric_only=True)\n",
    "\n",
    "weak_positive = spearman[\"Price\"].between(0.1, 0.38, inclusive=\"left\")\n",
    "weak_negative = spearman[\"Price\"].between(-0.38, -0.1, inclusive=\"right\")\n",
    "\n",
    "mod_positive = spearman[\"Price\"].between(0.38, 0.68, inclusive=\"left\")\n",
    "mod_negative = spearman[\"Price\"].between(-0.68, -0.38, inclusive=\"right\")\n",
    "\n",
    "str_positive = spearman[\"Price\"].between(0.68, 0.89, inclusive=\"left\")\n",
    "str_negative = spearman[\"Price\"].between(-0.89, -0.68, inclusive=\"right\")\n",
    "\n",
    "v_str_positive = spearman[\"Price\"] >= 0.89\n",
    "v_str_negative = spearman[\"Price\"] <= -0.89"
   ],
   "metadata": {
    "collapsed": false,
    "ExecuteTime": {
     "end_time": "2024-01-30T10:26:58.149181Z",
     "start_time": "2024-01-30T10:26:55.118241Z"
    }
   },
   "id": "3385bd858f7c05b8",
   "execution_count": 12
  },
  {
   "cell_type": "code",
   "outputs": [],
   "source": [
    "spearman_weak = spearman[weak_positive | weak_negative][\"Price\"]\n",
    "spearman_mod = spearman[mod_positive | mod_negative][\"Price\"]\n",
    "spearman_str = spearman[str_positive | str_negative][\"Price\"]\n",
    "spearman_v_str = spearman[v_str_positive | v_str_negative][\"Price\"]"
   ],
   "metadata": {
    "collapsed": false,
    "ExecuteTime": {
     "end_time": "2024-01-30T10:26:59.233774Z",
     "start_time": "2024-01-30T10:26:59.203548Z"
    }
   },
   "id": "b06db1cfc509e761",
   "execution_count": 13
  },
  {
   "cell_type": "code",
   "outputs": [
    {
     "data": {
      "text/plain": "Reg_Year    0.735516\nName: Price, dtype: float64"
     },
     "execution_count": 14,
     "metadata": {},
     "output_type": "execute_result"
    }
   ],
   "source": [
    "spearman_str"
   ],
   "metadata": {
    "collapsed": false,
    "ExecuteTime": {
     "end_time": "2024-01-30T10:27:01.096230Z",
     "start_time": "2024-01-30T10:27:01.062617Z"
    }
   },
   "id": "b070b1ae1be7ea31",
   "execution_count": 14
  },
  {
   "cell_type": "code",
   "outputs": [
    {
     "data": {
      "text/plain": "Engine_Power    0.580741\nLength          0.482357\nTop_Speed       0.458331\nWidth           0.454906\nWheelbase       0.441040\nEngine_Size     0.439399\nMileage        -0.665604\nName: Price, dtype: float64"
     },
     "execution_count": 15,
     "metadata": {},
     "output_type": "execute_result"
    }
   ],
   "source": [
    "spearman_mod.sort_values(ascending=False)"
   ],
   "metadata": {
    "collapsed": false,
    "ExecuteTime": {
     "end_time": "2024-01-30T10:27:02.526387Z",
     "start_time": "2024-01-30T10:27:02.481891Z"
    }
   },
   "id": "f56f3481b8982431",
   "execution_count": 15
  },
  {
   "cell_type": "markdown",
   "source": [
    "#### Correlation significance test"
   ],
   "metadata": {
    "collapsed": false
   },
   "id": "84fe509ed82cf124"
  },
  {
   "cell_type": "code",
   "outputs": [
    {
     "data": {
      "text/plain": "SignificanceResult(statistic=0.7355158764918075, pvalue=0.0)"
     },
     "execution_count": 16,
     "metadata": {},
     "output_type": "execute_result"
    }
   ],
   "source": [
    "stats.spearmanr(df[\"Price\"], df[\"Reg_Year\"], nan_policy=\"omit\")"
   ],
   "metadata": {
    "collapsed": false,
    "ExecuteTime": {
     "end_time": "2024-01-30T10:27:15.973140Z",
     "start_time": "2024-01-30T10:27:10.584088Z"
    }
   },
   "id": "13fa68ab8bdbf0b3",
   "execution_count": 16
  },
  {
   "cell_type": "code",
   "outputs": [
    {
     "data": {
      "text/plain": "SignificanceResult(statistic=-0.6656039321682224, pvalue=0.0)"
     },
     "execution_count": 17,
     "metadata": {},
     "output_type": "execute_result"
    }
   ],
   "source": [
    "stats.spearmanr(df[\"Price\"], df[\"Mileage\"], nan_policy=\"omit\")"
   ],
   "metadata": {
    "collapsed": false,
    "ExecuteTime": {
     "end_time": "2024-01-30T10:27:41.287427Z",
     "start_time": "2024-01-30T10:27:17.363904Z"
    }
   },
   "id": "dc9729a2890920c7",
   "execution_count": 17
  },
  {
   "cell_type": "code",
   "outputs": [
    {
     "data": {
      "text/plain": "SignificanceResult(statistic=0.5807410645830855, pvalue=0.0)"
     },
     "execution_count": 18,
     "metadata": {},
     "output_type": "execute_result"
    }
   ],
   "source": [
    "stats.spearmanr(df[\"Price\"], df[\"Engine_Power\"], nan_policy=\"omit\")"
   ],
   "metadata": {
    "collapsed": false,
    "ExecuteTime": {
     "end_time": "2024-01-30T10:27:48.450418Z",
     "start_time": "2024-01-30T10:27:43.918681Z"
    }
   },
   "id": "e0593432160edc86",
   "execution_count": 18
  },
  {
   "cell_type": "code",
   "outputs": [
    {
     "data": {
      "text/plain": "SignificanceResult(statistic=0.482357341044973, pvalue=0.0)"
     },
     "execution_count": 19,
     "metadata": {},
     "output_type": "execute_result"
    }
   ],
   "source": [
    "stats.spearmanr(df[\"Price\"], df[\"Length\"], nan_policy=\"omit\")"
   ],
   "metadata": {
    "collapsed": false,
    "ExecuteTime": {
     "end_time": "2024-01-30T10:27:54.638497Z",
     "start_time": "2024-01-30T10:27:49.627985Z"
    }
   },
   "id": "e27657e00a4e5b6c",
   "execution_count": 19
  },
  {
   "cell_type": "code",
   "outputs": [
    {
     "data": {
      "text/plain": "SignificanceResult(statistic=0.4583309002586669, pvalue=0.0)"
     },
     "execution_count": 20,
     "metadata": {},
     "output_type": "execute_result"
    }
   ],
   "source": [
    "stats.spearmanr(df[\"Price\"], df[\"Top_Speed\"], nan_policy=\"omit\")"
   ],
   "metadata": {
    "collapsed": false,
    "ExecuteTime": {
     "end_time": "2024-01-30T10:27:59.536639Z",
     "start_time": "2024-01-30T10:27:55.479252Z"
    }
   },
   "id": "b10daa8a1ca3f52e",
   "execution_count": 20
  },
  {
   "cell_type": "code",
   "outputs": [
    {
     "data": {
      "text/plain": "SignificanceResult(statistic=0.4549064360385548, pvalue=0.0)"
     },
     "execution_count": 21,
     "metadata": {},
     "output_type": "execute_result"
    }
   ],
   "source": [
    "stats.spearmanr(df[\"Price\"], df[\"Width\"], nan_policy=\"omit\")"
   ],
   "metadata": {
    "collapsed": false,
    "ExecuteTime": {
     "end_time": "2024-01-30T10:28:05.026260Z",
     "start_time": "2024-01-30T10:28:00.321701Z"
    }
   },
   "id": "ccd1c01ed513bf0e",
   "execution_count": 21
  },
  {
   "cell_type": "code",
   "outputs": [
    {
     "data": {
      "text/plain": "SignificanceResult(statistic=0.44104003589368684, pvalue=0.0)"
     },
     "execution_count": 22,
     "metadata": {},
     "output_type": "execute_result"
    }
   ],
   "source": [
    "stats.spearmanr(df[\"Price\"], df[\"Wheelbase\"], nan_policy=\"omit\")"
   ],
   "metadata": {
    "collapsed": false,
    "ExecuteTime": {
     "end_time": "2024-01-30T10:28:10.318198Z",
     "start_time": "2024-01-30T10:28:05.984301Z"
    }
   },
   "id": "f529364b5b761480",
   "execution_count": 22
  },
  {
   "cell_type": "code",
   "outputs": [
    {
     "data": {
      "text/plain": "SignificanceResult(statistic=0.4393991133398473, pvalue=0.0)"
     },
     "execution_count": 23,
     "metadata": {},
     "output_type": "execute_result"
    }
   ],
   "source": [
    "stats.spearmanr(df[\"Price\"], df[\"Engine_Size\"], nan_policy=\"omit\")"
   ],
   "metadata": {
    "collapsed": false,
    "ExecuteTime": {
     "end_time": "2024-01-30T10:28:16.720136Z",
     "start_time": "2024-01-30T10:28:11.069793Z"
    }
   },
   "id": "71c910849940b58a",
   "execution_count": 23
  },
  {
   "cell_type": "markdown",
   "source": [
    "## Categorical features' influence on Price"
   ],
   "metadata": {
    "collapsed": false
   },
   "id": "b333cf01442fde6a"
  },
  {
   "cell_type": "markdown",
   "source": [
    "### Kruskal-Wallis H-test due to not-normally distributed Price variable"
   ],
   "metadata": {
    "collapsed": false
   },
   "id": "7d86d4ed9f62cf56"
  },
  {
   "cell_type": "code",
   "outputs": [],
   "source": [
    "def write_names(category):\n",
    "    values = df[category].unique()\n",
    "    names = {}\n",
    "    numbers = {}\n",
    "    cat_nr = 1\n",
    "    for name in values:\n",
    "        if name != np.nan:\n",
    "            numbers[name] = cat_nr\n",
    "            names[cat_nr] = name\n",
    "            cat_nr += 1      \n",
    "    return numbers, names\n",
    "\n",
    "\n",
    "def swap(category, col_dict):\n",
    "    return df[category].apply(lambda x : col_dict[x])"
   ],
   "metadata": {
    "collapsed": false,
    "ExecuteTime": {
     "end_time": "2024-01-30T10:28:30.431296Z",
     "start_time": "2024-01-30T10:28:30.400585Z"
    }
   },
   "id": "50653e926a26b100",
   "execution_count": 24
  },
  {
   "cell_type": "markdown",
   "source": [
    "Gearbox_Type"
   ],
   "metadata": {
    "collapsed": false
   },
   "id": "dca7f1f1c7287e65"
  },
  {
   "cell_type": "code",
   "outputs": [],
   "source": [
    "to_num, to_cat = write_names(\"Gearbox_Type\")"
   ],
   "metadata": {
    "collapsed": false,
    "ExecuteTime": {
     "end_time": "2024-01-30T14:57:43.822999Z",
     "start_time": "2024-01-30T14:57:43.794181Z"
    }
   },
   "id": "7b399dd1854decb5",
   "execution_count": 59
  },
  {
   "cell_type": "code",
   "outputs": [],
   "source": [
    "df[\"Gearbox_Type\"] = swap(\"Gearbox_Type\", to_num)"
   ],
   "metadata": {
    "collapsed": false,
    "ExecuteTime": {
     "end_time": "2024-01-30T14:57:45.603279Z",
     "start_time": "2024-01-30T14:57:45.572016Z"
    }
   },
   "id": "bd97271183742f01",
   "execution_count": 60
  },
  {
   "cell_type": "code",
   "outputs": [
    {
     "data": {
      "text/plain": "KruskalResult(statistic=417463.18889256084, pvalue=0.0)"
     },
     "execution_count": 61,
     "metadata": {},
     "output_type": "execute_result"
    }
   ],
   "source": [
    "stats.kruskal(df[\"Price\"], df[\"Gearbox_Type\"], nan_policy=\"omit\")"
   ],
   "metadata": {
    "collapsed": false,
    "ExecuteTime": {
     "end_time": "2024-01-30T14:57:47.782521Z",
     "start_time": "2024-01-30T14:57:47.657256Z"
    }
   },
   "id": "ce7b0002be78c866",
   "execution_count": 61
  },
  {
   "cell_type": "code",
   "outputs": [
    {
     "data": {
      "text/plain": "{'Automatic': 1, 'Semi-Automatic': 2, 'Manual': 3, nan: 4}"
     },
     "execution_count": 63,
     "metadata": {},
     "output_type": "execute_result"
    }
   ],
   "source": [
    "to_num"
   ],
   "metadata": {
    "collapsed": false,
    "ExecuteTime": {
     "end_time": "2024-01-30T14:58:38.672724Z",
     "start_time": "2024-01-30T14:58:38.654126Z"
    }
   },
   "id": "e106021488eebb17",
   "execution_count": 63
  },
  {
   "cell_type": "code",
   "outputs": [],
   "source": [
    "a = df[df[\"Gearbox_Type\"] == 1]\n",
    "sa = df[df[\"Gearbox_Type\"] == 2]\n",
    "m = df[df[\"Gearbox_Type\"] == 3]"
   ],
   "metadata": {
    "collapsed": false,
    "ExecuteTime": {
     "end_time": "2024-01-30T14:59:16.182387Z",
     "start_time": "2024-01-30T14:59:16.129717Z"
    }
   },
   "id": "4cccd5a23063e039",
   "execution_count": 64
  },
  {
   "cell_type": "code",
   "outputs": [
    {
     "data": {
      "text/plain": "KruskalResult(statistic=61427.93397669031, pvalue=0.0)"
     },
     "execution_count": 65,
     "metadata": {},
     "output_type": "execute_result"
    }
   ],
   "source": [
    "stats.kruskal(a[\"Price\"], sa[\"Price\"], m[\"Price\"], nan_policy=\"omit\")"
   ],
   "metadata": {
    "collapsed": false,
    "ExecuteTime": {
     "end_time": "2024-01-30T14:59:39.841585Z",
     "start_time": "2024-01-30T14:59:39.769772Z"
    }
   },
   "id": "3b0eb411f4ea5c5a",
   "execution_count": 65
  },
  {
   "cell_type": "code",
   "outputs": [
    {
     "data": {
      "text/plain": "KruskalResult(statistic=61232.713394955135, pvalue=0.0)"
     },
     "execution_count": 67,
     "metadata": {},
     "output_type": "execute_result"
    }
   ],
   "source": [
    "stats.kruskal(a[\"Price\"], m[\"Price\"], nan_policy=\"omit\")"
   ],
   "metadata": {
    "collapsed": false,
    "ExecuteTime": {
     "end_time": "2024-01-30T15:02:56.883198Z",
     "start_time": "2024-01-30T15:02:56.813225Z"
    }
   },
   "id": "1ce150c20fa0f321",
   "execution_count": 67
  },
  {
   "cell_type": "code",
   "outputs": [
    {
     "data": {
      "text/plain": "KruskalResult(statistic=124.10416413688691, pvalue=7.993527227514507e-29)"
     },
     "execution_count": 66,
     "metadata": {},
     "output_type": "execute_result"
    }
   ],
   "source": [
    "stats.kruskal(a[\"Price\"], sa[\"Price\"], nan_policy=\"omit\")"
   ],
   "metadata": {
    "collapsed": false,
    "ExecuteTime": {
     "end_time": "2024-01-30T15:02:32.771906Z",
     "start_time": "2024-01-30T15:02:32.736609Z"
    }
   },
   "id": "8518e9442acf520",
   "execution_count": 66
  },
  {
   "cell_type": "code",
   "outputs": [],
   "source": [
    "df[\"Gearbox_Type\"] = swap(\"Gearbox_Type\", to_cat)"
   ],
   "metadata": {
    "collapsed": false,
    "ExecuteTime": {
     "end_time": "2024-01-30T10:28:39.907855Z",
     "start_time": "2024-01-30T10:28:39.879683Z"
    }
   },
   "id": "594ef3e64be04aa1",
   "execution_count": 28
  },
  {
   "cell_type": "markdown",
   "source": [
    "Fuel Type"
   ],
   "metadata": {
    "collapsed": false
   },
   "id": "f1dfaa733b15623a"
  },
  {
   "cell_type": "code",
   "outputs": [],
   "source": [
    "to_num, to_cat = write_names(\"Fuel_Type\")"
   ],
   "metadata": {
    "collapsed": false,
    "ExecuteTime": {
     "end_time": "2024-01-30T10:28:42.369307Z",
     "start_time": "2024-01-30T10:28:42.355475Z"
    }
   },
   "id": "aed744461d41ed15",
   "execution_count": 29
  },
  {
   "cell_type": "code",
   "outputs": [],
   "source": [
    "df[\"Fuel_Type\"] = swap(\"Fuel_Type\", to_num)"
   ],
   "metadata": {
    "collapsed": false,
    "ExecuteTime": {
     "end_time": "2024-01-30T10:28:42.872512Z",
     "start_time": "2024-01-30T10:28:42.832400Z"
    }
   },
   "id": "5694b0ac4fe95f1e",
   "execution_count": 30
  },
  {
   "cell_type": "code",
   "outputs": [
    {
     "data": {
      "text/plain": "KruskalResult(statistic=413107.40276462416, pvalue=0.0)"
     },
     "execution_count": 31,
     "metadata": {},
     "output_type": "execute_result"
    }
   ],
   "source": [
    "stats.kruskal(df[\"Price\"], df[\"Fuel_Type\"], nan_policy=\"omit\")"
   ],
   "metadata": {
    "collapsed": false,
    "ExecuteTime": {
     "end_time": "2024-01-30T10:28:43.655992Z",
     "start_time": "2024-01-30T10:28:43.541403Z"
    }
   },
   "id": "bd489767ac35f3bd",
   "execution_count": 31
  },
  {
   "cell_type": "code",
   "outputs": [],
   "source": [
    "df[\"Fuel_Type\"] = swap(\"Fuel_Type\", to_cat)"
   ],
   "metadata": {
    "collapsed": false,
    "ExecuteTime": {
     "end_time": "2024-01-30T10:28:44.684767Z",
     "start_time": "2024-01-30T10:28:44.648098Z"
    }
   },
   "id": "5933d807a08e457b",
   "execution_count": 32
  },
  {
   "cell_type": "markdown",
   "source": [
    "Maker"
   ],
   "metadata": {
    "collapsed": false
   },
   "id": "a84a5de3096429a6"
  },
  {
   "cell_type": "code",
   "outputs": [],
   "source": [
    "to_num, to_cat = write_names(\"Maker\")"
   ],
   "metadata": {
    "collapsed": false,
    "ExecuteTime": {
     "end_time": "2024-01-30T10:28:47.328181Z",
     "start_time": "2024-01-30T10:28:47.304930Z"
    }
   },
   "id": "b6d3c1a39f1b4511",
   "execution_count": 33
  },
  {
   "cell_type": "code",
   "outputs": [],
   "source": [
    "df[\"Maker\"] = swap(\"Maker\", to_num)"
   ],
   "metadata": {
    "collapsed": false,
    "ExecuteTime": {
     "end_time": "2024-01-30T10:28:47.834276Z",
     "start_time": "2024-01-30T10:28:47.823359Z"
    }
   },
   "id": "bad53a57a5b13681",
   "execution_count": 34
  },
  {
   "cell_type": "code",
   "outputs": [
    {
     "data": {
      "text/plain": "KruskalResult(statistic=401676.6562261765, pvalue=0.0)"
     },
     "execution_count": 35,
     "metadata": {},
     "output_type": "execute_result"
    }
   ],
   "source": [
    "stats.kruskal(df[\"Price\"], df[\"Maker\"], nan_policy=\"omit\")"
   ],
   "metadata": {
    "collapsed": false,
    "ExecuteTime": {
     "end_time": "2024-01-30T10:28:48.303748Z",
     "start_time": "2024-01-30T10:28:48.204729Z"
    }
   },
   "id": "5deade0ce2473442",
   "execution_count": 35
  },
  {
   "cell_type": "code",
   "outputs": [],
   "source": [
    "df[\"Maker\"] = swap(\"Maker\", to_cat)"
   ],
   "metadata": {
    "collapsed": false,
    "ExecuteTime": {
     "end_time": "2024-01-30T10:28:49.122999Z",
     "start_time": "2024-01-30T10:28:49.094415Z"
    }
   },
   "id": "e7c4dbc06dcf0b42",
   "execution_count": 36
  },
  {
   "cell_type": "markdown",
   "source": [
    "Genmodel"
   ],
   "metadata": {
    "collapsed": false
   },
   "id": "b66c0ac523172683"
  },
  {
   "cell_type": "code",
   "outputs": [],
   "source": [
    "to_num, to_cat = write_names(\"Genmodel\")"
   ],
   "metadata": {
    "collapsed": false,
    "ExecuteTime": {
     "end_time": "2024-01-30T10:28:50.207572Z",
     "start_time": "2024-01-30T10:28:50.158314Z"
    }
   },
   "id": "28f99a20019be680",
   "execution_count": 37
  },
  {
   "cell_type": "code",
   "outputs": [],
   "source": [
    "df[\"Genmodel\"] = swap(\"Genmodel\", to_num)"
   ],
   "metadata": {
    "collapsed": false,
    "ExecuteTime": {
     "end_time": "2024-01-30T10:28:50.696793Z",
     "start_time": "2024-01-30T10:28:50.620460Z"
    }
   },
   "id": "cb7de3c4d12b1d19",
   "execution_count": 38
  },
  {
   "cell_type": "code",
   "outputs": [
    {
     "data": {
      "text/plain": "KruskalResult(statistic=391945.5574246298, pvalue=0.0)"
     },
     "execution_count": 39,
     "metadata": {},
     "output_type": "execute_result"
    }
   ],
   "source": [
    "stats.kruskal(df[\"Price\"], df[\"Genmodel\"], nan_policy=\"omit\")"
   ],
   "metadata": {
    "collapsed": false,
    "ExecuteTime": {
     "end_time": "2024-01-30T10:28:51.048166Z",
     "start_time": "2024-01-30T10:28:50.947698Z"
    }
   },
   "id": "2dc640114ad51c6a",
   "execution_count": 39
  },
  {
   "cell_type": "code",
   "outputs": [],
   "source": [
    "df[\"Genmodel\"] = swap(\"Genmodel\", to_cat)"
   ],
   "metadata": {
    "collapsed": false,
    "ExecuteTime": {
     "end_time": "2024-01-30T10:28:51.426744Z",
     "start_time": "2024-01-30T10:28:51.421031Z"
    }
   },
   "id": "57f84ab6f2b87e02",
   "execution_count": 40
  },
  {
   "cell_type": "markdown",
   "source": [
    "Adv_Year"
   ],
   "metadata": {
    "collapsed": false
   },
   "id": "ae6dc94f145b459a"
  },
  {
   "cell_type": "code",
   "outputs": [],
   "source": [
    "to_num, to_cat = write_names(\"Adv_Year\")"
   ],
   "metadata": {
    "collapsed": false,
    "ExecuteTime": {
     "end_time": "2024-01-30T10:28:52.360060Z",
     "start_time": "2024-01-30T10:28:52.348465Z"
    }
   },
   "id": "eb3650106d9d8a0b",
   "execution_count": 41
  },
  {
   "cell_type": "code",
   "outputs": [],
   "source": [
    "df[\"Adv_Year\"] = swap(\"Adv_Year\", to_num)"
   ],
   "metadata": {
    "collapsed": false,
    "ExecuteTime": {
     "end_time": "2024-01-30T10:28:52.924403Z",
     "start_time": "2024-01-30T10:28:52.869932Z"
    }
   },
   "id": "9d7f23a41efb76da",
   "execution_count": 42
  },
  {
   "cell_type": "code",
   "outputs": [
    {
     "data": {
      "text/plain": "KruskalResult(statistic=441273.48909218324, pvalue=0.0)"
     },
     "execution_count": 43,
     "metadata": {},
     "output_type": "execute_result"
    }
   ],
   "source": [
    "stats.kruskal(df[\"Price\"], df[\"Adv_Year\"], nan_policy=\"omit\")"
   ],
   "metadata": {
    "collapsed": false,
    "ExecuteTime": {
     "end_time": "2024-01-30T10:28:53.286977Z",
     "start_time": "2024-01-30T10:28:53.180036Z"
    }
   },
   "id": "4dbf5b54d762126",
   "execution_count": 43
  },
  {
   "cell_type": "code",
   "outputs": [],
   "source": [
    "df[\"Adv_Year\"] = swap(\"Adv_Year\", to_cat)"
   ],
   "metadata": {
    "collapsed": false,
    "ExecuteTime": {
     "end_time": "2024-01-30T10:28:53.771634Z",
     "start_time": "2024-01-30T10:28:53.730225Z"
    }
   },
   "id": "5b9c04780dc6b59",
   "execution_count": 44
  },
  {
   "cell_type": "markdown",
   "source": [
    "Adv_Month"
   ],
   "metadata": {
    "collapsed": false
   },
   "id": "53b61e597800818e"
  },
  {
   "cell_type": "code",
   "outputs": [],
   "source": [
    "to_num, to_cat = write_names(\"Adv_Month\")"
   ],
   "metadata": {
    "collapsed": false,
    "ExecuteTime": {
     "end_time": "2024-01-30T10:28:54.726866Z",
     "start_time": "2024-01-30T10:28:54.696816Z"
    }
   },
   "id": "f175a80daf5a5cf8",
   "execution_count": 45
  },
  {
   "cell_type": "code",
   "outputs": [],
   "source": [
    "df[\"Adv_Month\"] = swap(\"Adv_Month\", to_num)"
   ],
   "metadata": {
    "collapsed": false,
    "ExecuteTime": {
     "end_time": "2024-01-30T10:28:55.054907Z",
     "start_time": "2024-01-30T10:28:55.040754Z"
    }
   },
   "id": "ba404c19d56b054a",
   "execution_count": 46
  },
  {
   "cell_type": "code",
   "outputs": [
    {
     "data": {
      "text/plain": "KruskalResult(statistic=403033.34923676885, pvalue=0.0)"
     },
     "execution_count": 47,
     "metadata": {},
     "output_type": "execute_result"
    }
   ],
   "source": [
    "stats.kruskal(df[\"Price\"], df[\"Adv_Month\"], nan_policy=\"omit\")"
   ],
   "metadata": {
    "collapsed": false,
    "ExecuteTime": {
     "end_time": "2024-01-30T10:28:55.568190Z",
     "start_time": "2024-01-30T10:28:55.458958Z"
    }
   },
   "id": "6805c0fdbe71560f",
   "execution_count": 47
  },
  {
   "cell_type": "code",
   "outputs": [],
   "source": [
    "df[\"Adv_Month\"] = swap(\"Adv_Month\", to_cat)"
   ],
   "metadata": {
    "collapsed": false,
    "ExecuteTime": {
     "end_time": "2024-01-30T10:28:55.947238Z",
     "start_time": "2024-01-30T10:28:55.905654Z"
    }
   },
   "id": "a84b5eebb2ef71c6",
   "execution_count": 48
  },
  {
   "cell_type": "markdown",
   "source": [
    "Color"
   ],
   "metadata": {
    "collapsed": false
   },
   "id": "6a9ef33986a3e604"
  },
  {
   "cell_type": "code",
   "outputs": [],
   "source": [
    "to_num, to_cat = write_names(\"Color\")"
   ],
   "metadata": {
    "collapsed": false,
    "ExecuteTime": {
     "end_time": "2024-01-30T10:28:56.871296Z",
     "start_time": "2024-01-30T10:28:56.846629Z"
    }
   },
   "id": "7f36604ba9ec9976",
   "execution_count": 49
  },
  {
   "cell_type": "code",
   "outputs": [],
   "source": [
    "df[\"Color\"] = swap(\"Color\", to_num)"
   ],
   "metadata": {
    "collapsed": false,
    "ExecuteTime": {
     "end_time": "2024-01-30T10:28:57.274731Z",
     "start_time": "2024-01-30T10:28:57.265963Z"
    }
   },
   "id": "fab0db7c5a92685c",
   "execution_count": 50
  },
  {
   "cell_type": "code",
   "outputs": [
    {
     "data": {
      "text/plain": "KruskalResult(statistic=402459.53175692825, pvalue=0.0)"
     },
     "execution_count": 51,
     "metadata": {},
     "output_type": "execute_result"
    }
   ],
   "source": [
    "stats.kruskal(df[\"Price\"], df[\"Color\"], nan_policy=\"omit\")"
   ],
   "metadata": {
    "collapsed": false,
    "ExecuteTime": {
     "end_time": "2024-01-30T10:28:57.676023Z",
     "start_time": "2024-01-30T10:28:57.562541Z"
    }
   },
   "id": "da2b8e46eef53191",
   "execution_count": 51
  },
  {
   "cell_type": "code",
   "outputs": [],
   "source": [
    "df[\"Color\"] = swap(\"Color\", to_cat)"
   ],
   "metadata": {
    "collapsed": false,
    "ExecuteTime": {
     "end_time": "2024-01-30T10:28:58.114197Z",
     "start_time": "2024-01-30T10:28:58.068896Z"
    }
   },
   "id": "851c5bf3c137dcf",
   "execution_count": 52
  },
  {
   "cell_type": "markdown",
   "source": [
    "Body_Type"
   ],
   "metadata": {
    "collapsed": false
   },
   "id": "7fec907f7195a90f"
  },
  {
   "cell_type": "code",
   "outputs": [],
   "source": [
    "to_num, to_cat = write_names(\"Body_Type\")"
   ],
   "metadata": {
    "collapsed": false,
    "ExecuteTime": {
     "end_time": "2024-01-30T10:28:58.953761Z",
     "start_time": "2024-01-30T10:28:58.935549Z"
    }
   },
   "id": "963d46ac609bc10e",
   "execution_count": 53
  },
  {
   "cell_type": "code",
   "outputs": [],
   "source": [
    "df[\"Body_Type\"] = swap(\"Body_Type\", to_num)"
   ],
   "metadata": {
    "collapsed": false,
    "ExecuteTime": {
     "end_time": "2024-01-30T10:28:59.466198Z",
     "start_time": "2024-01-30T10:28:59.366577Z"
    }
   },
   "id": "5fcd459f968b67f3",
   "execution_count": 54
  },
  {
   "cell_type": "code",
   "outputs": [
    {
     "data": {
      "text/plain": "KruskalResult(statistic=405266.1024670215, pvalue=0.0)"
     },
     "execution_count": 55,
     "metadata": {},
     "output_type": "execute_result"
    }
   ],
   "source": [
    "stats.kruskal(df[\"Price\"], df[\"Body_Type\"], nan_policy=\"omit\")"
   ],
   "metadata": {
    "collapsed": false,
    "ExecuteTime": {
     "end_time": "2024-01-30T10:28:59.843056Z",
     "start_time": "2024-01-30T10:28:59.739649Z"
    }
   },
   "id": "ad5cffcab8d1f57b",
   "execution_count": 55
  },
  {
   "cell_type": "code",
   "outputs": [],
   "source": [
    "df[\"Body_Type\"] = swap(\"Body_Type\", to_cat)"
   ],
   "metadata": {
    "collapsed": false,
    "ExecuteTime": {
     "end_time": "2024-01-30T10:29:00.318273Z",
     "start_time": "2024-01-30T10:29:00.275302Z"
    }
   },
   "id": "1799119d6f3045cd",
   "execution_count": 56
  },
  {
   "cell_type": "code",
   "outputs": [
    {
     "data": {
      "text/plain": "     Maker Genmodel Genmodel_ID  Adv_ID Adv_Year Adv_Month   Color Body_Type  \\\n0  Bentley   Arnage        10_1  10_1_1     2018       Apr  Silver    Saloon   \n1  Bentley   Arnage        10_1  10_1_2     2018       Jun    Grey    Saloon   \n2  Bentley   Arnage        10_1  10_1_3     2017       Nov    Blue    Saloon   \n3  Bentley   Arnage        10_1  10_1_4     2018       Apr   Green    Saloon   \n4  Bentley   Arnage        10_1  10_1_5     2017       Nov    Grey    Saloon   \n\n  Gearbox_Type Fuel_Type  ...  Engine_Power  Annual_Tax  Wheelbase  Height  \\\n0    Automatic    Petrol  ...           NaN         NaN     3116.0  1515.0   \n1    Automatic    Petrol  ...         450.0       315.0     3116.0  1515.0   \n2    Automatic    Petrol  ...         400.0       315.0     3116.0  1515.0   \n3    Automatic    Petrol  ...           NaN         NaN     3116.0  1515.0   \n4    Automatic    Petrol  ...           NaN         NaN     3116.0  1515.0   \n\n    Width  Length  Average_Mpg  Top_Speed  Seat_Num  Door_Num  \n0  2125.0  5390.0          NaN        NaN       5.0       4.0  \n1  2125.0  5390.0         13.7      179.0       5.0       4.0  \n2  2125.0  5390.0         14.7      155.0       5.0       4.0  \n3  2125.0  5390.0          NaN        NaN       5.0       4.0  \n4  2125.0  5390.0          NaN        NaN       5.0       4.0  \n\n[5 rows x 24 columns]",
      "text/html": "<div>\n<style scoped>\n    .dataframe tbody tr th:only-of-type {\n        vertical-align: middle;\n    }\n\n    .dataframe tbody tr th {\n        vertical-align: top;\n    }\n\n    .dataframe thead th {\n        text-align: right;\n    }\n</style>\n<table border=\"1\" class=\"dataframe\">\n  <thead>\n    <tr style=\"text-align: right;\">\n      <th></th>\n      <th>Maker</th>\n      <th>Genmodel</th>\n      <th>Genmodel_ID</th>\n      <th>Adv_ID</th>\n      <th>Adv_Year</th>\n      <th>Adv_Month</th>\n      <th>Color</th>\n      <th>Body_Type</th>\n      <th>Gearbox_Type</th>\n      <th>Fuel_Type</th>\n      <th>...</th>\n      <th>Engine_Power</th>\n      <th>Annual_Tax</th>\n      <th>Wheelbase</th>\n      <th>Height</th>\n      <th>Width</th>\n      <th>Length</th>\n      <th>Average_Mpg</th>\n      <th>Top_Speed</th>\n      <th>Seat_Num</th>\n      <th>Door_Num</th>\n    </tr>\n  </thead>\n  <tbody>\n    <tr>\n      <th>0</th>\n      <td>Bentley</td>\n      <td>Arnage</td>\n      <td>10_1</td>\n      <td>10_1_1</td>\n      <td>2018</td>\n      <td>Apr</td>\n      <td>Silver</td>\n      <td>Saloon</td>\n      <td>Automatic</td>\n      <td>Petrol</td>\n      <td>...</td>\n      <td>NaN</td>\n      <td>NaN</td>\n      <td>3116.0</td>\n      <td>1515.0</td>\n      <td>2125.0</td>\n      <td>5390.0</td>\n      <td>NaN</td>\n      <td>NaN</td>\n      <td>5.0</td>\n      <td>4.0</td>\n    </tr>\n    <tr>\n      <th>1</th>\n      <td>Bentley</td>\n      <td>Arnage</td>\n      <td>10_1</td>\n      <td>10_1_2</td>\n      <td>2018</td>\n      <td>Jun</td>\n      <td>Grey</td>\n      <td>Saloon</td>\n      <td>Automatic</td>\n      <td>Petrol</td>\n      <td>...</td>\n      <td>450.0</td>\n      <td>315.0</td>\n      <td>3116.0</td>\n      <td>1515.0</td>\n      <td>2125.0</td>\n      <td>5390.0</td>\n      <td>13.7</td>\n      <td>179.0</td>\n      <td>5.0</td>\n      <td>4.0</td>\n    </tr>\n    <tr>\n      <th>2</th>\n      <td>Bentley</td>\n      <td>Arnage</td>\n      <td>10_1</td>\n      <td>10_1_3</td>\n      <td>2017</td>\n      <td>Nov</td>\n      <td>Blue</td>\n      <td>Saloon</td>\n      <td>Automatic</td>\n      <td>Petrol</td>\n      <td>...</td>\n      <td>400.0</td>\n      <td>315.0</td>\n      <td>3116.0</td>\n      <td>1515.0</td>\n      <td>2125.0</td>\n      <td>5390.0</td>\n      <td>14.7</td>\n      <td>155.0</td>\n      <td>5.0</td>\n      <td>4.0</td>\n    </tr>\n    <tr>\n      <th>3</th>\n      <td>Bentley</td>\n      <td>Arnage</td>\n      <td>10_1</td>\n      <td>10_1_4</td>\n      <td>2018</td>\n      <td>Apr</td>\n      <td>Green</td>\n      <td>Saloon</td>\n      <td>Automatic</td>\n      <td>Petrol</td>\n      <td>...</td>\n      <td>NaN</td>\n      <td>NaN</td>\n      <td>3116.0</td>\n      <td>1515.0</td>\n      <td>2125.0</td>\n      <td>5390.0</td>\n      <td>NaN</td>\n      <td>NaN</td>\n      <td>5.0</td>\n      <td>4.0</td>\n    </tr>\n    <tr>\n      <th>4</th>\n      <td>Bentley</td>\n      <td>Arnage</td>\n      <td>10_1</td>\n      <td>10_1_5</td>\n      <td>2017</td>\n      <td>Nov</td>\n      <td>Grey</td>\n      <td>Saloon</td>\n      <td>Automatic</td>\n      <td>Petrol</td>\n      <td>...</td>\n      <td>NaN</td>\n      <td>NaN</td>\n      <td>3116.0</td>\n      <td>1515.0</td>\n      <td>2125.0</td>\n      <td>5390.0</td>\n      <td>NaN</td>\n      <td>NaN</td>\n      <td>5.0</td>\n      <td>4.0</td>\n    </tr>\n  </tbody>\n</table>\n<p>5 rows × 24 columns</p>\n</div>"
     },
     "execution_count": 57,
     "metadata": {},
     "output_type": "execute_result"
    }
   ],
   "source": [
    "df.head()"
   ],
   "metadata": {
    "collapsed": false,
    "ExecuteTime": {
     "end_time": "2024-01-30T10:29:02.054353Z",
     "start_time": "2024-01-30T10:29:02.028760Z"
    }
   },
   "id": "4e5ed625ebd9327e",
   "execution_count": 57
  },
  {
   "cell_type": "markdown",
   "source": [
    "## ANOVA"
   ],
   "metadata": {
    "collapsed": false
   },
   "id": "36bc3478640d1cf3"
  },
  {
   "cell_type": "code",
   "outputs": [
    {
     "ename": "ValueError",
     "evalue": "could not convert string to float: 'Apr'",
     "output_type": "error",
     "traceback": [
      "\u001B[0;31m---------------------------------------------------------------------------\u001B[0m",
      "\u001B[0;31mValueError\u001B[0m                                Traceback (most recent call last)",
      "Cell \u001B[0;32mIn[58], line 1\u001B[0m\n\u001B[0;32m----> 1\u001B[0m \u001B[43mstats\u001B[49m\u001B[38;5;241;43m.\u001B[39;49m\u001B[43mf_oneway\u001B[49m\u001B[43m(\u001B[49m\u001B[43mdf\u001B[49m\u001B[43m[\u001B[49m\u001B[38;5;124;43m\"\u001B[39;49m\u001B[38;5;124;43mPrice\u001B[39;49m\u001B[38;5;124;43m\"\u001B[39;49m\u001B[43m]\u001B[49m\u001B[43m,\u001B[49m\u001B[43m \u001B[49m\u001B[43mdf\u001B[49m\u001B[43m[\u001B[49m\u001B[38;5;124;43m\"\u001B[39;49m\u001B[38;5;124;43mAdv_Month\u001B[39;49m\u001B[38;5;124;43m\"\u001B[39;49m\u001B[43m]\u001B[49m\u001B[43m)\u001B[49m\n",
      "File \u001B[0;32m~/PycharmProjects/udemy_python_course/.venv/lib/python3.12/site-packages/scipy/stats/_stats_py.py:4118\u001B[0m, in \u001B[0;36mf_oneway\u001B[0;34m(axis, *samples)\u001B[0m\n\u001B[1;32m   4114\u001B[0m \u001B[38;5;28;01mif\u001B[39;00m \u001B[38;5;28mlen\u001B[39m(samples) \u001B[38;5;241m<\u001B[39m \u001B[38;5;241m2\u001B[39m:\n\u001B[1;32m   4115\u001B[0m     \u001B[38;5;28;01mraise\u001B[39;00m \u001B[38;5;167;01mTypeError\u001B[39;00m(\u001B[38;5;124m'\u001B[39m\u001B[38;5;124mat least two inputs are required;\u001B[39m\u001B[38;5;124m'\u001B[39m\n\u001B[1;32m   4116\u001B[0m                     \u001B[38;5;124mf\u001B[39m\u001B[38;5;124m'\u001B[39m\u001B[38;5;124m got \u001B[39m\u001B[38;5;132;01m{\u001B[39;00m\u001B[38;5;28mlen\u001B[39m(samples)\u001B[38;5;132;01m}\u001B[39;00m\u001B[38;5;124m.\u001B[39m\u001B[38;5;124m'\u001B[39m)\n\u001B[0;32m-> 4118\u001B[0m samples \u001B[38;5;241m=\u001B[39m [\u001B[43mnp\u001B[49m\u001B[38;5;241;43m.\u001B[39;49m\u001B[43masarray\u001B[49m\u001B[43m(\u001B[49m\u001B[43msample\u001B[49m\u001B[43m,\u001B[49m\u001B[43m \u001B[49m\u001B[43mdtype\u001B[49m\u001B[38;5;241;43m=\u001B[39;49m\u001B[38;5;28;43mfloat\u001B[39;49m\u001B[43m)\u001B[49m \u001B[38;5;28;01mfor\u001B[39;00m sample \u001B[38;5;129;01min\u001B[39;00m samples]\n\u001B[1;32m   4120\u001B[0m \u001B[38;5;66;03m# ANOVA on N groups, each in its own array\u001B[39;00m\n\u001B[1;32m   4121\u001B[0m num_groups \u001B[38;5;241m=\u001B[39m \u001B[38;5;28mlen\u001B[39m(samples)\n",
      "File \u001B[0;32m~/PycharmProjects/udemy_python_course/.venv/lib/python3.12/site-packages/pandas/core/series.py:953\u001B[0m, in \u001B[0;36mSeries.__array__\u001B[0;34m(self, dtype)\u001B[0m\n\u001B[1;32m    906\u001B[0m \u001B[38;5;250m\u001B[39m\u001B[38;5;124;03m\"\"\"\u001B[39;00m\n\u001B[1;32m    907\u001B[0m \u001B[38;5;124;03mReturn the values as a NumPy array.\u001B[39;00m\n\u001B[1;32m    908\u001B[0m \n\u001B[0;32m   (...)\u001B[0m\n\u001B[1;32m    950\u001B[0m \u001B[38;5;124;03m      dtype='datetime64[ns]')\u001B[39;00m\n\u001B[1;32m    951\u001B[0m \u001B[38;5;124;03m\"\"\"\u001B[39;00m\n\u001B[1;32m    952\u001B[0m values \u001B[38;5;241m=\u001B[39m \u001B[38;5;28mself\u001B[39m\u001B[38;5;241m.\u001B[39m_values\n\u001B[0;32m--> 953\u001B[0m arr \u001B[38;5;241m=\u001B[39m \u001B[43mnp\u001B[49m\u001B[38;5;241;43m.\u001B[39;49m\u001B[43masarray\u001B[49m\u001B[43m(\u001B[49m\u001B[43mvalues\u001B[49m\u001B[43m,\u001B[49m\u001B[43m \u001B[49m\u001B[43mdtype\u001B[49m\u001B[38;5;241;43m=\u001B[39;49m\u001B[43mdtype\u001B[49m\u001B[43m)\u001B[49m\n\u001B[1;32m    954\u001B[0m \u001B[38;5;28;01mif\u001B[39;00m using_copy_on_write() \u001B[38;5;129;01mand\u001B[39;00m astype_is_view(values\u001B[38;5;241m.\u001B[39mdtype, arr\u001B[38;5;241m.\u001B[39mdtype):\n\u001B[1;32m    955\u001B[0m     arr \u001B[38;5;241m=\u001B[39m arr\u001B[38;5;241m.\u001B[39mview()\n",
      "File \u001B[0;32m~/PycharmProjects/udemy_python_course/.venv/lib/python3.12/site-packages/pandas/core/arrays/_mixins.py:80\u001B[0m, in \u001B[0;36mravel_compat.<locals>.method\u001B[0;34m(self, *args, **kwargs)\u001B[0m\n\u001B[1;32m     77\u001B[0m \u001B[38;5;129m@wraps\u001B[39m(meth)\n\u001B[1;32m     78\u001B[0m \u001B[38;5;28;01mdef\u001B[39;00m \u001B[38;5;21mmethod\u001B[39m(\u001B[38;5;28mself\u001B[39m, \u001B[38;5;241m*\u001B[39margs, \u001B[38;5;241m*\u001B[39m\u001B[38;5;241m*\u001B[39mkwargs):\n\u001B[1;32m     79\u001B[0m     \u001B[38;5;28;01mif\u001B[39;00m \u001B[38;5;28mself\u001B[39m\u001B[38;5;241m.\u001B[39mndim \u001B[38;5;241m==\u001B[39m \u001B[38;5;241m1\u001B[39m:\n\u001B[0;32m---> 80\u001B[0m         \u001B[38;5;28;01mreturn\u001B[39;00m \u001B[43mmeth\u001B[49m\u001B[43m(\u001B[49m\u001B[38;5;28;43mself\u001B[39;49m\u001B[43m,\u001B[49m\u001B[43m \u001B[49m\u001B[38;5;241;43m*\u001B[39;49m\u001B[43margs\u001B[49m\u001B[43m,\u001B[49m\u001B[43m \u001B[49m\u001B[38;5;241;43m*\u001B[39;49m\u001B[38;5;241;43m*\u001B[39;49m\u001B[43mkwargs\u001B[49m\u001B[43m)\u001B[49m\n\u001B[1;32m     82\u001B[0m     flags \u001B[38;5;241m=\u001B[39m \u001B[38;5;28mself\u001B[39m\u001B[38;5;241m.\u001B[39m_ndarray\u001B[38;5;241m.\u001B[39mflags\n\u001B[1;32m     83\u001B[0m     flat \u001B[38;5;241m=\u001B[39m \u001B[38;5;28mself\u001B[39m\u001B[38;5;241m.\u001B[39mravel(\u001B[38;5;124m\"\u001B[39m\u001B[38;5;124mK\u001B[39m\u001B[38;5;124m\"\u001B[39m)\n",
      "File \u001B[0;32m~/PycharmProjects/udemy_python_course/.venv/lib/python3.12/site-packages/pandas/core/arrays/categorical.py:1635\u001B[0m, in \u001B[0;36mCategorical.__array__\u001B[0;34m(self, dtype)\u001B[0m\n\u001B[1;32m   1633\u001B[0m ret \u001B[38;5;241m=\u001B[39m take_nd(\u001B[38;5;28mself\u001B[39m\u001B[38;5;241m.\u001B[39mcategories\u001B[38;5;241m.\u001B[39m_values, \u001B[38;5;28mself\u001B[39m\u001B[38;5;241m.\u001B[39m_codes)\n\u001B[1;32m   1634\u001B[0m \u001B[38;5;28;01mif\u001B[39;00m dtype \u001B[38;5;129;01mand\u001B[39;00m np\u001B[38;5;241m.\u001B[39mdtype(dtype) \u001B[38;5;241m!=\u001B[39m \u001B[38;5;28mself\u001B[39m\u001B[38;5;241m.\u001B[39mcategories\u001B[38;5;241m.\u001B[39mdtype:\n\u001B[0;32m-> 1635\u001B[0m     \u001B[38;5;28;01mreturn\u001B[39;00m \u001B[43mnp\u001B[49m\u001B[38;5;241;43m.\u001B[39;49m\u001B[43masarray\u001B[49m\u001B[43m(\u001B[49m\u001B[43mret\u001B[49m\u001B[43m,\u001B[49m\u001B[43m \u001B[49m\u001B[43mdtype\u001B[49m\u001B[43m)\u001B[49m\n\u001B[1;32m   1636\u001B[0m \u001B[38;5;66;03m# When we're a Categorical[ExtensionArray], like Interval,\u001B[39;00m\n\u001B[1;32m   1637\u001B[0m \u001B[38;5;66;03m# we need to ensure __array__ gets all the way to an\u001B[39;00m\n\u001B[1;32m   1638\u001B[0m \u001B[38;5;66;03m# ndarray.\u001B[39;00m\n\u001B[1;32m   1639\u001B[0m \u001B[38;5;28;01mreturn\u001B[39;00m np\u001B[38;5;241m.\u001B[39masarray(ret)\n",
      "\u001B[0;31mValueError\u001B[0m: could not convert string to float: 'Apr'"
     ]
    }
   ],
   "source": [
    "stats.f_oneway(df[\"Price\"], df[\"Adv_Month\"])"
   ],
   "metadata": {
    "collapsed": false,
    "ExecuteTime": {
     "end_time": "2024-01-30T10:29:13.800126Z",
     "start_time": "2024-01-30T10:29:13.146827Z"
    }
   },
   "id": "e2c5852cd5b297c1",
   "execution_count": 58
  },
  {
   "cell_type": "markdown",
   "source": [
    "### Kendall correlations\n",
    "Non-parametric rank-based test. No assumptions about distributions, but variables should have the same sample sizes (N)."
   ],
   "metadata": {
    "collapsed": false
   },
   "id": "e88fdae16329bebb"
  },
  {
   "cell_type": "code",
   "outputs": [],
   "source": [
    "kendall = df.corr(method=\"kendall\", numeric_only=True)\n",
    "\n",
    "weak_positive = kendall[\"Price\"].between(0.06, 0.26, inclusive=\"left\")\n",
    "weak_negative = kendall[\"Price\"].between(-0.26, -0.06, inclusive=\"right\")\n",
    "\n",
    "mod_positive = kendall[\"Price\"].between(0.26, 0.49, inclusive=\"left\")\n",
    "mod_negative = kendall[\"Price\"].between(-0.49, -0.26, inclusive=\"right\")\n",
    "\n",
    "str_positive = kendall[\"Price\"].between(0.49, 0.1, inclusive=\"left\")\n",
    "str_negative = kendall[\"Price\"].between(-0.71, -0.49, inclusive=\"right\")\n",
    "\n",
    "v_str_positive = kendall[\"Price\"] >= 0.71\n",
    "v_str_negative = kendall[\"Price\"] <= -0.71"
   ],
   "metadata": {
    "collapsed": false,
    "ExecuteTime": {
     "end_time": "2024-01-25T15:27:05.636302Z",
     "start_time": "2024-01-25T15:27:02.511599Z"
    }
   },
   "id": "b2ffee3d93d5f557",
   "execution_count": 56
  },
  {
   "cell_type": "code",
   "outputs": [],
   "source": [
    "kendall_weak = kendall[weak_positive | weak_negative][\"Price\"]\n",
    "kendall_mod = kendall[mod_positive | mod_negative][\"Price\"]\n",
    "kendall_str = kendall[str_positive | str_negative][\"Price\"]\n",
    "kendall_v_str = kendall[v_str_positive | v_str_negative][\"Price\"]"
   ],
   "metadata": {
    "collapsed": false,
    "ExecuteTime": {
     "end_time": "2024-01-25T15:27:06.203170Z",
     "start_time": "2024-01-25T15:27:06.198072Z"
    }
   },
   "id": "c47aea15754913",
   "execution_count": 57
  },
  {
   "cell_type": "code",
   "outputs": [
    {
     "data": {
      "text/plain": "Mileage        -0.471981\nEngine_Size     0.295248\nEngine_Power    0.416304\nWheelbase       0.305761\nWidth           0.316817\nLength          0.333532\nTop_Speed       0.324813\nName: Price, dtype: float64"
     },
     "execution_count": 58,
     "metadata": {},
     "output_type": "execute_result"
    }
   ],
   "source": [
    "kendall_mod"
   ],
   "metadata": {
    "collapsed": false,
    "ExecuteTime": {
     "end_time": "2024-01-25T15:27:06.913182Z",
     "start_time": "2024-01-25T15:27:06.900234Z"
    }
   },
   "id": "3762a349f05788d2",
   "execution_count": 58
  },
  {
   "cell_type": "markdown",
   "source": [
    "### Pearson correlations\n",
    "Sensitive to outliers, requires normal distribution of the variables"
   ],
   "metadata": {
    "collapsed": false
   },
   "id": "17f4530a72c3e392"
  },
  {
   "cell_type": "code",
   "outputs": [],
   "source": [
    "pearson = df.corr(method=\"pearson\", numeric_only=True)\n",
    "\n",
    "weak_positive = pearson[\"Price\"].between(0.1, 0.4, inclusive=\"left\")\n",
    "weak_negative = pearson[\"Price\"].between(-0.4, -0.1, inclusive=\"right\")\n",
    "\n",
    "mod_positive = pearson[\"Price\"].between(0.4, 0.7, inclusive=\"left\")\n",
    "mod_negative = pearson[\"Price\"].between(-0.7, -0.4, inclusive=\"right\")\n",
    "\n",
    "str_positive = pearson[\"Price\"].between(0.7, 0.9, inclusive=\"left\")\n",
    "str_negative = pearson[\"Price\"].between(-0.9, -0.7, inclusive=\"right\")\n",
    "\n",
    "v_str_positive = pearson[\"Price\"] >= 0.9\n",
    "v_str_negative = pearson[\"Price\"] <= -0.9"
   ],
   "metadata": {
    "collapsed": false,
    "ExecuteTime": {
     "end_time": "2024-01-25T15:27:09.032150Z",
     "start_time": "2024-01-25T15:27:08.904770Z"
    }
   },
   "id": "44cb602d8c59ae54",
   "execution_count": 59
  },
  {
   "cell_type": "code",
   "outputs": [],
   "source": [
    "pearson_weak = pearson[weak_positive | weak_negative][\"Price\"]\n",
    "pearson_mod = pearson[mod_positive | mod_negative][\"Price\"]\n",
    "pearson_str = pearson[str_positive | str_negative][\"Price\"]\n",
    "pearson_v_str = pearson[v_str_positive | v_str_negative][\"Price\"]"
   ],
   "metadata": {
    "collapsed": false,
    "ExecuteTime": {
     "end_time": "2024-01-25T15:27:10.681028Z",
     "start_time": "2024-01-25T15:27:10.668167Z"
    }
   },
   "id": "16d8ee2e9d9a2fb",
   "execution_count": 60
  },
  {
   "cell_type": "code",
   "outputs": [
    {
     "data": {
      "text/plain": "Engine_Power    0.475262\nName: Price, dtype: float64"
     },
     "execution_count": 61,
     "metadata": {},
     "output_type": "execute_result"
    }
   ],
   "source": [
    "pearson_mod"
   ],
   "metadata": {
    "collapsed": false,
    "ExecuteTime": {
     "end_time": "2024-01-25T15:27:12.032222Z",
     "start_time": "2024-01-25T15:27:12.015988Z"
    }
   },
   "id": "83b1fbdfaf708204",
   "execution_count": 61
  }
 ],
 "metadata": {
  "kernelspec": {
   "display_name": "Python 3",
   "language": "python",
   "name": "python3"
  },
  "language_info": {
   "codemirror_mode": {
    "name": "ipython",
    "version": 2
   },
   "file_extension": ".py",
   "mimetype": "text/x-python",
   "name": "python",
   "nbconvert_exporter": "python",
   "pygments_lexer": "ipython2",
   "version": "2.7.6"
  }
 },
 "nbformat": 4,
 "nbformat_minor": 5
}
