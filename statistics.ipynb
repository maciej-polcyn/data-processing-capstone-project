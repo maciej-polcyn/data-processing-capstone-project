{
 "cells": [
  {
   "cell_type": "code",
   "execution_count": 1,
   "id": "initial_id",
   "metadata": {
    "collapsed": true,
    "ExecuteTime": {
     "end_time": "2024-02-02T12:46:03.608754Z",
     "start_time": "2024-02-02T12:46:03.601752Z"
    }
   },
   "outputs": [],
   "source": [
    "import numpy as np\n",
    "import pandas as pd\n",
    "from scipy import stats\n",
    "import matplotlib.pyplot as plt\n",
    "import seaborn as sns"
   ]
  },
  {
   "cell_type": "code",
   "outputs": [],
   "source": [
    "df = pd.read_csv(\"capstone_data_clean.csv\")\n",
    "df[\"Adv_Year\"] = df[\"Adv_Year\"].astype(\"category\")\n",
    "df[\"Adv_Month\"] = df[\"Adv_Month\"].astype(\"category\")\n",
    "df[\"Gearbox_Type\"] = df[\"Gearbox_Type\"].astype(\"category\")\n",
    "df[\"Fuel_Type\"] = df[\"Fuel_Type\"].astype(\"category\")"
   ],
   "metadata": {
    "collapsed": false,
    "ExecuteTime": {
     "end_time": "2024-02-02T12:46:05.156068Z",
     "start_time": "2024-02-02T12:46:04.072889Z"
    }
   },
   "id": "6fd18b3832100ea2",
   "execution_count": 2
  },
  {
   "cell_type": "code",
   "outputs": [
    {
     "data": {
      "text/plain": "Maker             object\nGenmodel          object\nGenmodel_ID       object\nAdv_ID            object\nAdv_Year        category\nAdv_Month       category\nColor             object\nBody_Type         object\nGearbox_Type    category\nFuel_Type       category\nReg_Year         float64\nMileage          float64\nEngine_Size      float64\nPrice            float64\nEngine_Power     float64\nAnnual_Tax       float64\nWheelbase        float64\nHeight           float64\nWidth            float64\nLength           float64\nAverage_Mpg      float64\nTop_Speed        float64\nSeat_Num         float64\nDoor_Num         float64\ndtype: object"
     },
     "execution_count": 3,
     "metadata": {},
     "output_type": "execute_result"
    }
   ],
   "source": [
    "df.dtypes"
   ],
   "metadata": {
    "collapsed": false,
    "ExecuteTime": {
     "end_time": "2024-02-02T12:46:05.632212Z",
     "start_time": "2024-02-02T12:46:05.600879Z"
    }
   },
   "id": "efb4aa18f279024c",
   "execution_count": 3
  },
  {
   "cell_type": "code",
   "outputs": [
    {
     "name": "stdout",
     "output_type": "stream",
     "text": [
      "<class 'pandas.core.frame.DataFrame'>\n",
      "RangeIndex: 268250 entries, 0 to 268249\n",
      "Data columns (total 24 columns):\n",
      " #   Column        Non-Null Count   Dtype   \n",
      "---  ------        --------------   -----   \n",
      " 0   Maker         268250 non-null  object  \n",
      " 1   Genmodel      268250 non-null  object  \n",
      " 2   Genmodel_ID   268250 non-null  object  \n",
      " 3   Adv_ID        268250 non-null  object  \n",
      " 4   Adv_Year      268250 non-null  category\n",
      " 5   Adv_Month     268250 non-null  category\n",
      " 6   Color         246375 non-null  object  \n",
      " 7   Body_Type     267296 non-null  object  \n",
      " 8   Gearbox_Type  268083 non-null  category\n",
      " 9   Fuel_Type     267841 non-null  category\n",
      " 10  Reg_Year      268243 non-null  float64 \n",
      " 11  Mileage       267195 non-null  float64 \n",
      " 12  Engine_Size   266186 non-null  float64 \n",
      " 13  Price         267105 non-null  float64 \n",
      " 14  Engine_Power  236441 non-null  float64 \n",
      " 15  Annual_Tax    220715 non-null  float64 \n",
      " 16  Wheelbase     232830 non-null  float64 \n",
      " 17  Height        239506 non-null  float64 \n",
      " 18  Width         240172 non-null  float64 \n",
      " 19  Length        240363 non-null  float64 \n",
      " 20  Average_Mpg   226320 non-null  float64 \n",
      " 21  Top_Speed     224650 non-null  float64 \n",
      " 22  Seat_Num      261777 non-null  float64 \n",
      " 23  Door_Num      263699 non-null  float64 \n",
      "dtypes: category(4), float64(14), object(6)\n",
      "memory usage: 42.0+ MB\n"
     ]
    }
   ],
   "source": [
    "df.info()"
   ],
   "metadata": {
    "collapsed": false,
    "ExecuteTime": {
     "end_time": "2024-02-02T12:46:06.309281Z",
     "start_time": "2024-02-02T12:46:06.217209Z"
    }
   },
   "id": "2026de9c69a09976",
   "execution_count": 4
  },
  {
   "cell_type": "code",
   "outputs": [
    {
     "data": {
      "text/plain": "     Maker Genmodel Genmodel_ID  Adv_ID Adv_Year Adv_Month   Color Body_Type  \\\n0  Bentley   Arnage        10_1  10_1_1     2018       Apr  Silver    Saloon   \n1  Bentley   Arnage        10_1  10_1_2     2018       Jun    Grey    Saloon   \n2  Bentley   Arnage        10_1  10_1_3     2017       Nov    Blue    Saloon   \n3  Bentley   Arnage        10_1  10_1_4     2018       Apr   Green    Saloon   \n4  Bentley   Arnage        10_1  10_1_5     2017       Nov    Grey    Saloon   \n\n  Gearbox_Type Fuel_Type  ...  Engine_Power  Annual_Tax  Wheelbase  Height  \\\n0    Automatic    Petrol  ...           NaN         NaN     3116.0  1515.0   \n1    Automatic    Petrol  ...         450.0       315.0     3116.0  1515.0   \n2    Automatic    Petrol  ...         400.0       315.0     3116.0  1515.0   \n3    Automatic    Petrol  ...           NaN         NaN     3116.0  1515.0   \n4    Automatic    Petrol  ...           NaN         NaN     3116.0  1515.0   \n\n    Width  Length  Average_Mpg  Top_Speed  Seat_Num  Door_Num  \n0  2125.0  5390.0          NaN        NaN       5.0       4.0  \n1  2125.0  5390.0         13.7      179.0       5.0       4.0  \n2  2125.0  5390.0         14.7      155.0       5.0       4.0  \n3  2125.0  5390.0          NaN        NaN       5.0       4.0  \n4  2125.0  5390.0          NaN        NaN       5.0       4.0  \n\n[5 rows x 24 columns]",
      "text/html": "<div>\n<style scoped>\n    .dataframe tbody tr th:only-of-type {\n        vertical-align: middle;\n    }\n\n    .dataframe tbody tr th {\n        vertical-align: top;\n    }\n\n    .dataframe thead th {\n        text-align: right;\n    }\n</style>\n<table border=\"1\" class=\"dataframe\">\n  <thead>\n    <tr style=\"text-align: right;\">\n      <th></th>\n      <th>Maker</th>\n      <th>Genmodel</th>\n      <th>Genmodel_ID</th>\n      <th>Adv_ID</th>\n      <th>Adv_Year</th>\n      <th>Adv_Month</th>\n      <th>Color</th>\n      <th>Body_Type</th>\n      <th>Gearbox_Type</th>\n      <th>Fuel_Type</th>\n      <th>...</th>\n      <th>Engine_Power</th>\n      <th>Annual_Tax</th>\n      <th>Wheelbase</th>\n      <th>Height</th>\n      <th>Width</th>\n      <th>Length</th>\n      <th>Average_Mpg</th>\n      <th>Top_Speed</th>\n      <th>Seat_Num</th>\n      <th>Door_Num</th>\n    </tr>\n  </thead>\n  <tbody>\n    <tr>\n      <th>0</th>\n      <td>Bentley</td>\n      <td>Arnage</td>\n      <td>10_1</td>\n      <td>10_1_1</td>\n      <td>2018</td>\n      <td>Apr</td>\n      <td>Silver</td>\n      <td>Saloon</td>\n      <td>Automatic</td>\n      <td>Petrol</td>\n      <td>...</td>\n      <td>NaN</td>\n      <td>NaN</td>\n      <td>3116.0</td>\n      <td>1515.0</td>\n      <td>2125.0</td>\n      <td>5390.0</td>\n      <td>NaN</td>\n      <td>NaN</td>\n      <td>5.0</td>\n      <td>4.0</td>\n    </tr>\n    <tr>\n      <th>1</th>\n      <td>Bentley</td>\n      <td>Arnage</td>\n      <td>10_1</td>\n      <td>10_1_2</td>\n      <td>2018</td>\n      <td>Jun</td>\n      <td>Grey</td>\n      <td>Saloon</td>\n      <td>Automatic</td>\n      <td>Petrol</td>\n      <td>...</td>\n      <td>450.0</td>\n      <td>315.0</td>\n      <td>3116.0</td>\n      <td>1515.0</td>\n      <td>2125.0</td>\n      <td>5390.0</td>\n      <td>13.7</td>\n      <td>179.0</td>\n      <td>5.0</td>\n      <td>4.0</td>\n    </tr>\n    <tr>\n      <th>2</th>\n      <td>Bentley</td>\n      <td>Arnage</td>\n      <td>10_1</td>\n      <td>10_1_3</td>\n      <td>2017</td>\n      <td>Nov</td>\n      <td>Blue</td>\n      <td>Saloon</td>\n      <td>Automatic</td>\n      <td>Petrol</td>\n      <td>...</td>\n      <td>400.0</td>\n      <td>315.0</td>\n      <td>3116.0</td>\n      <td>1515.0</td>\n      <td>2125.0</td>\n      <td>5390.0</td>\n      <td>14.7</td>\n      <td>155.0</td>\n      <td>5.0</td>\n      <td>4.0</td>\n    </tr>\n    <tr>\n      <th>3</th>\n      <td>Bentley</td>\n      <td>Arnage</td>\n      <td>10_1</td>\n      <td>10_1_4</td>\n      <td>2018</td>\n      <td>Apr</td>\n      <td>Green</td>\n      <td>Saloon</td>\n      <td>Automatic</td>\n      <td>Petrol</td>\n      <td>...</td>\n      <td>NaN</td>\n      <td>NaN</td>\n      <td>3116.0</td>\n      <td>1515.0</td>\n      <td>2125.0</td>\n      <td>5390.0</td>\n      <td>NaN</td>\n      <td>NaN</td>\n      <td>5.0</td>\n      <td>4.0</td>\n    </tr>\n    <tr>\n      <th>4</th>\n      <td>Bentley</td>\n      <td>Arnage</td>\n      <td>10_1</td>\n      <td>10_1_5</td>\n      <td>2017</td>\n      <td>Nov</td>\n      <td>Grey</td>\n      <td>Saloon</td>\n      <td>Automatic</td>\n      <td>Petrol</td>\n      <td>...</td>\n      <td>NaN</td>\n      <td>NaN</td>\n      <td>3116.0</td>\n      <td>1515.0</td>\n      <td>2125.0</td>\n      <td>5390.0</td>\n      <td>NaN</td>\n      <td>NaN</td>\n      <td>5.0</td>\n      <td>4.0</td>\n    </tr>\n  </tbody>\n</table>\n<p>5 rows × 24 columns</p>\n</div>"
     },
     "execution_count": 5,
     "metadata": {},
     "output_type": "execute_result"
    }
   ],
   "source": [
    "df.head()"
   ],
   "metadata": {
    "collapsed": false,
    "ExecuteTime": {
     "end_time": "2024-02-02T12:46:06.949433Z",
     "start_time": "2024-02-02T12:46:06.926337Z"
    }
   },
   "id": "d627fcec5f5f4bf0",
   "execution_count": 5
  },
  {
   "cell_type": "markdown",
   "source": [
    "# Characteristic of the Price variable"
   ],
   "metadata": {
    "collapsed": false
   },
   "id": "b233c1ee36c65c53"
  },
  {
   "cell_type": "code",
   "outputs": [
    {
     "data": {
      "text/plain": "count    2.671050e+05\nmean     1.471860e+04\nstd      2.591019e+04\nmin      1.000000e+02\n25%      4.990000e+03\n50%      9.299000e+03\n75%      1.715000e+04\nmax      2.599990e+06\nName: Price, dtype: float64"
     },
     "execution_count": 6,
     "metadata": {},
     "output_type": "execute_result"
    }
   ],
   "source": [
    "df[\"Price\"].describe()"
   ],
   "metadata": {
    "collapsed": false,
    "ExecuteTime": {
     "end_time": "2024-02-02T12:46:08.439038Z",
     "start_time": "2024-02-02T12:46:08.411765Z"
    }
   },
   "id": "21816adaf86dc768",
   "execution_count": 6
  },
  {
   "cell_type": "code",
   "outputs": [
    {
     "data": {
      "text/plain": "0    3995.0\nName: Price, dtype: float64"
     },
     "execution_count": 7,
     "metadata": {},
     "output_type": "execute_result"
    }
   ],
   "source": [
    "df[\"Price\"].mode()"
   ],
   "metadata": {
    "collapsed": false,
    "ExecuteTime": {
     "end_time": "2024-02-02T12:46:09.238974Z",
     "start_time": "2024-02-02T12:46:09.180007Z"
    }
   },
   "id": "7015d865f0a65073",
   "execution_count": 7
  },
  {
   "cell_type": "code",
   "outputs": [
    {
     "data": {
      "text/plain": "30.218340246645827"
     },
     "execution_count": 8,
     "metadata": {},
     "output_type": "execute_result"
    }
   ],
   "source": [
    "df[\"Price\"].skew()"
   ],
   "metadata": {
    "collapsed": false,
    "ExecuteTime": {
     "end_time": "2024-02-02T12:46:09.932610Z",
     "start_time": "2024-02-02T12:46:09.885387Z"
    }
   },
   "id": "df602ba65bf2f24b",
   "execution_count": 8
  },
  {
   "cell_type": "markdown",
   "source": [
    "### Price normal distribution test:\n",
    "> H0: the variable is normally distributed\n",
    "> H1: the variable is not normally distributed"
   ],
   "metadata": {
    "collapsed": false
   },
   "id": "59120af4eccf3c60"
  },
  {
   "cell_type": "code",
   "outputs": [
    {
     "data": {
      "text/plain": "NormaltestResult(statistic=698863.9256911167, pvalue=0.0)"
     },
     "execution_count": 9,
     "metadata": {},
     "output_type": "execute_result"
    }
   ],
   "source": [
    "stats.normaltest(df[\"Price\"], nan_policy=\"omit\")"
   ],
   "metadata": {
    "collapsed": false,
    "ExecuteTime": {
     "end_time": "2024-02-02T12:46:11.063229Z",
     "start_time": "2024-02-02T12:46:10.986408Z"
    }
   },
   "id": "1c30e0e4c5da10c6",
   "execution_count": 9
  },
  {
   "cell_type": "markdown",
   "source": [
    "### Conclusion\n",
    "1. There's a reason to reject H0 in favor of H1 and assume that the distribution of prices is different than normal.\n",
    "2. Because of that I have to use non-parametric tests for calculations."
   ],
   "metadata": {
    "collapsed": false
   },
   "id": "b0b095ecc534dbde"
  },
  {
   "cell_type": "markdown",
   "source": [
    "## Numeric features' influence on Price"
   ],
   "metadata": {
    "collapsed": false
   },
   "id": "69ced68ba6fc5db9"
  },
  {
   "cell_type": "markdown",
   "source": [
    "### Spearman correlations\n",
    "I choose a Spearman R correlation, because:\n",
    "1. It's a non-parametric, rank-based test. \n",
    "2. there's no assumptions about the distributions or data, except that variables should be at least ordinal. "
   ],
   "metadata": {
    "collapsed": false
   },
   "id": "1b092106da51c488"
  },
  {
   "cell_type": "code",
   "outputs": [],
   "source": [
    "spearman = df.corr(method=\"spearman\", numeric_only=True)\n",
    "\n",
    "weak_positive = spearman[\"Price\"].between(0.1, 0.38, inclusive=\"left\")\n",
    "weak_negative = spearman[\"Price\"].between(-0.38, -0.1, inclusive=\"right\")\n",
    "\n",
    "mod_positive = spearman[\"Price\"].between(0.38, 0.68, inclusive=\"left\")\n",
    "mod_negative = spearman[\"Price\"].between(-0.68, -0.38, inclusive=\"right\")\n",
    "\n",
    "str_positive = spearman[\"Price\"].between(0.68, 0.89, inclusive=\"left\")\n",
    "str_negative = spearman[\"Price\"].between(-0.89, -0.68, inclusive=\"right\")\n",
    "\n",
    "v_str_positive = spearman[\"Price\"] >= 0.89\n",
    "v_str_negative = spearman[\"Price\"] <= -0.89"
   ],
   "metadata": {
    "collapsed": false,
    "ExecuteTime": {
     "end_time": "2024-02-02T12:47:51.096830Z",
     "start_time": "2024-02-02T12:47:47.903089Z"
    }
   },
   "id": "3385bd858f7c05b8",
   "execution_count": 10
  },
  {
   "cell_type": "code",
   "outputs": [],
   "source": [
    "spearman_weak = spearman[weak_positive | weak_negative][\"Price\"]\n",
    "spearman_mod = spearman[mod_positive | mod_negative][\"Price\"]\n",
    "spearman_str = spearman[str_positive | str_negative][\"Price\"]\n",
    "spearman_v_str = spearman[v_str_positive | v_str_negative][\"Price\"]"
   ],
   "metadata": {
    "collapsed": false,
    "ExecuteTime": {
     "end_time": "2024-02-01T11:48:20.603385Z",
     "start_time": "2024-02-01T11:48:20.592945Z"
    }
   },
   "id": "b06db1cfc509e761",
   "execution_count": 11
  },
  {
   "cell_type": "code",
   "outputs": [],
   "source": [
    "def spearman_asess(data_frame, correlate_with):\n",
    "    table = pd.DataFrame()\n",
    "    names = []\n",
    "    strength = []\n",
    "    correlation = []\n",
    "    pvalue = []\n",
    "    \n",
    "# Calculating Spearman R for all numeric variables\n",
    "    for column in data_frame.columns:\n",
    "        if data_frame[column].dtype.kind in 'if':\n",
    "            if column != correlate_with:\n",
    "                test = stats.spearmanr(data_frame[correlate_with], data_frame[column], nan_policy=\"omit\")\n",
    "                \n",
    "# Preparing series for a summary table       \n",
    "                names.append(column)\n",
    "                correlation.append(test[0])\n",
    "                pvalue.append(test[1])\n",
    "                if test[0] >= 0.89 or test[0] <= -0.89:\n",
    "                    strength.append(\"Very Strong\")\n",
    "                elif test[0] >= 0.68 or test[0] <= -0.68:\n",
    "                    strength.append(\"Strong\")\n",
    "                elif test[0] >= 0.38 or test[0] <= -0.38:\n",
    "                    strength.append(\"Moderate\")\n",
    "                elif test[0] >= 0.1 or test[0] <= -0.1:\n",
    "                    strength.append(\"Weak\")\n",
    "                else:\n",
    "                    strength.append(\"None\")\n",
    "\n",
    "# Creating a summary table                    \n",
    "    table[\"Feature\"] = names\n",
    "    table[\"Spearman_R\"] = correlation\n",
    "    table[\"P_Value\"] = pvalue\n",
    "    table[\"Strength\"] = strength\n",
    "        \n",
    "    return table.reindex(table[\"Spearman_R\"].abs().sort_values(ascending=False).index).reset_index(drop=True)"
   ],
   "metadata": {
    "collapsed": false,
    "ExecuteTime": {
     "end_time": "2024-02-02T14:05:21.429271Z",
     "start_time": "2024-02-02T14:05:21.399952Z"
    }
   },
   "id": "9189acad6c698a04",
   "execution_count": 54
  },
  {
   "cell_type": "code",
   "outputs": [],
   "source": [
    "correlation_strength = spearman_asess(df, \"Price\")"
   ],
   "metadata": {
    "collapsed": false,
    "ExecuteTime": {
     "end_time": "2024-02-02T14:06:39.573680Z",
     "start_time": "2024-02-02T14:05:22.655395Z"
    }
   },
   "id": "21e20043086db7a3",
   "execution_count": 55
  },
  {
   "cell_type": "code",
   "outputs": [
    {
     "data": {
      "text/plain": "         Feature  Spearman_R       P_Value  Strength\n0       Reg_Year    0.735519  0.000000e+00    Strong\n1        Mileage   -0.665604  0.000000e+00  Moderate\n2   Engine_Power    0.580736  0.000000e+00  Moderate\n3         Length    0.482357  0.000000e+00  Moderate\n4      Top_Speed    0.458324  0.000000e+00  Moderate\n5          Width    0.454901  0.000000e+00  Moderate\n6      Wheelbase    0.441041  0.000000e+00  Moderate\n7    Engine_Size    0.439394  0.000000e+00  Moderate\n8         Height    0.156925  0.000000e+00      Weak\n9       Seat_Num    0.041390  3.351315e-99      None\n10      Door_Num    0.030172  5.934536e-54      None\n11   Average_Mpg    0.028061  1.150491e-40      None\n12    Annual_Tax   -0.014391  1.369738e-11      None",
      "text/html": "<div>\n<style scoped>\n    .dataframe tbody tr th:only-of-type {\n        vertical-align: middle;\n    }\n\n    .dataframe tbody tr th {\n        vertical-align: top;\n    }\n\n    .dataframe thead th {\n        text-align: right;\n    }\n</style>\n<table border=\"1\" class=\"dataframe\">\n  <thead>\n    <tr style=\"text-align: right;\">\n      <th></th>\n      <th>Feature</th>\n      <th>Spearman_R</th>\n      <th>P_Value</th>\n      <th>Strength</th>\n    </tr>\n  </thead>\n  <tbody>\n    <tr>\n      <th>0</th>\n      <td>Reg_Year</td>\n      <td>0.735519</td>\n      <td>0.000000e+00</td>\n      <td>Strong</td>\n    </tr>\n    <tr>\n      <th>1</th>\n      <td>Mileage</td>\n      <td>-0.665604</td>\n      <td>0.000000e+00</td>\n      <td>Moderate</td>\n    </tr>\n    <tr>\n      <th>2</th>\n      <td>Engine_Power</td>\n      <td>0.580736</td>\n      <td>0.000000e+00</td>\n      <td>Moderate</td>\n    </tr>\n    <tr>\n      <th>3</th>\n      <td>Length</td>\n      <td>0.482357</td>\n      <td>0.000000e+00</td>\n      <td>Moderate</td>\n    </tr>\n    <tr>\n      <th>4</th>\n      <td>Top_Speed</td>\n      <td>0.458324</td>\n      <td>0.000000e+00</td>\n      <td>Moderate</td>\n    </tr>\n    <tr>\n      <th>5</th>\n      <td>Width</td>\n      <td>0.454901</td>\n      <td>0.000000e+00</td>\n      <td>Moderate</td>\n    </tr>\n    <tr>\n      <th>6</th>\n      <td>Wheelbase</td>\n      <td>0.441041</td>\n      <td>0.000000e+00</td>\n      <td>Moderate</td>\n    </tr>\n    <tr>\n      <th>7</th>\n      <td>Engine_Size</td>\n      <td>0.439394</td>\n      <td>0.000000e+00</td>\n      <td>Moderate</td>\n    </tr>\n    <tr>\n      <th>8</th>\n      <td>Height</td>\n      <td>0.156925</td>\n      <td>0.000000e+00</td>\n      <td>Weak</td>\n    </tr>\n    <tr>\n      <th>9</th>\n      <td>Seat_Num</td>\n      <td>0.041390</td>\n      <td>3.351315e-99</td>\n      <td>None</td>\n    </tr>\n    <tr>\n      <th>10</th>\n      <td>Door_Num</td>\n      <td>0.030172</td>\n      <td>5.934536e-54</td>\n      <td>None</td>\n    </tr>\n    <tr>\n      <th>11</th>\n      <td>Average_Mpg</td>\n      <td>0.028061</td>\n      <td>1.150491e-40</td>\n      <td>None</td>\n    </tr>\n    <tr>\n      <th>12</th>\n      <td>Annual_Tax</td>\n      <td>-0.014391</td>\n      <td>1.369738e-11</td>\n      <td>None</td>\n    </tr>\n  </tbody>\n</table>\n</div>"
     },
     "execution_count": 56,
     "metadata": {},
     "output_type": "execute_result"
    }
   ],
   "source": [
    "correlation_strength"
   ],
   "metadata": {
    "collapsed": false,
    "ExecuteTime": {
     "end_time": "2024-02-02T14:07:01.978076Z",
     "start_time": "2024-02-02T14:07:01.968450Z"
    }
   },
   "id": "a3a46ac0da625807",
   "execution_count": 56
  },
  {
   "cell_type": "code",
   "outputs": [
    {
     "ename": "ValueError",
     "evalue": "The truth value of a Series is ambiguous. Use a.empty, a.bool(), a.item(), a.any() or a.all().",
     "output_type": "error",
     "traceback": [
      "\u001B[0;31m---------------------------------------------------------------------------\u001B[0m",
      "\u001B[0;31mValueError\u001B[0m                                Traceback (most recent call last)",
      "\u001B[0;32m/var/folders/c3/83sn5hxx1p58qnx62797mhc40000gp/T/ipykernel_6634/3248165215.py\u001B[0m in \u001B[0;36m?\u001B[0;34m()\u001B[0m\n\u001B[1;32m      1\u001B[0m \u001B[0mcorrelation_strength\u001B[0m \u001B[0;34m=\u001B[0m \u001B[0mcorrelation_strength\u001B[0m\u001B[0;34m.\u001B[0m\u001B[0mreindex\u001B[0m\u001B[0;34m(\u001B[0m\u001B[0mcorrelation_strength\u001B[0m\u001B[0;34m[\u001B[0m\u001B[0;34m\"Spearman_R\"\u001B[0m\u001B[0;34m]\u001B[0m\u001B[0;34m.\u001B[0m\u001B[0mabs\u001B[0m\u001B[0;34m(\u001B[0m\u001B[0;34m)\u001B[0m\u001B[0;34m.\u001B[0m\u001B[0msort_values\u001B[0m\u001B[0;34m(\u001B[0m\u001B[0mascending\u001B[0m\u001B[0;34m=\u001B[0m\u001B[0;32mFalse\u001B[0m\u001B[0;34m)\u001B[0m\u001B[0;34m.\u001B[0m\u001B[0mindex\u001B[0m\u001B[0;34m)\u001B[0m\u001B[0;34m.\u001B[0m\u001B[0mreset_index\u001B[0m\u001B[0;34m(\u001B[0m\u001B[0mdrop\u001B[0m\u001B[0;34m=\u001B[0m\u001B[0;32mTrue\u001B[0m\u001B[0;34m)\u001B[0m\u001B[0;34m\u001B[0m\u001B[0;34m\u001B[0m\u001B[0m\n\u001B[1;32m      2\u001B[0m \u001B[0;34m\u001B[0m\u001B[0m\n\u001B[0;32m----> 3\u001B[0;31m \u001B[0;32mif\u001B[0m \u001B[0mcorrelation_strength\u001B[0m\u001B[0;34m[\u001B[0m\u001B[0;34m\"P_Value\"\u001B[0m\u001B[0;34m]\u001B[0m \u001B[0;34m<\u001B[0m \u001B[0;36m0.05\u001B[0m\u001B[0;34m:\u001B[0m\u001B[0;34m\u001B[0m\u001B[0;34m\u001B[0m\u001B[0m\n\u001B[0m\u001B[1;32m      4\u001B[0m     \u001B[0mcorrelation_strength\u001B[0m\u001B[0;34m[\u001B[0m\u001B[0;34m\"Significance\"\u001B[0m\u001B[0;34m]\u001B[0m \u001B[0;34m=\u001B[0m \u001B[0;34m\"True\"\u001B[0m\u001B[0;34m\u001B[0m\u001B[0;34m\u001B[0m\u001B[0m\n\u001B[1;32m      5\u001B[0m \u001B[0;32melse\u001B[0m\u001B[0;34m:\u001B[0m\u001B[0;34m\u001B[0m\u001B[0;34m\u001B[0m\u001B[0m\n\u001B[1;32m      6\u001B[0m     \u001B[0mcorrelation_strength\u001B[0m\u001B[0;34m[\u001B[0m\u001B[0;34m\"Significance\"\u001B[0m\u001B[0;34m]\u001B[0m \u001B[0;34m=\u001B[0m \u001B[0;34m\"False\"\u001B[0m\u001B[0;34m\u001B[0m\u001B[0;34m\u001B[0m\u001B[0m\n",
      "\u001B[0;32m~/PycharmProjects/udemy_python_course/.venv/lib/python3.12/site-packages/pandas/core/generic.py\u001B[0m in \u001B[0;36m?\u001B[0;34m(self)\u001B[0m\n\u001B[1;32m   1517\u001B[0m     \u001B[0;34m@\u001B[0m\u001B[0mfinal\u001B[0m\u001B[0;34m\u001B[0m\u001B[0;34m\u001B[0m\u001B[0m\n\u001B[1;32m   1518\u001B[0m     \u001B[0;32mdef\u001B[0m \u001B[0m__nonzero__\u001B[0m\u001B[0;34m(\u001B[0m\u001B[0mself\u001B[0m\u001B[0;34m)\u001B[0m \u001B[0;34m->\u001B[0m \u001B[0mNoReturn\u001B[0m\u001B[0;34m:\u001B[0m\u001B[0;34m\u001B[0m\u001B[0;34m\u001B[0m\u001B[0m\n\u001B[0;32m-> 1519\u001B[0;31m         raise ValueError(\n\u001B[0m\u001B[1;32m   1520\u001B[0m             \u001B[0;34mf\"\u001B[0m\u001B[0;34mThe truth value of a \u001B[0m\u001B[0;34m{\u001B[0m\u001B[0mtype\u001B[0m\u001B[0;34m(\u001B[0m\u001B[0mself\u001B[0m\u001B[0;34m)\u001B[0m\u001B[0;34m.\u001B[0m\u001B[0m__name__\u001B[0m\u001B[0;34m}\u001B[0m\u001B[0;34m is ambiguous. \u001B[0m\u001B[0;34m\"\u001B[0m\u001B[0;34m\u001B[0m\u001B[0;34m\u001B[0m\u001B[0m\n\u001B[1;32m   1521\u001B[0m             \u001B[0;34m\"Use a.empty, a.bool(), a.item(), a.any() or a.all().\"\u001B[0m\u001B[0;34m\u001B[0m\u001B[0;34m\u001B[0m\u001B[0m\n\u001B[1;32m   1522\u001B[0m         \u001B[0;34m)\u001B[0m\u001B[0;34m\u001B[0m\u001B[0;34m\u001B[0m\u001B[0m\n",
      "\u001B[0;31mValueError\u001B[0m: The truth value of a Series is ambiguous. Use a.empty, a.bool(), a.item(), a.any() or a.all()."
     ]
    }
   ],
   "source": [
    "correlation_strength = correlation_strength.reindex(correlation_strength[\"Spearman_R\"].abs().sort_values(ascending=False).index).reset_index(drop=True)\n",
    "\n",
    "if correlation_strength[\"P_Value\"] < 0.05:\n",
    "    correlation_strength[\"Significance\"] = \"True\"\n",
    "else:\n",
    "    correlation_strength[\"Significance\"] = \"False\"\n",
    "    \n",
    "correlation_strength"
   ],
   "metadata": {
    "collapsed": false,
    "ExecuteTime": {
     "end_time": "2024-02-02T13:56:20.444365Z",
     "start_time": "2024-02-02T13:56:20.416755Z"
    }
   },
   "id": "902cb7ddad0d3854",
   "execution_count": 51
  },
  {
   "cell_type": "markdown",
   "source": [
    "#### Strong correlations"
   ],
   "metadata": {
    "collapsed": false
   },
   "id": "b6b3b74b6261144d"
  },
  {
   "cell_type": "code",
   "outputs": [
    {
     "data": {
      "text/plain": "Reg_Year    0.735519\nName: Price, dtype: float64"
     },
     "execution_count": 12,
     "metadata": {},
     "output_type": "execute_result"
    }
   ],
   "source": [
    "spearman_str"
   ],
   "metadata": {
    "collapsed": false,
    "ExecuteTime": {
     "end_time": "2024-02-01T11:48:22.782501Z",
     "start_time": "2024-02-01T11:48:22.736536Z"
    }
   },
   "id": "b070b1ae1be7ea31",
   "execution_count": 12
  },
  {
   "cell_type": "markdown",
   "source": [
    "#### Moderate correlations"
   ],
   "metadata": {
    "collapsed": false
   },
   "id": "4a0c520374e18b6c"
  },
  {
   "cell_type": "code",
   "outputs": [
    {
     "data": {
      "text/plain": "Engine_Power    0.580736\nLength          0.482357\nTop_Speed       0.458324\nWidth           0.454901\nWheelbase       0.441041\nEngine_Size     0.439394\nMileage        -0.665604\nName: Price, dtype: float64"
     },
     "execution_count": 13,
     "metadata": {},
     "output_type": "execute_result"
    }
   ],
   "source": [
    "spearman_mod.sort_values(ascending=False)"
   ],
   "metadata": {
    "collapsed": false,
    "ExecuteTime": {
     "end_time": "2024-02-01T11:48:24.064097Z",
     "start_time": "2024-02-01T11:48:24.025667Z"
    }
   },
   "id": "f56f3481b8982431",
   "execution_count": 13
  },
  {
   "cell_type": "markdown",
   "source": [
    "#### Correlation significance tests"
   ],
   "metadata": {
    "collapsed": false
   },
   "id": "84fe509ed82cf124"
  },
  {
   "cell_type": "code",
   "outputs": [
    {
     "data": {
      "text/plain": "SignificanceResult(statistic=0.7355191646581417, pvalue=0.0)"
     },
     "execution_count": 14,
     "metadata": {},
     "output_type": "execute_result"
    }
   ],
   "source": [
    "stats.spearmanr(df[\"Price\"], df[\"Reg_Year\"], nan_policy=\"omit\")"
   ],
   "metadata": {
    "collapsed": false,
    "ExecuteTime": {
     "end_time": "2024-02-01T11:48:30.572582Z",
     "start_time": "2024-02-01T11:48:25.190997Z"
    }
   },
   "id": "13fa68ab8bdbf0b3",
   "execution_count": 14
  },
  {
   "cell_type": "code",
   "outputs": [
    {
     "data": {
      "text/plain": "SignificanceResult(statistic=-0.6656038269117949, pvalue=0.0)"
     },
     "execution_count": 15,
     "metadata": {},
     "output_type": "execute_result"
    }
   ],
   "source": [
    "stats.spearmanr(df[\"Price\"], df[\"Mileage\"], nan_policy=\"omit\")"
   ],
   "metadata": {
    "collapsed": false,
    "ExecuteTime": {
     "end_time": "2024-02-01T11:48:55.108252Z",
     "start_time": "2024-02-01T11:48:31.327587Z"
    }
   },
   "id": "dc9729a2890920c7",
   "execution_count": 15
  },
  {
   "cell_type": "code",
   "outputs": [
    {
     "data": {
      "text/plain": "SignificanceResult(statistic=0.5807357440750907, pvalue=0.0)"
     },
     "execution_count": 16,
     "metadata": {},
     "output_type": "execute_result"
    }
   ],
   "source": [
    "stats.spearmanr(df[\"Price\"], df[\"Engine_Power\"], nan_policy=\"omit\")"
   ],
   "metadata": {
    "collapsed": false,
    "ExecuteTime": {
     "end_time": "2024-02-01T11:49:00.548213Z",
     "start_time": "2024-02-01T11:48:55.940168Z"
    }
   },
   "id": "e0593432160edc86",
   "execution_count": 16
  },
  {
   "cell_type": "code",
   "outputs": [
    {
     "data": {
      "text/plain": "SignificanceResult(statistic=0.4823571221575504, pvalue=0.0)"
     },
     "execution_count": 17,
     "metadata": {},
     "output_type": "execute_result"
    }
   ],
   "source": [
    "stats.spearmanr(df[\"Price\"], df[\"Length\"], nan_policy=\"omit\")"
   ],
   "metadata": {
    "collapsed": false,
    "ExecuteTime": {
     "end_time": "2024-02-01T11:49:06.212795Z",
     "start_time": "2024-02-01T11:49:01.274967Z"
    }
   },
   "id": "e27657e00a4e5b6c",
   "execution_count": 17
  },
  {
   "cell_type": "code",
   "outputs": [
    {
     "data": {
      "text/plain": "SignificanceResult(statistic=0.4583236637721382, pvalue=0.0)"
     },
     "execution_count": 18,
     "metadata": {},
     "output_type": "execute_result"
    }
   ],
   "source": [
    "stats.spearmanr(df[\"Price\"], df[\"Top_Speed\"], nan_policy=\"omit\")"
   ],
   "metadata": {
    "collapsed": false,
    "ExecuteTime": {
     "end_time": "2024-02-01T11:49:11.219582Z",
     "start_time": "2024-02-01T11:49:06.974234Z"
    }
   },
   "id": "b10daa8a1ca3f52e",
   "execution_count": 18
  },
  {
   "cell_type": "code",
   "outputs": [
    {
     "data": {
      "text/plain": "SignificanceResult(statistic=0.4549006097806938, pvalue=0.0)"
     },
     "execution_count": 19,
     "metadata": {},
     "output_type": "execute_result"
    }
   ],
   "source": [
    "stats.spearmanr(df[\"Price\"], df[\"Width\"], nan_policy=\"omit\")"
   ],
   "metadata": {
    "collapsed": false,
    "ExecuteTime": {
     "end_time": "2024-02-01T11:49:16.617663Z",
     "start_time": "2024-02-01T11:49:11.945355Z"
    }
   },
   "id": "ccd1c01ed513bf0e",
   "execution_count": 19
  },
  {
   "cell_type": "code",
   "outputs": [
    {
     "data": {
      "text/plain": "SignificanceResult(statistic=0.4410410522242223, pvalue=0.0)"
     },
     "execution_count": 20,
     "metadata": {},
     "output_type": "execute_result"
    }
   ],
   "source": [
    "stats.spearmanr(df[\"Price\"], df[\"Wheelbase\"], nan_policy=\"omit\")"
   ],
   "metadata": {
    "collapsed": false,
    "ExecuteTime": {
     "end_time": "2024-02-01T11:49:21.704816Z",
     "start_time": "2024-02-01T11:49:17.288116Z"
    }
   },
   "id": "f529364b5b761480",
   "execution_count": 20
  },
  {
   "cell_type": "code",
   "outputs": [
    {
     "data": {
      "text/plain": "SignificanceResult(statistic=0.43939377944495484, pvalue=0.0)"
     },
     "execution_count": 21,
     "metadata": {},
     "output_type": "execute_result"
    }
   ],
   "source": [
    "stats.spearmanr(df[\"Price\"], df[\"Engine_Size\"], nan_policy=\"omit\")"
   ],
   "metadata": {
    "collapsed": false,
    "ExecuteTime": {
     "end_time": "2024-02-01T11:49:27.881813Z",
     "start_time": "2024-02-01T11:49:22.330635Z"
    }
   },
   "id": "71c910849940b58a",
   "execution_count": 21
  },
  {
   "cell_type": "markdown",
   "source": [
    "## Categorical features' influence on Price"
   ],
   "metadata": {
    "collapsed": false
   },
   "id": "b333cf01442fde6a"
  },
  {
   "cell_type": "markdown",
   "source": [
    "### Due to the not-normally distributed price, I decided to use Kruskal-Wallis H-test for categorical features.\n",
    "\n",
    "Implementation of that test in Python requires the categories to be in a numerical format, so I created a function to convert values."
   ],
   "metadata": {
    "collapsed": false
   },
   "id": "7d86d4ed9f62cf56"
  },
  {
   "cell_type": "code",
   "outputs": [],
   "source": [
    "def write_names(category):\n",
    "    values = df[category].unique()\n",
    "    names = {}\n",
    "    numbers = {}\n",
    "    cat_nr = 1\n",
    "    for name in values:\n",
    "        if name != np.nan:\n",
    "            numbers[name] = cat_nr\n",
    "            names[cat_nr] = name\n",
    "            cat_nr += 1      \n",
    "    return numbers, names\n",
    "\n",
    "\n",
    "def swap(category, col_dict):\n",
    "    return df[category].apply(lambda x : col_dict[x])"
   ],
   "metadata": {
    "collapsed": false,
    "ExecuteTime": {
     "end_time": "2024-02-01T11:49:30.719641Z",
     "start_time": "2024-02-01T11:49:30.680590Z"
    }
   },
   "id": "50653e926a26b100",
   "execution_count": 22
  },
  {
   "cell_type": "markdown",
   "source": [
    "#### Gearbox_Type"
   ],
   "metadata": {
    "collapsed": false
   },
   "id": "dca7f1f1c7287e65"
  },
  {
   "cell_type": "code",
   "outputs": [],
   "source": [
    "to_num, to_cat = write_names(\"Gearbox_Type\")"
   ],
   "metadata": {
    "collapsed": false,
    "ExecuteTime": {
     "end_time": "2024-02-01T11:49:32.298340Z",
     "start_time": "2024-02-01T11:49:32.267416Z"
    }
   },
   "id": "7b399dd1854decb5",
   "execution_count": 23
  },
  {
   "cell_type": "code",
   "outputs": [],
   "source": [
    "df[\"Gearbox_Type\"] = swap(\"Gearbox_Type\", to_num)"
   ],
   "metadata": {
    "collapsed": false,
    "ExecuteTime": {
     "end_time": "2024-02-01T11:49:32.689576Z",
     "start_time": "2024-02-01T11:49:32.666370Z"
    }
   },
   "id": "bd97271183742f01",
   "execution_count": 24
  },
  {
   "cell_type": "code",
   "outputs": [
    {
     "data": {
      "text/plain": "KruskalResult(statistic=417460.1154289276, pvalue=0.0)"
     },
     "execution_count": 25,
     "metadata": {},
     "output_type": "execute_result"
    }
   ],
   "source": [
    "stats.kruskal(df[\"Price\"], df[\"Gearbox_Type\"], nan_policy=\"omit\")"
   ],
   "metadata": {
    "collapsed": false,
    "ExecuteTime": {
     "end_time": "2024-02-01T11:49:33.101724Z",
     "start_time": "2024-02-01T11:49:32.966382Z"
    }
   },
   "id": "ce7b0002be78c866",
   "execution_count": 25
  },
  {
   "cell_type": "code",
   "outputs": [],
   "source": [
    "df[\"Gearbox_Type\"] = swap(\"Gearbox_Type\", to_cat)"
   ],
   "metadata": {
    "collapsed": false,
    "ExecuteTime": {
     "end_time": "2024-02-01T11:49:33.446658Z",
     "start_time": "2024-02-01T11:49:33.405280Z"
    }
   },
   "id": "594ef3e64be04aa1",
   "execution_count": 26
  },
  {
   "cell_type": "markdown",
   "source": [
    "#### Fuel Type"
   ],
   "metadata": {
    "collapsed": false
   },
   "id": "f1dfaa733b15623a"
  },
  {
   "cell_type": "code",
   "outputs": [],
   "source": [
    "to_num, to_cat = write_names(\"Fuel_Type\")"
   ],
   "metadata": {
    "collapsed": false,
    "ExecuteTime": {
     "end_time": "2024-02-01T11:49:33.989143Z",
     "start_time": "2024-02-01T11:49:33.944230Z"
    }
   },
   "id": "aed744461d41ed15",
   "execution_count": 27
  },
  {
   "cell_type": "code",
   "outputs": [],
   "source": [
    "df[\"Fuel_Type\"] = swap(\"Fuel_Type\", to_num)"
   ],
   "metadata": {
    "collapsed": false,
    "ExecuteTime": {
     "end_time": "2024-02-01T11:49:34.244558Z",
     "start_time": "2024-02-01T11:49:34.214993Z"
    }
   },
   "id": "5694b0ac4fe95f1e",
   "execution_count": 28
  },
  {
   "cell_type": "code",
   "outputs": [
    {
     "data": {
      "text/plain": "KruskalResult(statistic=413104.31808755535, pvalue=0.0)"
     },
     "execution_count": 29,
     "metadata": {},
     "output_type": "execute_result"
    }
   ],
   "source": [
    "stats.kruskal(df[\"Price\"], df[\"Fuel_Type\"], nan_policy=\"omit\")"
   ],
   "metadata": {
    "collapsed": false,
    "ExecuteTime": {
     "end_time": "2024-02-01T11:49:34.616416Z",
     "start_time": "2024-02-01T11:49:34.472003Z"
    }
   },
   "id": "bd489767ac35f3bd",
   "execution_count": 29
  },
  {
   "cell_type": "code",
   "outputs": [],
   "source": [
    "df[\"Fuel_Type\"] = swap(\"Fuel_Type\", to_cat)"
   ],
   "metadata": {
    "collapsed": false,
    "ExecuteTime": {
     "end_time": "2024-02-01T11:49:34.798162Z",
     "start_time": "2024-02-01T11:49:34.761590Z"
    }
   },
   "id": "5933d807a08e457b",
   "execution_count": 30
  },
  {
   "cell_type": "markdown",
   "source": [
    "#### Maker"
   ],
   "metadata": {
    "collapsed": false
   },
   "id": "a84a5de3096429a6"
  },
  {
   "cell_type": "code",
   "outputs": [],
   "source": [
    "to_num, to_cat = write_names(\"Maker\")"
   ],
   "metadata": {
    "collapsed": false,
    "ExecuteTime": {
     "end_time": "2024-02-01T11:49:35.282892Z",
     "start_time": "2024-02-01T11:49:35.263100Z"
    }
   },
   "id": "b6d3c1a39f1b4511",
   "execution_count": 31
  },
  {
   "cell_type": "code",
   "outputs": [],
   "source": [
    "df[\"Maker\"] = swap(\"Maker\", to_num)"
   ],
   "metadata": {
    "collapsed": false,
    "ExecuteTime": {
     "end_time": "2024-02-01T11:49:35.566159Z",
     "start_time": "2024-02-01T11:49:35.478917Z"
    }
   },
   "id": "bad53a57a5b13681",
   "execution_count": 32
  },
  {
   "cell_type": "code",
   "outputs": [
    {
     "data": {
      "text/plain": "KruskalResult(statistic=401673.6554066382, pvalue=0.0)"
     },
     "execution_count": 33,
     "metadata": {},
     "output_type": "execute_result"
    }
   ],
   "source": [
    "stats.kruskal(df[\"Price\"], df[\"Maker\"], nan_policy=\"omit\")"
   ],
   "metadata": {
    "collapsed": false,
    "ExecuteTime": {
     "end_time": "2024-02-01T11:49:35.774290Z",
     "start_time": "2024-02-01T11:49:35.667248Z"
    }
   },
   "id": "5deade0ce2473442",
   "execution_count": 33
  },
  {
   "cell_type": "code",
   "outputs": [],
   "source": [
    "df[\"Maker\"] = swap(\"Maker\", to_cat)"
   ],
   "metadata": {
    "collapsed": false,
    "ExecuteTime": {
     "end_time": "2024-02-01T11:49:35.968100Z",
     "start_time": "2024-02-01T11:49:35.951138Z"
    }
   },
   "id": "e7c4dbc06dcf0b42",
   "execution_count": 34
  },
  {
   "cell_type": "markdown",
   "source": [
    "#### Genmodel"
   ],
   "metadata": {
    "collapsed": false
   },
   "id": "b66c0ac523172683"
  },
  {
   "cell_type": "code",
   "outputs": [],
   "source": [
    "to_num, to_cat = write_names(\"Genmodel\")"
   ],
   "metadata": {
    "collapsed": false,
    "ExecuteTime": {
     "end_time": "2024-02-01T11:49:36.213123Z",
     "start_time": "2024-02-01T11:49:36.188223Z"
    }
   },
   "id": "28f99a20019be680",
   "execution_count": 35
  },
  {
   "cell_type": "code",
   "outputs": [],
   "source": [
    "df[\"Genmodel\"] = swap(\"Genmodel\", to_num)"
   ],
   "metadata": {
    "collapsed": false,
    "ExecuteTime": {
     "end_time": "2024-02-01T11:49:36.486434Z",
     "start_time": "2024-02-01T11:49:36.409396Z"
    }
   },
   "id": "cb7de3c4d12b1d19",
   "execution_count": 36
  },
  {
   "cell_type": "code",
   "outputs": [
    {
     "data": {
      "text/plain": "KruskalResult(statistic=391942.59451188263, pvalue=0.0)"
     },
     "execution_count": 37,
     "metadata": {},
     "output_type": "execute_result"
    }
   ],
   "source": [
    "stats.kruskal(df[\"Price\"], df[\"Genmodel\"], nan_policy=\"omit\")"
   ],
   "metadata": {
    "collapsed": false,
    "ExecuteTime": {
     "end_time": "2024-02-01T11:49:36.695185Z",
     "start_time": "2024-02-01T11:49:36.590151Z"
    }
   },
   "id": "2dc640114ad51c6a",
   "execution_count": 37
  },
  {
   "cell_type": "code",
   "outputs": [],
   "source": [
    "df[\"Genmodel\"] = swap(\"Genmodel\", to_cat)"
   ],
   "metadata": {
    "collapsed": false,
    "ExecuteTime": {
     "end_time": "2024-02-01T11:49:36.892581Z",
     "start_time": "2024-02-01T11:49:36.831410Z"
    }
   },
   "id": "57f84ab6f2b87e02",
   "execution_count": 38
  },
  {
   "cell_type": "markdown",
   "source": [
    "#### Adv_Year"
   ],
   "metadata": {
    "collapsed": false
   },
   "id": "ae6dc94f145b459a"
  },
  {
   "cell_type": "code",
   "outputs": [],
   "source": [
    "to_num, to_cat = write_names(\"Adv_Year\")"
   ],
   "metadata": {
    "collapsed": false,
    "ExecuteTime": {
     "end_time": "2024-02-01T11:49:37.151858Z",
     "start_time": "2024-02-01T11:49:37.137431Z"
    }
   },
   "id": "eb3650106d9d8a0b",
   "execution_count": 39
  },
  {
   "cell_type": "code",
   "outputs": [],
   "source": [
    "df[\"Adv_Year\"] = swap(\"Adv_Year\", to_num)"
   ],
   "metadata": {
    "collapsed": false,
    "ExecuteTime": {
     "end_time": "2024-02-01T11:49:37.348297Z",
     "start_time": "2024-02-01T11:49:37.335791Z"
    }
   },
   "id": "9d7f23a41efb76da",
   "execution_count": 40
  },
  {
   "cell_type": "code",
   "outputs": [
    {
     "data": {
      "text/plain": "KruskalResult(statistic=441270.6241519115, pvalue=0.0)"
     },
     "execution_count": 41,
     "metadata": {},
     "output_type": "execute_result"
    }
   ],
   "source": [
    "stats.kruskal(df[\"Price\"], df[\"Adv_Year\"], nan_policy=\"omit\")"
   ],
   "metadata": {
    "collapsed": false,
    "ExecuteTime": {
     "end_time": "2024-02-01T11:49:37.653701Z",
     "start_time": "2024-02-01T11:49:37.541142Z"
    }
   },
   "id": "4dbf5b54d762126",
   "execution_count": 41
  },
  {
   "cell_type": "code",
   "outputs": [],
   "source": [
    "df[\"Adv_Year\"] = swap(\"Adv_Year\", to_cat)"
   ],
   "metadata": {
    "collapsed": false,
    "ExecuteTime": {
     "end_time": "2024-02-01T11:49:37.815875Z",
     "start_time": "2024-02-01T11:49:37.793727Z"
    }
   },
   "id": "5b9c04780dc6b59",
   "execution_count": 42
  },
  {
   "cell_type": "markdown",
   "source": [
    "#### Adv_Month"
   ],
   "metadata": {
    "collapsed": false
   },
   "id": "53b61e597800818e"
  },
  {
   "cell_type": "code",
   "outputs": [],
   "source": [
    "to_num, to_cat = write_names(\"Adv_Month\")"
   ],
   "metadata": {
    "collapsed": false,
    "ExecuteTime": {
     "end_time": "2024-02-01T11:49:38.298552Z",
     "start_time": "2024-02-01T11:49:38.283955Z"
    }
   },
   "id": "f175a80daf5a5cf8",
   "execution_count": 43
  },
  {
   "cell_type": "code",
   "outputs": [],
   "source": [
    "df[\"Adv_Month\"] = swap(\"Adv_Month\", to_num)"
   ],
   "metadata": {
    "collapsed": false,
    "ExecuteTime": {
     "end_time": "2024-02-01T11:49:38.496255Z",
     "start_time": "2024-02-01T11:49:38.482721Z"
    }
   },
   "id": "ba404c19d56b054a",
   "execution_count": 44
  },
  {
   "cell_type": "code",
   "outputs": [
    {
     "data": {
      "text/plain": "KruskalResult(statistic=403030.33119141846, pvalue=0.0)"
     },
     "execution_count": 45,
     "metadata": {},
     "output_type": "execute_result"
    }
   ],
   "source": [
    "stats.kruskal(df[\"Price\"], df[\"Adv_Month\"], nan_policy=\"omit\")"
   ],
   "metadata": {
    "collapsed": false,
    "ExecuteTime": {
     "end_time": "2024-02-01T11:49:38.783899Z",
     "start_time": "2024-02-01T11:49:38.674972Z"
    }
   },
   "id": "6805c0fdbe71560f",
   "execution_count": 45
  },
  {
   "cell_type": "code",
   "outputs": [],
   "source": [
    "df[\"Adv_Month\"] = swap(\"Adv_Month\", to_cat)"
   ],
   "metadata": {
    "collapsed": false,
    "ExecuteTime": {
     "end_time": "2024-02-01T11:49:38.951266Z",
     "start_time": "2024-02-01T11:49:38.924890Z"
    }
   },
   "id": "a84b5eebb2ef71c6",
   "execution_count": 46
  },
  {
   "cell_type": "markdown",
   "source": [
    "#### Color"
   ],
   "metadata": {
    "collapsed": false
   },
   "id": "6a9ef33986a3e604"
  },
  {
   "cell_type": "code",
   "outputs": [],
   "source": [
    "to_num, to_cat = write_names(\"Color\")"
   ],
   "metadata": {
    "collapsed": false,
    "ExecuteTime": {
     "end_time": "2024-02-01T11:49:39.315961Z",
     "start_time": "2024-02-01T11:49:39.295482Z"
    }
   },
   "id": "7f36604ba9ec9976",
   "execution_count": 47
  },
  {
   "cell_type": "code",
   "outputs": [],
   "source": [
    "df[\"Color\"] = swap(\"Color\", to_num)"
   ],
   "metadata": {
    "collapsed": false,
    "ExecuteTime": {
     "end_time": "2024-02-01T11:49:39.581838Z",
     "start_time": "2024-02-01T11:49:39.510807Z"
    }
   },
   "id": "fab0db7c5a92685c",
   "execution_count": 48
  },
  {
   "cell_type": "code",
   "outputs": [
    {
     "data": {
      "text/plain": "KruskalResult(statistic=402456.5219254176, pvalue=0.0)"
     },
     "execution_count": 49,
     "metadata": {},
     "output_type": "execute_result"
    }
   ],
   "source": [
    "stats.kruskal(df[\"Price\"], df[\"Color\"], nan_policy=\"omit\")"
   ],
   "metadata": {
    "collapsed": false,
    "ExecuteTime": {
     "end_time": "2024-02-01T11:49:39.816085Z",
     "start_time": "2024-02-01T11:49:39.696572Z"
    }
   },
   "id": "da2b8e46eef53191",
   "execution_count": 49
  },
  {
   "cell_type": "code",
   "outputs": [],
   "source": [
    "df[\"Color\"] = swap(\"Color\", to_cat)"
   ],
   "metadata": {
    "collapsed": false,
    "ExecuteTime": {
     "end_time": "2024-02-01T11:49:40.009324Z",
     "start_time": "2024-02-01T11:49:39.950028Z"
    }
   },
   "id": "851c5bf3c137dcf",
   "execution_count": 50
  },
  {
   "cell_type": "markdown",
   "source": [
    "#### Body_Type"
   ],
   "metadata": {
    "collapsed": false
   },
   "id": "7fec907f7195a90f"
  },
  {
   "cell_type": "code",
   "outputs": [],
   "source": [
    "to_num, to_cat = write_names(\"Body_Type\")"
   ],
   "metadata": {
    "collapsed": false,
    "ExecuteTime": {
     "end_time": "2024-02-01T11:49:40.298481Z",
     "start_time": "2024-02-01T11:49:40.247112Z"
    }
   },
   "id": "963d46ac609bc10e",
   "execution_count": 51
  },
  {
   "cell_type": "code",
   "outputs": [],
   "source": [
    "df[\"Body_Type\"] = swap(\"Body_Type\", to_num)"
   ],
   "metadata": {
    "collapsed": false,
    "ExecuteTime": {
     "end_time": "2024-02-01T11:49:40.819788Z",
     "start_time": "2024-02-01T11:49:40.726718Z"
    }
   },
   "id": "5fcd459f968b67f3",
   "execution_count": 52
  },
  {
   "cell_type": "code",
   "outputs": [
    {
     "data": {
      "text/plain": "KruskalResult(statistic=405263.07081098575, pvalue=0.0)"
     },
     "execution_count": 53,
     "metadata": {},
     "output_type": "execute_result"
    }
   ],
   "source": [
    "stats.kruskal(df[\"Price\"], df[\"Body_Type\"], nan_policy=\"omit\")"
   ],
   "metadata": {
    "collapsed": false,
    "ExecuteTime": {
     "end_time": "2024-02-01T11:49:41.217246Z",
     "start_time": "2024-02-01T11:49:41.105346Z"
    }
   },
   "id": "ad5cffcab8d1f57b",
   "execution_count": 53
  },
  {
   "cell_type": "code",
   "outputs": [],
   "source": [
    "df[\"Body_Type\"] = swap(\"Body_Type\", to_cat)"
   ],
   "metadata": {
    "collapsed": false,
    "ExecuteTime": {
     "end_time": "2024-02-01T11:49:41.401127Z",
     "start_time": "2024-02-01T11:49:41.348219Z"
    }
   },
   "id": "1799119d6f3045cd",
   "execution_count": 54
  },
  {
   "cell_type": "markdown",
   "source": [
    "## Conclusions\n",
    "\n",
    "According to the tests, all the categorical features affect prices, and the relationships are statistically significant.\n",
    "As for the numerical features, there's 1 strong, statistically significant correlation, and 7 of moderate strength.\n",
    "\n",
    "I need to select only 5 of them for this project, so I decide to go with 2 categorical and 3 numerical features:\n",
    "1. Maker\n",
    "2. Fuel Type\n",
    "3. Registration Year\n",
    "4. Mileage\n",
    "5. Engine Power\n",
    "\n",
    "In case of categorical variables, the decision is rather arbitrary, but the numeric variables I select based on the correlation strength."
   ],
   "metadata": {
    "collapsed": false
   },
   "id": "36bc3478640d1cf3"
  }
 ],
 "metadata": {
  "kernelspec": {
   "display_name": "Python 3",
   "language": "python",
   "name": "python3"
  },
  "language_info": {
   "codemirror_mode": {
    "name": "ipython",
    "version": 2
   },
   "file_extension": ".py",
   "mimetype": "text/x-python",
   "name": "python",
   "nbconvert_exporter": "python",
   "pygments_lexer": "ipython2",
   "version": "2.7.6"
  }
 },
 "nbformat": 4,
 "nbformat_minor": 5
}
