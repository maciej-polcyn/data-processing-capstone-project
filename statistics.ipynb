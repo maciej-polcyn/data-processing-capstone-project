{
 "cells": [
  {
   "cell_type": "code",
   "execution_count": 1,
   "id": "initial_id",
   "metadata": {
    "collapsed": true,
    "ExecuteTime": {
     "end_time": "2024-02-06T16:06:35.166460Z",
     "start_time": "2024-02-06T16:06:34.547268Z"
    }
   },
   "outputs": [],
   "source": [
    "import pandas as pd\n",
    "from scipy import stats\n",
    "import my_statistics as mystats"
   ]
  },
  {
   "cell_type": "code",
   "outputs": [],
   "source": [
    "df = pd.read_csv(\"capstone_data_clean.csv\")\n",
    "df[\"Adv_Year\"] = df[\"Adv_Year\"].astype(\"category\")\n",
    "df[\"Adv_Month\"] = df[\"Adv_Month\"].astype(\"category\")\n",
    "df[\"Gearbox_Type\"] = df[\"Gearbox_Type\"].astype(\"category\")\n",
    "df[\"Fuel_Type\"] = df[\"Fuel_Type\"].astype(\"category\")"
   ],
   "metadata": {
    "collapsed": false,
    "ExecuteTime": {
     "end_time": "2024-02-06T16:06:35.461360Z",
     "start_time": "2024-02-06T16:06:35.167351Z"
    }
   },
   "id": "6fd18b3832100ea2",
   "execution_count": 2
  },
  {
   "cell_type": "code",
   "outputs": [
    {
     "data": {
      "text/plain": "Maker             object\nGenmodel          object\nGenmodel_ID       object\nAdv_Year        category\nAdv_Month       category\nColor             object\nBody_Type         object\nGearbox_Type    category\nFuel_Type       category\nReg_Year         float64\nMileage          float64\nEngine_Size      float64\nPrice            float64\nEngine_Power     float64\nAnnual_Tax       float64\nWheelbase        float64\nHeight           float64\nWidth            float64\nLength           float64\nAverage_Mpg      float64\nTop_Speed        float64\nSeat_Num         float64\nDoor_Num         float64\ndtype: object"
     },
     "execution_count": 3,
     "metadata": {},
     "output_type": "execute_result"
    }
   ],
   "source": [
    "df.dtypes"
   ],
   "metadata": {
    "collapsed": false,
    "ExecuteTime": {
     "end_time": "2024-02-06T16:06:35.466151Z",
     "start_time": "2024-02-06T16:06:35.463450Z"
    }
   },
   "id": "efb4aa18f279024c",
   "execution_count": 3
  },
  {
   "cell_type": "code",
   "outputs": [
    {
     "data": {
      "text/plain": "     Maker Genmodel Genmodel_ID Adv_Year Adv_Month   Color Body_Type  \\\n0  Bentley   Arnage        10_1     2018       Apr  Silver    Saloon   \n1  Bentley   Arnage        10_1     2018       Jun    Grey    Saloon   \n2  Bentley   Arnage        10_1     2017       Nov    Blue    Saloon   \n3  Bentley   Arnage        10_1     2018       Apr   Green    Saloon   \n4  Bentley   Arnage        10_1     2017       Nov    Grey    Saloon   \n\n  Gearbox_Type Fuel_Type  Reg_Year  ...  Engine_Power  Annual_Tax  Wheelbase  \\\n0    Automatic    Petrol    2000.0  ...           NaN         NaN     3116.0   \n1    Automatic    Petrol    2002.0  ...         450.0       315.0     3116.0   \n2    Automatic    Petrol    2002.0  ...         400.0       315.0     3116.0   \n3    Automatic    Petrol    2003.0  ...           NaN         NaN     3116.0   \n4    Automatic    Petrol    2003.0  ...           NaN         NaN     3116.0   \n\n   Height   Width  Length  Average_Mpg  Top_Speed  Seat_Num  Door_Num  \n0  1515.0  2125.0  5390.0          NaN        NaN       5.0       4.0  \n1  1515.0  2125.0  5390.0         13.7      179.0       5.0       4.0  \n2  1515.0  2125.0  5390.0         14.7      155.0       5.0       4.0  \n3  1515.0  2125.0  5390.0          NaN        NaN       5.0       4.0  \n4  1515.0  2125.0  5390.0          NaN        NaN       5.0       4.0  \n\n[5 rows x 23 columns]",
      "text/html": "<div>\n<style scoped>\n    .dataframe tbody tr th:only-of-type {\n        vertical-align: middle;\n    }\n\n    .dataframe tbody tr th {\n        vertical-align: top;\n    }\n\n    .dataframe thead th {\n        text-align: right;\n    }\n</style>\n<table border=\"1\" class=\"dataframe\">\n  <thead>\n    <tr style=\"text-align: right;\">\n      <th></th>\n      <th>Maker</th>\n      <th>Genmodel</th>\n      <th>Genmodel_ID</th>\n      <th>Adv_Year</th>\n      <th>Adv_Month</th>\n      <th>Color</th>\n      <th>Body_Type</th>\n      <th>Gearbox_Type</th>\n      <th>Fuel_Type</th>\n      <th>Reg_Year</th>\n      <th>...</th>\n      <th>Engine_Power</th>\n      <th>Annual_Tax</th>\n      <th>Wheelbase</th>\n      <th>Height</th>\n      <th>Width</th>\n      <th>Length</th>\n      <th>Average_Mpg</th>\n      <th>Top_Speed</th>\n      <th>Seat_Num</th>\n      <th>Door_Num</th>\n    </tr>\n  </thead>\n  <tbody>\n    <tr>\n      <th>0</th>\n      <td>Bentley</td>\n      <td>Arnage</td>\n      <td>10_1</td>\n      <td>2018</td>\n      <td>Apr</td>\n      <td>Silver</td>\n      <td>Saloon</td>\n      <td>Automatic</td>\n      <td>Petrol</td>\n      <td>2000.0</td>\n      <td>...</td>\n      <td>NaN</td>\n      <td>NaN</td>\n      <td>3116.0</td>\n      <td>1515.0</td>\n      <td>2125.0</td>\n      <td>5390.0</td>\n      <td>NaN</td>\n      <td>NaN</td>\n      <td>5.0</td>\n      <td>4.0</td>\n    </tr>\n    <tr>\n      <th>1</th>\n      <td>Bentley</td>\n      <td>Arnage</td>\n      <td>10_1</td>\n      <td>2018</td>\n      <td>Jun</td>\n      <td>Grey</td>\n      <td>Saloon</td>\n      <td>Automatic</td>\n      <td>Petrol</td>\n      <td>2002.0</td>\n      <td>...</td>\n      <td>450.0</td>\n      <td>315.0</td>\n      <td>3116.0</td>\n      <td>1515.0</td>\n      <td>2125.0</td>\n      <td>5390.0</td>\n      <td>13.7</td>\n      <td>179.0</td>\n      <td>5.0</td>\n      <td>4.0</td>\n    </tr>\n    <tr>\n      <th>2</th>\n      <td>Bentley</td>\n      <td>Arnage</td>\n      <td>10_1</td>\n      <td>2017</td>\n      <td>Nov</td>\n      <td>Blue</td>\n      <td>Saloon</td>\n      <td>Automatic</td>\n      <td>Petrol</td>\n      <td>2002.0</td>\n      <td>...</td>\n      <td>400.0</td>\n      <td>315.0</td>\n      <td>3116.0</td>\n      <td>1515.0</td>\n      <td>2125.0</td>\n      <td>5390.0</td>\n      <td>14.7</td>\n      <td>155.0</td>\n      <td>5.0</td>\n      <td>4.0</td>\n    </tr>\n    <tr>\n      <th>3</th>\n      <td>Bentley</td>\n      <td>Arnage</td>\n      <td>10_1</td>\n      <td>2018</td>\n      <td>Apr</td>\n      <td>Green</td>\n      <td>Saloon</td>\n      <td>Automatic</td>\n      <td>Petrol</td>\n      <td>2003.0</td>\n      <td>...</td>\n      <td>NaN</td>\n      <td>NaN</td>\n      <td>3116.0</td>\n      <td>1515.0</td>\n      <td>2125.0</td>\n      <td>5390.0</td>\n      <td>NaN</td>\n      <td>NaN</td>\n      <td>5.0</td>\n      <td>4.0</td>\n    </tr>\n    <tr>\n      <th>4</th>\n      <td>Bentley</td>\n      <td>Arnage</td>\n      <td>10_1</td>\n      <td>2017</td>\n      <td>Nov</td>\n      <td>Grey</td>\n      <td>Saloon</td>\n      <td>Automatic</td>\n      <td>Petrol</td>\n      <td>2003.0</td>\n      <td>...</td>\n      <td>NaN</td>\n      <td>NaN</td>\n      <td>3116.0</td>\n      <td>1515.0</td>\n      <td>2125.0</td>\n      <td>5390.0</td>\n      <td>NaN</td>\n      <td>NaN</td>\n      <td>5.0</td>\n      <td>4.0</td>\n    </tr>\n  </tbody>\n</table>\n<p>5 rows × 23 columns</p>\n</div>"
     },
     "execution_count": 4,
     "metadata": {},
     "output_type": "execute_result"
    }
   ],
   "source": [
    "df.head()"
   ],
   "metadata": {
    "collapsed": false,
    "ExecuteTime": {
     "end_time": "2024-02-06T16:06:35.478918Z",
     "start_time": "2024-02-06T16:06:35.467972Z"
    }
   },
   "id": "d627fcec5f5f4bf0",
   "execution_count": 4
  },
  {
   "cell_type": "markdown",
   "source": [
    "# Characteristic of the Price variable"
   ],
   "metadata": {
    "collapsed": false
   },
   "id": "b233c1ee36c65c53"
  },
  {
   "cell_type": "code",
   "outputs": [
    {
     "data": {
      "text/plain": "count    2.662350e+05\nmean     1.471670e+04\nstd      2.594508e+04\nmin      1.000000e+02\n25%      4.990000e+03\n50%      9.295000e+03\n75%      1.711100e+04\nmax      2.599990e+06\nName: Price, dtype: float64"
     },
     "execution_count": 5,
     "metadata": {},
     "output_type": "execute_result"
    }
   ],
   "source": [
    "df[\"Price\"].describe()"
   ],
   "metadata": {
    "collapsed": false,
    "ExecuteTime": {
     "end_time": "2024-02-06T16:06:35.510922Z",
     "start_time": "2024-02-06T16:06:35.476983Z"
    }
   },
   "id": "21816adaf86dc768",
   "execution_count": 5
  },
  {
   "cell_type": "code",
   "outputs": [
    {
     "data": {
      "text/plain": "0    3995.0\nName: Price, dtype: float64"
     },
     "execution_count": 6,
     "metadata": {},
     "output_type": "execute_result"
    }
   ],
   "source": [
    "df[\"Price\"].mode()"
   ],
   "metadata": {
    "collapsed": false,
    "ExecuteTime": {
     "end_time": "2024-02-06T16:06:35.520291Z",
     "start_time": "2024-02-06T16:06:35.506424Z"
    }
   },
   "id": "7015d865f0a65073",
   "execution_count": 6
  },
  {
   "cell_type": "code",
   "outputs": [
    {
     "data": {
      "text/plain": "30.194572570312697"
     },
     "execution_count": 7,
     "metadata": {},
     "output_type": "execute_result"
    }
   ],
   "source": [
    "df[\"Price\"].skew()"
   ],
   "metadata": {
    "collapsed": false,
    "ExecuteTime": {
     "end_time": "2024-02-06T16:06:35.520674Z",
     "start_time": "2024-02-06T16:06:35.506842Z"
    }
   },
   "id": "df602ba65bf2f24b",
   "execution_count": 7
  },
  {
   "cell_type": "markdown",
   "source": [
    "### Price normal distribution test:\n",
    "> H0: the variable is normally distributed\n",
    "> H1: the variable is not normally distributed"
   ],
   "metadata": {
    "collapsed": false
   },
   "id": "59120af4eccf3c60"
  },
  {
   "cell_type": "code",
   "outputs": [
    {
     "data": {
      "text/plain": "NormaltestResult(statistic=696368.0014545948, pvalue=0.0)"
     },
     "execution_count": 8,
     "metadata": {},
     "output_type": "execute_result"
    }
   ],
   "source": [
    "stats.normaltest(df[\"Price\"], nan_policy=\"omit\")"
   ],
   "metadata": {
    "collapsed": false,
    "ExecuteTime": {
     "end_time": "2024-02-06T16:06:35.567862Z",
     "start_time": "2024-02-06T16:06:35.510546Z"
    }
   },
   "id": "1c30e0e4c5da10c6",
   "execution_count": 8
  },
  {
   "cell_type": "markdown",
   "source": [
    "### Conclusion\n",
    "1. There's a reason to reject H0 in favor of H1 and assume that the distribution of prices is different than normal.\n",
    "2. Because of that I have to use non-parametric tests for calculations."
   ],
   "metadata": {
    "collapsed": false
   },
   "id": "b0b095ecc534dbde"
  },
  {
   "cell_type": "markdown",
   "source": [
    "## Numeric features' influence on Price"
   ],
   "metadata": {
    "collapsed": false
   },
   "id": "69ced68ba6fc5db9"
  },
  {
   "cell_type": "markdown",
   "source": [
    "### Spearman correlations\n",
    "I choose a Spearman R correlation, because:\n",
    "1. It's a non-parametric, rank-based test. \n",
    "2. there's no assumptions about the distributions or data, except that variables should be at least ordinal. "
   ],
   "metadata": {
    "collapsed": false
   },
   "id": "1b092106da51c488"
  },
  {
   "cell_type": "code",
   "outputs": [
    {
     "data": {
      "text/plain": "         Feature  Spearman_R       P_Value  Strength\n0       Reg_Year    0.736614  0.000000e+00    Strong\n1        Mileage   -0.666629  0.000000e+00  Moderate\n2   Engine_Power    0.582099  0.000000e+00  Moderate\n3         Length    0.483369  0.000000e+00  Moderate\n4      Top_Speed    0.459417  0.000000e+00  Moderate\n5          Width    0.455132  0.000000e+00  Moderate\n6      Wheelbase    0.442061  0.000000e+00  Moderate\n7    Engine_Size    0.440565  0.000000e+00  Moderate\n8         Height    0.156611  0.000000e+00      Weak\n9       Seat_Num    0.038742  6.098020e-89      None\n10   Average_Mpg    0.027653  2.066556e-39      None\n11      Door_Num    0.025816  1.868939e-40      None\n12    Annual_Tax   -0.014446  1.241908e-11      None",
      "text/html": "<div>\n<style scoped>\n    .dataframe tbody tr th:only-of-type {\n        vertical-align: middle;\n    }\n\n    .dataframe tbody tr th {\n        vertical-align: top;\n    }\n\n    .dataframe thead th {\n        text-align: right;\n    }\n</style>\n<table border=\"1\" class=\"dataframe\">\n  <thead>\n    <tr style=\"text-align: right;\">\n      <th></th>\n      <th>Feature</th>\n      <th>Spearman_R</th>\n      <th>P_Value</th>\n      <th>Strength</th>\n    </tr>\n  </thead>\n  <tbody>\n    <tr>\n      <th>0</th>\n      <td>Reg_Year</td>\n      <td>0.736614</td>\n      <td>0.000000e+00</td>\n      <td>Strong</td>\n    </tr>\n    <tr>\n      <th>1</th>\n      <td>Mileage</td>\n      <td>-0.666629</td>\n      <td>0.000000e+00</td>\n      <td>Moderate</td>\n    </tr>\n    <tr>\n      <th>2</th>\n      <td>Engine_Power</td>\n      <td>0.582099</td>\n      <td>0.000000e+00</td>\n      <td>Moderate</td>\n    </tr>\n    <tr>\n      <th>3</th>\n      <td>Length</td>\n      <td>0.483369</td>\n      <td>0.000000e+00</td>\n      <td>Moderate</td>\n    </tr>\n    <tr>\n      <th>4</th>\n      <td>Top_Speed</td>\n      <td>0.459417</td>\n      <td>0.000000e+00</td>\n      <td>Moderate</td>\n    </tr>\n    <tr>\n      <th>5</th>\n      <td>Width</td>\n      <td>0.455132</td>\n      <td>0.000000e+00</td>\n      <td>Moderate</td>\n    </tr>\n    <tr>\n      <th>6</th>\n      <td>Wheelbase</td>\n      <td>0.442061</td>\n      <td>0.000000e+00</td>\n      <td>Moderate</td>\n    </tr>\n    <tr>\n      <th>7</th>\n      <td>Engine_Size</td>\n      <td>0.440565</td>\n      <td>0.000000e+00</td>\n      <td>Moderate</td>\n    </tr>\n    <tr>\n      <th>8</th>\n      <td>Height</td>\n      <td>0.156611</td>\n      <td>0.000000e+00</td>\n      <td>Weak</td>\n    </tr>\n    <tr>\n      <th>9</th>\n      <td>Seat_Num</td>\n      <td>0.038742</td>\n      <td>6.098020e-89</td>\n      <td>None</td>\n    </tr>\n    <tr>\n      <th>10</th>\n      <td>Average_Mpg</td>\n      <td>0.027653</td>\n      <td>2.066556e-39</td>\n      <td>None</td>\n    </tr>\n    <tr>\n      <th>11</th>\n      <td>Door_Num</td>\n      <td>0.025816</td>\n      <td>1.868939e-40</td>\n      <td>None</td>\n    </tr>\n    <tr>\n      <th>12</th>\n      <td>Annual_Tax</td>\n      <td>-0.014446</td>\n      <td>1.241908e-11</td>\n      <td>None</td>\n    </tr>\n  </tbody>\n</table>\n</div>"
     },
     "execution_count": 9,
     "metadata": {},
     "output_type": "execute_result"
    }
   ],
   "source": [
    "mystats.spearman_assess(df, \"Price\")    # It takes around 1 minute"
   ],
   "metadata": {
    "collapsed": false,
    "ExecuteTime": {
     "end_time": "2024-02-06T16:07:19.192230Z",
     "start_time": "2024-02-06T16:06:35.541017Z"
    }
   },
   "id": "21e20043086db7a3",
   "execution_count": 9
  },
  {
   "cell_type": "markdown",
   "source": [
    "## Categorical features' influence on Price"
   ],
   "metadata": {
    "collapsed": false
   },
   "id": "b333cf01442fde6a"
  },
  {
   "cell_type": "markdown",
   "source": [
    "### Due to the not-normally distributed price, I decided to use Kruskal-Wallis H-test for categorical features.\n",
    "\n",
    "Implementation of that test in Python requires the categories to be in a numerical format, so I created a function to convert values."
   ],
   "metadata": {
    "collapsed": false
   },
   "id": "7d86d4ed9f62cf56"
  },
  {
   "cell_type": "code",
   "outputs": [
    {
     "data": {
      "text/plain": "        Feature  Kruskal-Wallis_H  P_Value\n0         Maker     400353.805028      0.0\n1      Genmodel     390654.420981      0.0\n2   Genmodel_ID     390679.030420      0.0\n3      Adv_Year     439784.583095      0.0\n4     Adv_Month     401705.923938      0.0\n5         Color     401135.020731      0.0\n6     Body_Type     403927.393802      0.0\n7  Gearbox_Type     416197.051149      0.0\n8     Fuel_Type     412060.534283      0.0",
      "text/html": "<div>\n<style scoped>\n    .dataframe tbody tr th:only-of-type {\n        vertical-align: middle;\n    }\n\n    .dataframe tbody tr th {\n        vertical-align: top;\n    }\n\n    .dataframe thead th {\n        text-align: right;\n    }\n</style>\n<table border=\"1\" class=\"dataframe\">\n  <thead>\n    <tr style=\"text-align: right;\">\n      <th></th>\n      <th>Feature</th>\n      <th>Kruskal-Wallis_H</th>\n      <th>P_Value</th>\n    </tr>\n  </thead>\n  <tbody>\n    <tr>\n      <th>0</th>\n      <td>Maker</td>\n      <td>400353.805028</td>\n      <td>0.0</td>\n    </tr>\n    <tr>\n      <th>1</th>\n      <td>Genmodel</td>\n      <td>390654.420981</td>\n      <td>0.0</td>\n    </tr>\n    <tr>\n      <th>2</th>\n      <td>Genmodel_ID</td>\n      <td>390679.030420</td>\n      <td>0.0</td>\n    </tr>\n    <tr>\n      <th>3</th>\n      <td>Adv_Year</td>\n      <td>439784.583095</td>\n      <td>0.0</td>\n    </tr>\n    <tr>\n      <th>4</th>\n      <td>Adv_Month</td>\n      <td>401705.923938</td>\n      <td>0.0</td>\n    </tr>\n    <tr>\n      <th>5</th>\n      <td>Color</td>\n      <td>401135.020731</td>\n      <td>0.0</td>\n    </tr>\n    <tr>\n      <th>6</th>\n      <td>Body_Type</td>\n      <td>403927.393802</td>\n      <td>0.0</td>\n    </tr>\n    <tr>\n      <th>7</th>\n      <td>Gearbox_Type</td>\n      <td>416197.051149</td>\n      <td>0.0</td>\n    </tr>\n    <tr>\n      <th>8</th>\n      <td>Fuel_Type</td>\n      <td>412060.534283</td>\n      <td>0.0</td>\n    </tr>\n  </tbody>\n</table>\n</div>"
     },
     "execution_count": 10,
     "metadata": {},
     "output_type": "execute_result"
    }
   ],
   "source": [
    "mystats.kruskal_all(df, \"Price\")"
   ],
   "metadata": {
    "collapsed": false,
    "ExecuteTime": {
     "end_time": "2024-02-06T16:07:20.208788Z",
     "start_time": "2024-02-06T16:07:19.198832Z"
    }
   },
   "id": "64e2a693230f8d24",
   "execution_count": 10
  },
  {
   "cell_type": "markdown",
   "source": [
    "## Conclusions\n",
    "\n",
    "According to the tests, all the categorical features affect prices, and the relationships are statistically significant.\n",
    "As for the numerical features, there's 1 strong, statistically significant correlation, and 7 of moderate strength.\n",
    "\n",
    "I need to select only 5 of them for this project, so I decide to go with 2 categorical and 3 numerical features:\n",
    "1. Maker\n",
    "2. Fuel Type\n",
    "3. Registration Year\n",
    "4. Mileage\n",
    "5. Engine Power\n",
    "\n",
    "In case of categorical variables, the decision is rather arbitrary, but the numeric variables I select based on the correlation strength."
   ],
   "metadata": {
    "collapsed": false
   },
   "id": "36bc3478640d1cf3"
  }
 ],
 "metadata": {
  "kernelspec": {
   "display_name": "Python 3",
   "language": "python",
   "name": "python3"
  },
  "language_info": {
   "codemirror_mode": {
    "name": "ipython",
    "version": 2
   },
   "file_extension": ".py",
   "mimetype": "text/x-python",
   "name": "python",
   "nbconvert_exporter": "python",
   "pygments_lexer": "ipython2",
   "version": "2.7.6"
  }
 },
 "nbformat": 4,
 "nbformat_minor": 5
}
