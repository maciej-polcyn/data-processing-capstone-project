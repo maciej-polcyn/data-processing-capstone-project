{
 "cells": [
  {
   "cell_type": "code",
   "execution_count": 1,
   "id": "initial_id",
   "metadata": {
    "collapsed": true,
    "ExecuteTime": {
     "end_time": "2024-02-02T15:14:15.093741Z",
     "start_time": "2024-02-02T15:14:15.046825Z"
    }
   },
   "outputs": [],
   "source": [
    "import numpy as np\n",
    "import pandas as pd\n",
    "from scipy import stats"
   ]
  },
  {
   "cell_type": "code",
   "outputs": [],
   "source": [
    "df = pd.read_csv(\"capstone_data_clean.csv\")\n",
    "df[\"Adv_Year\"] = df[\"Adv_Year\"].astype(\"category\")\n",
    "df[\"Adv_Month\"] = df[\"Adv_Month\"].astype(\"category\")\n",
    "df[\"Gearbox_Type\"] = df[\"Gearbox_Type\"].astype(\"category\")\n",
    "df[\"Fuel_Type\"] = df[\"Fuel_Type\"].astype(\"category\")"
   ],
   "metadata": {
    "collapsed": false,
    "ExecuteTime": {
     "end_time": "2024-02-02T15:14:15.960189Z",
     "start_time": "2024-02-02T15:14:15.098066Z"
    }
   },
   "id": "6fd18b3832100ea2",
   "execution_count": 2
  },
  {
   "cell_type": "code",
   "outputs": [
    {
     "data": {
      "text/plain": "Maker             object\nGenmodel          object\nGenmodel_ID       object\nAdv_ID            object\nAdv_Year        category\nAdv_Month       category\nColor             object\nBody_Type         object\nGearbox_Type    category\nFuel_Type       category\nReg_Year         float64\nMileage          float64\nEngine_Size      float64\nPrice            float64\nEngine_Power     float64\nAnnual_Tax       float64\nWheelbase        float64\nHeight           float64\nWidth            float64\nLength           float64\nAverage_Mpg      float64\nTop_Speed        float64\nSeat_Num         float64\nDoor_Num         float64\ndtype: object"
     },
     "execution_count": 3,
     "metadata": {},
     "output_type": "execute_result"
    }
   ],
   "source": [
    "df.dtypes"
   ],
   "metadata": {
    "collapsed": false,
    "ExecuteTime": {
     "end_time": "2024-02-02T15:14:15.974438Z",
     "start_time": "2024-02-02T15:14:15.966922Z"
    }
   },
   "id": "efb4aa18f279024c",
   "execution_count": 3
  },
  {
   "cell_type": "code",
   "outputs": [
    {
     "name": "stdout",
     "output_type": "stream",
     "text": [
      "<class 'pandas.core.frame.DataFrame'>\n",
      "RangeIndex: 268250 entries, 0 to 268249\n",
      "Data columns (total 24 columns):\n",
      " #   Column        Non-Null Count   Dtype   \n",
      "---  ------        --------------   -----   \n",
      " 0   Maker         268250 non-null  object  \n",
      " 1   Genmodel      268250 non-null  object  \n",
      " 2   Genmodel_ID   268250 non-null  object  \n",
      " 3   Adv_ID        268250 non-null  object  \n",
      " 4   Adv_Year      268250 non-null  category\n",
      " 5   Adv_Month     268250 non-null  category\n",
      " 6   Color         246375 non-null  object  \n",
      " 7   Body_Type     267296 non-null  object  \n",
      " 8   Gearbox_Type  268083 non-null  category\n",
      " 9   Fuel_Type     267841 non-null  category\n",
      " 10  Reg_Year      268243 non-null  float64 \n",
      " 11  Mileage       267195 non-null  float64 \n",
      " 12  Engine_Size   266186 non-null  float64 \n",
      " 13  Price         267105 non-null  float64 \n",
      " 14  Engine_Power  236441 non-null  float64 \n",
      " 15  Annual_Tax    220715 non-null  float64 \n",
      " 16  Wheelbase     232830 non-null  float64 \n",
      " 17  Height        239506 non-null  float64 \n",
      " 18  Width         240172 non-null  float64 \n",
      " 19  Length        240363 non-null  float64 \n",
      " 20  Average_Mpg   226320 non-null  float64 \n",
      " 21  Top_Speed     224650 non-null  float64 \n",
      " 22  Seat_Num      261777 non-null  float64 \n",
      " 23  Door_Num      263699 non-null  float64 \n",
      "dtypes: category(4), float64(14), object(6)\n",
      "memory usage: 42.0+ MB\n"
     ]
    }
   ],
   "source": [
    "df.info()"
   ],
   "metadata": {
    "collapsed": false,
    "ExecuteTime": {
     "end_time": "2024-02-02T15:14:16.052077Z",
     "start_time": "2024-02-02T15:14:15.971526Z"
    }
   },
   "id": "2026de9c69a09976",
   "execution_count": 4
  },
  {
   "cell_type": "code",
   "outputs": [
    {
     "data": {
      "text/plain": "     Maker Genmodel Genmodel_ID  Adv_ID Adv_Year Adv_Month   Color Body_Type  \\\n0  Bentley   Arnage        10_1  10_1_1     2018       Apr  Silver    Saloon   \n1  Bentley   Arnage        10_1  10_1_2     2018       Jun    Grey    Saloon   \n2  Bentley   Arnage        10_1  10_1_3     2017       Nov    Blue    Saloon   \n3  Bentley   Arnage        10_1  10_1_4     2018       Apr   Green    Saloon   \n4  Bentley   Arnage        10_1  10_1_5     2017       Nov    Grey    Saloon   \n\n  Gearbox_Type Fuel_Type  ...  Engine_Power  Annual_Tax  Wheelbase  Height  \\\n0    Automatic    Petrol  ...           NaN         NaN     3116.0  1515.0   \n1    Automatic    Petrol  ...         450.0       315.0     3116.0  1515.0   \n2    Automatic    Petrol  ...         400.0       315.0     3116.0  1515.0   \n3    Automatic    Petrol  ...           NaN         NaN     3116.0  1515.0   \n4    Automatic    Petrol  ...           NaN         NaN     3116.0  1515.0   \n\n    Width  Length  Average_Mpg  Top_Speed  Seat_Num  Door_Num  \n0  2125.0  5390.0          NaN        NaN       5.0       4.0  \n1  2125.0  5390.0         13.7      179.0       5.0       4.0  \n2  2125.0  5390.0         14.7      155.0       5.0       4.0  \n3  2125.0  5390.0          NaN        NaN       5.0       4.0  \n4  2125.0  5390.0          NaN        NaN       5.0       4.0  \n\n[5 rows x 24 columns]",
      "text/html": "<div>\n<style scoped>\n    .dataframe tbody tr th:only-of-type {\n        vertical-align: middle;\n    }\n\n    .dataframe tbody tr th {\n        vertical-align: top;\n    }\n\n    .dataframe thead th {\n        text-align: right;\n    }\n</style>\n<table border=\"1\" class=\"dataframe\">\n  <thead>\n    <tr style=\"text-align: right;\">\n      <th></th>\n      <th>Maker</th>\n      <th>Genmodel</th>\n      <th>Genmodel_ID</th>\n      <th>Adv_ID</th>\n      <th>Adv_Year</th>\n      <th>Adv_Month</th>\n      <th>Color</th>\n      <th>Body_Type</th>\n      <th>Gearbox_Type</th>\n      <th>Fuel_Type</th>\n      <th>...</th>\n      <th>Engine_Power</th>\n      <th>Annual_Tax</th>\n      <th>Wheelbase</th>\n      <th>Height</th>\n      <th>Width</th>\n      <th>Length</th>\n      <th>Average_Mpg</th>\n      <th>Top_Speed</th>\n      <th>Seat_Num</th>\n      <th>Door_Num</th>\n    </tr>\n  </thead>\n  <tbody>\n    <tr>\n      <th>0</th>\n      <td>Bentley</td>\n      <td>Arnage</td>\n      <td>10_1</td>\n      <td>10_1_1</td>\n      <td>2018</td>\n      <td>Apr</td>\n      <td>Silver</td>\n      <td>Saloon</td>\n      <td>Automatic</td>\n      <td>Petrol</td>\n      <td>...</td>\n      <td>NaN</td>\n      <td>NaN</td>\n      <td>3116.0</td>\n      <td>1515.0</td>\n      <td>2125.0</td>\n      <td>5390.0</td>\n      <td>NaN</td>\n      <td>NaN</td>\n      <td>5.0</td>\n      <td>4.0</td>\n    </tr>\n    <tr>\n      <th>1</th>\n      <td>Bentley</td>\n      <td>Arnage</td>\n      <td>10_1</td>\n      <td>10_1_2</td>\n      <td>2018</td>\n      <td>Jun</td>\n      <td>Grey</td>\n      <td>Saloon</td>\n      <td>Automatic</td>\n      <td>Petrol</td>\n      <td>...</td>\n      <td>450.0</td>\n      <td>315.0</td>\n      <td>3116.0</td>\n      <td>1515.0</td>\n      <td>2125.0</td>\n      <td>5390.0</td>\n      <td>13.7</td>\n      <td>179.0</td>\n      <td>5.0</td>\n      <td>4.0</td>\n    </tr>\n    <tr>\n      <th>2</th>\n      <td>Bentley</td>\n      <td>Arnage</td>\n      <td>10_1</td>\n      <td>10_1_3</td>\n      <td>2017</td>\n      <td>Nov</td>\n      <td>Blue</td>\n      <td>Saloon</td>\n      <td>Automatic</td>\n      <td>Petrol</td>\n      <td>...</td>\n      <td>400.0</td>\n      <td>315.0</td>\n      <td>3116.0</td>\n      <td>1515.0</td>\n      <td>2125.0</td>\n      <td>5390.0</td>\n      <td>14.7</td>\n      <td>155.0</td>\n      <td>5.0</td>\n      <td>4.0</td>\n    </tr>\n    <tr>\n      <th>3</th>\n      <td>Bentley</td>\n      <td>Arnage</td>\n      <td>10_1</td>\n      <td>10_1_4</td>\n      <td>2018</td>\n      <td>Apr</td>\n      <td>Green</td>\n      <td>Saloon</td>\n      <td>Automatic</td>\n      <td>Petrol</td>\n      <td>...</td>\n      <td>NaN</td>\n      <td>NaN</td>\n      <td>3116.0</td>\n      <td>1515.0</td>\n      <td>2125.0</td>\n      <td>5390.0</td>\n      <td>NaN</td>\n      <td>NaN</td>\n      <td>5.0</td>\n      <td>4.0</td>\n    </tr>\n    <tr>\n      <th>4</th>\n      <td>Bentley</td>\n      <td>Arnage</td>\n      <td>10_1</td>\n      <td>10_1_5</td>\n      <td>2017</td>\n      <td>Nov</td>\n      <td>Grey</td>\n      <td>Saloon</td>\n      <td>Automatic</td>\n      <td>Petrol</td>\n      <td>...</td>\n      <td>NaN</td>\n      <td>NaN</td>\n      <td>3116.0</td>\n      <td>1515.0</td>\n      <td>2125.0</td>\n      <td>5390.0</td>\n      <td>NaN</td>\n      <td>NaN</td>\n      <td>5.0</td>\n      <td>4.0</td>\n    </tr>\n  </tbody>\n</table>\n<p>5 rows × 24 columns</p>\n</div>"
     },
     "execution_count": 5,
     "metadata": {},
     "output_type": "execute_result"
    }
   ],
   "source": [
    "df.head()"
   ],
   "metadata": {
    "collapsed": false,
    "ExecuteTime": {
     "end_time": "2024-02-02T15:14:16.132925Z",
     "start_time": "2024-02-02T15:14:16.055130Z"
    }
   },
   "id": "d627fcec5f5f4bf0",
   "execution_count": 5
  },
  {
   "cell_type": "markdown",
   "source": [
    "# Characteristic of the Price variable"
   ],
   "metadata": {
    "collapsed": false
   },
   "id": "b233c1ee36c65c53"
  },
  {
   "cell_type": "code",
   "outputs": [
    {
     "data": {
      "text/plain": "count    2.671050e+05\nmean     1.471860e+04\nstd      2.591019e+04\nmin      1.000000e+02\n25%      4.990000e+03\n50%      9.299000e+03\n75%      1.715000e+04\nmax      2.599990e+06\nName: Price, dtype: float64"
     },
     "execution_count": 6,
     "metadata": {},
     "output_type": "execute_result"
    }
   ],
   "source": [
    "df[\"Price\"].describe()"
   ],
   "metadata": {
    "collapsed": false,
    "ExecuteTime": {
     "end_time": "2024-02-02T15:14:16.133852Z",
     "start_time": "2024-02-02T15:14:16.076081Z"
    }
   },
   "id": "21816adaf86dc768",
   "execution_count": 6
  },
  {
   "cell_type": "code",
   "outputs": [
    {
     "data": {
      "text/plain": "0    3995.0\nName: Price, dtype: float64"
     },
     "execution_count": 7,
     "metadata": {},
     "output_type": "execute_result"
    }
   ],
   "source": [
    "df[\"Price\"].mode()"
   ],
   "metadata": {
    "collapsed": false,
    "ExecuteTime": {
     "end_time": "2024-02-02T15:14:16.134410Z",
     "start_time": "2024-02-02T15:14:16.099322Z"
    }
   },
   "id": "7015d865f0a65073",
   "execution_count": 7
  },
  {
   "cell_type": "code",
   "outputs": [
    {
     "data": {
      "text/plain": "30.218340246645827"
     },
     "execution_count": 8,
     "metadata": {},
     "output_type": "execute_result"
    }
   ],
   "source": [
    "df[\"Price\"].skew()"
   ],
   "metadata": {
    "collapsed": false,
    "ExecuteTime": {
     "end_time": "2024-02-02T15:14:16.134906Z",
     "start_time": "2024-02-02T15:14:16.102467Z"
    }
   },
   "id": "df602ba65bf2f24b",
   "execution_count": 8
  },
  {
   "cell_type": "markdown",
   "source": [
    "### Price normal distribution test:\n",
    "> H0: the variable is normally distributed\n",
    "> H1: the variable is not normally distributed"
   ],
   "metadata": {
    "collapsed": false
   },
   "id": "59120af4eccf3c60"
  },
  {
   "cell_type": "code",
   "outputs": [
    {
     "data": {
      "text/plain": "NormaltestResult(statistic=698863.9256911167, pvalue=0.0)"
     },
     "execution_count": 9,
     "metadata": {},
     "output_type": "execute_result"
    }
   ],
   "source": [
    "stats.normaltest(df[\"Price\"], nan_policy=\"omit\")"
   ],
   "metadata": {
    "collapsed": false,
    "ExecuteTime": {
     "end_time": "2024-02-02T15:14:16.195052Z",
     "start_time": "2024-02-02T15:14:16.111789Z"
    }
   },
   "id": "1c30e0e4c5da10c6",
   "execution_count": 9
  },
  {
   "cell_type": "markdown",
   "source": [
    "### Conclusion\n",
    "1. There's a reason to reject H0 in favor of H1 and assume that the distribution of prices is different than normal.\n",
    "2. Because of that I have to use non-parametric tests for calculations."
   ],
   "metadata": {
    "collapsed": false
   },
   "id": "b0b095ecc534dbde"
  },
  {
   "cell_type": "markdown",
   "source": [
    "## Numeric features' influence on Price"
   ],
   "metadata": {
    "collapsed": false
   },
   "id": "69ced68ba6fc5db9"
  },
  {
   "cell_type": "markdown",
   "source": [
    "### Spearman correlations\n",
    "I choose a Spearman R correlation, because:\n",
    "1. It's a non-parametric, rank-based test. \n",
    "2. there's no assumptions about the distributions or data, except that variables should be at least ordinal. "
   ],
   "metadata": {
    "collapsed": false
   },
   "id": "1b092106da51c488"
  },
  {
   "cell_type": "code",
   "outputs": [],
   "source": [
    "def spearman_assess(data_frame, correlate_with):\n",
    "    table = pd.DataFrame()\n",
    "    names = []\n",
    "    strength = []\n",
    "    correlation = []\n",
    "    pvalue = []\n",
    "    \n",
    "# Calculating Spearman R for all numeric variables\n",
    "    for column in data_frame.columns:\n",
    "        if data_frame[column].dtype.kind in 'if':\n",
    "            if column != correlate_with:\n",
    "                test = stats.spearmanr(data_frame[correlate_with], data_frame[column], nan_policy=\"omit\")\n",
    "                \n",
    "# Preparing series for a summary table       \n",
    "                names.append(column)\n",
    "                correlation.append(test[0])\n",
    "                pvalue.append(test[1])\n",
    "                if test[0] >= 0.89 or test[0] <= -0.89:\n",
    "                    strength.append(\"Very Strong\")\n",
    "                elif test[0] >= 0.68 or test[0] <= -0.68:\n",
    "                    strength.append(\"Strong\")\n",
    "                elif test[0] >= 0.38 or test[0] <= -0.38:\n",
    "                    strength.append(\"Moderate\")\n",
    "                elif test[0] >= 0.1 or test[0] <= -0.1:\n",
    "                    strength.append(\"Weak\")\n",
    "                else:\n",
    "                    strength.append(\"None\")\n",
    "\n",
    "# Creating a summary table                    \n",
    "    table[\"Feature\"] = names\n",
    "    table[\"Spearman_R\"] = correlation\n",
    "    table[\"P_Value\"] = pvalue\n",
    "    table[\"Strength\"] = strength\n",
    "        \n",
    "    return table.reindex(table[\"Spearman_R\"].abs().sort_values(ascending=False).index).reset_index(drop=True)"
   ],
   "metadata": {
    "collapsed": false,
    "ExecuteTime": {
     "end_time": "2024-02-02T15:14:16.195876Z",
     "start_time": "2024-02-02T15:14:16.170919Z"
    }
   },
   "id": "9189acad6c698a04",
   "execution_count": 10
  },
  {
   "cell_type": "code",
   "outputs": [],
   "source": [
    "correlation_strength = spearman_assess(df, \"Price\")"
   ],
   "metadata": {
    "collapsed": false,
    "ExecuteTime": {
     "end_time": "2024-02-02T15:15:35.782300Z",
     "start_time": "2024-02-02T15:14:16.178077Z"
    }
   },
   "id": "21e20043086db7a3",
   "execution_count": 11
  },
  {
   "cell_type": "code",
   "outputs": [
    {
     "data": {
      "text/plain": "         Feature  Spearman_R       P_Value  Strength\n0       Reg_Year    0.735519  0.000000e+00    Strong\n1        Mileage   -0.665604  0.000000e+00  Moderate\n2   Engine_Power    0.580736  0.000000e+00  Moderate\n3         Length    0.482357  0.000000e+00  Moderate\n4      Top_Speed    0.458324  0.000000e+00  Moderate\n5          Width    0.454901  0.000000e+00  Moderate\n6      Wheelbase    0.441041  0.000000e+00  Moderate\n7    Engine_Size    0.439394  0.000000e+00  Moderate\n8         Height    0.156925  0.000000e+00      Weak\n9       Seat_Num    0.041390  3.351315e-99      None\n10      Door_Num    0.030172  5.934536e-54      None\n11   Average_Mpg    0.028061  1.150491e-40      None\n12    Annual_Tax   -0.014391  1.369738e-11      None",
      "text/html": "<div>\n<style scoped>\n    .dataframe tbody tr th:only-of-type {\n        vertical-align: middle;\n    }\n\n    .dataframe tbody tr th {\n        vertical-align: top;\n    }\n\n    .dataframe thead th {\n        text-align: right;\n    }\n</style>\n<table border=\"1\" class=\"dataframe\">\n  <thead>\n    <tr style=\"text-align: right;\">\n      <th></th>\n      <th>Feature</th>\n      <th>Spearman_R</th>\n      <th>P_Value</th>\n      <th>Strength</th>\n    </tr>\n  </thead>\n  <tbody>\n    <tr>\n      <th>0</th>\n      <td>Reg_Year</td>\n      <td>0.735519</td>\n      <td>0.000000e+00</td>\n      <td>Strong</td>\n    </tr>\n    <tr>\n      <th>1</th>\n      <td>Mileage</td>\n      <td>-0.665604</td>\n      <td>0.000000e+00</td>\n      <td>Moderate</td>\n    </tr>\n    <tr>\n      <th>2</th>\n      <td>Engine_Power</td>\n      <td>0.580736</td>\n      <td>0.000000e+00</td>\n      <td>Moderate</td>\n    </tr>\n    <tr>\n      <th>3</th>\n      <td>Length</td>\n      <td>0.482357</td>\n      <td>0.000000e+00</td>\n      <td>Moderate</td>\n    </tr>\n    <tr>\n      <th>4</th>\n      <td>Top_Speed</td>\n      <td>0.458324</td>\n      <td>0.000000e+00</td>\n      <td>Moderate</td>\n    </tr>\n    <tr>\n      <th>5</th>\n      <td>Width</td>\n      <td>0.454901</td>\n      <td>0.000000e+00</td>\n      <td>Moderate</td>\n    </tr>\n    <tr>\n      <th>6</th>\n      <td>Wheelbase</td>\n      <td>0.441041</td>\n      <td>0.000000e+00</td>\n      <td>Moderate</td>\n    </tr>\n    <tr>\n      <th>7</th>\n      <td>Engine_Size</td>\n      <td>0.439394</td>\n      <td>0.000000e+00</td>\n      <td>Moderate</td>\n    </tr>\n    <tr>\n      <th>8</th>\n      <td>Height</td>\n      <td>0.156925</td>\n      <td>0.000000e+00</td>\n      <td>Weak</td>\n    </tr>\n    <tr>\n      <th>9</th>\n      <td>Seat_Num</td>\n      <td>0.041390</td>\n      <td>3.351315e-99</td>\n      <td>None</td>\n    </tr>\n    <tr>\n      <th>10</th>\n      <td>Door_Num</td>\n      <td>0.030172</td>\n      <td>5.934536e-54</td>\n      <td>None</td>\n    </tr>\n    <tr>\n      <th>11</th>\n      <td>Average_Mpg</td>\n      <td>0.028061</td>\n      <td>1.150491e-40</td>\n      <td>None</td>\n    </tr>\n    <tr>\n      <th>12</th>\n      <td>Annual_Tax</td>\n      <td>-0.014391</td>\n      <td>1.369738e-11</td>\n      <td>None</td>\n    </tr>\n  </tbody>\n</table>\n</div>"
     },
     "execution_count": 12,
     "metadata": {},
     "output_type": "execute_result"
    }
   ],
   "source": [
    "correlation_strength"
   ],
   "metadata": {
    "collapsed": false,
    "ExecuteTime": {
     "end_time": "2024-02-02T15:15:35.794726Z",
     "start_time": "2024-02-02T15:15:35.788976Z"
    }
   },
   "id": "a3a46ac0da625807",
   "execution_count": 12
  },
  {
   "cell_type": "markdown",
   "source": [
    "## Categorical features' influence on Price"
   ],
   "metadata": {
    "collapsed": false
   },
   "id": "b333cf01442fde6a"
  },
  {
   "cell_type": "markdown",
   "source": [
    "### Due to the not-normally distributed price, I decided to use Kruskal-Wallis H-test for categorical features.\n",
    "\n",
    "Implementation of that test in Python requires the categories to be in a numerical format, so I created a function to convert values."
   ],
   "metadata": {
    "collapsed": false
   },
   "id": "7d86d4ed9f62cf56"
  },
  {
   "cell_type": "code",
   "outputs": [],
   "source": [
    "def write_names(data_frame, column):\n",
    "    names = {}\n",
    "    numbers = {}\n",
    "    cat_nr = 1\n",
    "    for name in data_frame[column].unique():\n",
    "        if name != np.nan:\n",
    "            numbers[name] = cat_nr\n",
    "            names[cat_nr] = name\n",
    "            cat_nr += 1      \n",
    "    return numbers, names\n",
    "\n",
    "\n",
    "def swap(data_frame, column, col_dict):\n",
    "    return data_frame[column].apply(lambda x : col_dict[x])\n",
    "\n",
    "\n",
    "def kruskal_one(data_frame, column, correlate_with):\n",
    "    to_num, to_cat = write_names(data_frame, column)\n",
    "    table = data_frame.copy()\n",
    "    table[column] = swap(table, column, to_num)\n",
    "    return stats.kruskal(table[correlate_with], table[column], nan_policy=\"omit\")\n",
    "\n",
    "\n",
    "def kruskal_all(data_frame, correlate_with):\n",
    "    table = pd.DataFrame()\n",
    "    names = []\n",
    "    hvalue = []\n",
    "    pvalue = []\n",
    "    \n",
    "# Calculating Spearman R for all numeric variables\n",
    "    for name in data_frame.columns:\n",
    "        if data_frame[name].dtype.kind not in 'if':\n",
    "            if name != correlate_with:\n",
    "                test = kruskal_one(data_frame, name, correlate_with)       \n",
    "# Preparing series for a summary table       \n",
    "                names.append(name)\n",
    "                hvalue.append(test[0])\n",
    "                pvalue.append(test[1])\n",
    "# Creating a summary table                    \n",
    "    table[\"Feature\"] = names\n",
    "    table[\"Kruskal-Wallis_H\"] = hvalue\n",
    "    table[\"P_Value\"] = pvalue\n",
    "        \n",
    "    return table"
   ],
   "metadata": {
    "collapsed": false,
    "ExecuteTime": {
     "end_time": "2024-02-02T15:15:35.801859Z",
     "start_time": "2024-02-02T15:15:35.797152Z"
    }
   },
   "id": "50653e926a26b100",
   "execution_count": 13
  },
  {
   "cell_type": "code",
   "outputs": [
    {
     "data": {
      "text/plain": "        Feature  Kruskal-Wallis_H  P_Value\n0         Maker     401673.655407      0.0\n1      Genmodel     391942.594512      0.0\n2   Genmodel_ID     391967.946252      0.0\n3        Adv_ID     319188.511643      0.0\n4      Adv_Year     441270.624152      0.0\n5     Adv_Month     403030.331191      0.0\n6         Color     402456.521925      0.0\n7     Body_Type     405263.070811      0.0\n8  Gearbox_Type     417460.115429      0.0\n9     Fuel_Type     413104.318088      0.0",
      "text/html": "<div>\n<style scoped>\n    .dataframe tbody tr th:only-of-type {\n        vertical-align: middle;\n    }\n\n    .dataframe tbody tr th {\n        vertical-align: top;\n    }\n\n    .dataframe thead th {\n        text-align: right;\n    }\n</style>\n<table border=\"1\" class=\"dataframe\">\n  <thead>\n    <tr style=\"text-align: right;\">\n      <th></th>\n      <th>Feature</th>\n      <th>Kruskal-Wallis_H</th>\n      <th>P_Value</th>\n    </tr>\n  </thead>\n  <tbody>\n    <tr>\n      <th>0</th>\n      <td>Maker</td>\n      <td>401673.655407</td>\n      <td>0.0</td>\n    </tr>\n    <tr>\n      <th>1</th>\n      <td>Genmodel</td>\n      <td>391942.594512</td>\n      <td>0.0</td>\n    </tr>\n    <tr>\n      <th>2</th>\n      <td>Genmodel_ID</td>\n      <td>391967.946252</td>\n      <td>0.0</td>\n    </tr>\n    <tr>\n      <th>3</th>\n      <td>Adv_ID</td>\n      <td>319188.511643</td>\n      <td>0.0</td>\n    </tr>\n    <tr>\n      <th>4</th>\n      <td>Adv_Year</td>\n      <td>441270.624152</td>\n      <td>0.0</td>\n    </tr>\n    <tr>\n      <th>5</th>\n      <td>Adv_Month</td>\n      <td>403030.331191</td>\n      <td>0.0</td>\n    </tr>\n    <tr>\n      <th>6</th>\n      <td>Color</td>\n      <td>402456.521925</td>\n      <td>0.0</td>\n    </tr>\n    <tr>\n      <th>7</th>\n      <td>Body_Type</td>\n      <td>405263.070811</td>\n      <td>0.0</td>\n    </tr>\n    <tr>\n      <th>8</th>\n      <td>Gearbox_Type</td>\n      <td>417460.115429</td>\n      <td>0.0</td>\n    </tr>\n    <tr>\n      <th>9</th>\n      <td>Fuel_Type</td>\n      <td>413104.318088</td>\n      <td>0.0</td>\n    </tr>\n  </tbody>\n</table>\n</div>"
     },
     "execution_count": 14,
     "metadata": {},
     "output_type": "execute_result"
    }
   ],
   "source": [
    "kruskal_all(df, \"Price\")"
   ],
   "metadata": {
    "collapsed": false,
    "ExecuteTime": {
     "end_time": "2024-02-02T15:15:38.203334Z",
     "start_time": "2024-02-02T15:15:35.799738Z"
    }
   },
   "id": "64e2a693230f8d24",
   "execution_count": 14
  },
  {
   "cell_type": "markdown",
   "source": [
    "## Conclusions\n",
    "\n",
    "According to the tests, all the categorical features affect prices, and the relationships are statistically significant.\n",
    "As for the numerical features, there's 1 strong, statistically significant correlation, and 7 of moderate strength.\n",
    "\n",
    "I need to select only 5 of them for this project, so I decide to go with 2 categorical and 3 numerical features:\n",
    "1. Maker\n",
    "2. Fuel Type\n",
    "3. Registration Year\n",
    "4. Mileage\n",
    "5. Engine Power\n",
    "\n",
    "In case of categorical variables, the decision is rather arbitrary, but the numeric variables I select based on the correlation strength."
   ],
   "metadata": {
    "collapsed": false
   },
   "id": "36bc3478640d1cf3"
  }
 ],
 "metadata": {
  "kernelspec": {
   "display_name": "Python 3",
   "language": "python",
   "name": "python3"
  },
  "language_info": {
   "codemirror_mode": {
    "name": "ipython",
    "version": 2
   },
   "file_extension": ".py",
   "mimetype": "text/x-python",
   "name": "python",
   "nbconvert_exporter": "python",
   "pygments_lexer": "ipython2",
   "version": "2.7.6"
  }
 },
 "nbformat": 4,
 "nbformat_minor": 5
}
