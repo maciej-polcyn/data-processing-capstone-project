{
 "cells": [
  {
   "cell_type": "markdown",
   "source": [
    "# Dataset fields description\n",
    "fields:\n",
    "- Maker: Brand name \n",
    "- Genmodel: Model name\n",
    "- Genmodel_ID: Unique model ID\n",
    "- Adv_ID: Advertisement_ID: unique key for each row\n",
    "- Adv_Year: Advertisement year\n",
    "- Adv_Month: Advertisement month\n",
    "- Color\n",
    "- Reg_Year: Registration year\n",
    "- Bodytype\n",
    "- Mileage\n",
    "- Engine_Size: Engine capacity in liters\n",
    "- Gearbox: type of the gearbox\n",
    "- Fuel_Type\n",
    "- Price: in USD\n",
    "- Engine_Power: in Horse Power\n",
    "- Annual_Tax\n",
    "- Wheelbase\n",
    "- Height\n",
    "- Width\n",
    "- Length\n",
    "- Average_Mpg: miles per gallon\n",
    "- Top_Speed: mph\n",
    "- Seat_Num\n",
    "- Door_Num\n"
   ],
   "metadata": {
    "collapsed": false
   },
   "id": "ea54625d8cb779dd"
  },
  {
   "cell_type": "code",
   "outputs": [],
   "source": [
    "import numpy as np\n",
    "import pandas as pd"
   ],
   "metadata": {
    "collapsed": false,
    "ExecuteTime": {
     "end_time": "2024-02-07T12:08:57.249800Z",
     "start_time": "2024-02-07T12:08:57.246590Z"
    }
   },
   "id": "7c3dfcfae920d0e7",
   "execution_count": 1
  },
  {
   "cell_type": "code",
   "outputs": [],
   "source": [
    "df = pd.read_csv('capstone_data.csv')"
   ],
   "metadata": {
    "collapsed": false,
    "ExecuteTime": {
     "end_time": "2024-02-07T12:08:57.582969Z",
     "start_time": "2024-02-07T12:08:57.248597Z"
    }
   },
   "id": "44f60e3cffd588c6",
   "execution_count": 2
  },
  {
   "cell_type": "markdown",
   "source": [
    "### Renaming columns with typos etc."
   ],
   "metadata": {
    "collapsed": false
   },
   "id": "b578cc4773013f1d"
  },
  {
   "cell_type": "code",
   "outputs": [],
   "source": [
    "names = df.columns.values\n",
    "\n",
    "for i in range(len(names)):\n",
    "    names[i] = names[i].strip().capitalize()\n",
    "    if \"_\" in names[i]:\n",
    "        split1 = names[i].split(\"_\")[0]\n",
    "        split2 = names[i].split(\"_\")[1]\n",
    "        if split2.lower() == \"id\":\n",
    "            split2 = split2.upper()\n",
    "        else:\n",
    "            split2 = split2.capitalize()      \n",
    "        names[i] = split1 + \"_\" + split2\n",
    "\n",
    "df = df.set_axis(labels=names, axis=\"columns\")"
   ],
   "metadata": {
    "collapsed": false,
    "ExecuteTime": {
     "end_time": "2024-02-07T12:08:57.614222Z",
     "start_time": "2024-02-07T12:08:57.584186Z"
    }
   },
   "id": "9d66b29acf682aa1",
   "execution_count": 3
  },
  {
   "cell_type": "code",
   "outputs": [
    {
     "data": {
      "text/plain": "Index(['Maker', 'Genmodel', 'Genmodel_ID', 'Adv_ID', 'Adv_Year', 'Adv_Month',\n       'Color', 'Reg_Year', 'Body_Type', 'Mileage', 'Engine_Size',\n       'Gearbox_Type', 'Fuel_Type', 'Price', 'Engine_Power', 'Annual_Tax',\n       'Wheelbase', 'Height', 'Width', 'Length', 'Average_Mpg', 'Top_Speed',\n       'Seat_Num', 'Door_Num'],\n      dtype='object')"
     },
     "execution_count": 4,
     "metadata": {},
     "output_type": "execute_result"
    }
   ],
   "source": [
    "df.rename(columns={\"Engin_Size\": \"Engine_Size\", \"Runned_Miles\": \"Mileage\", \"Bodytype\": \"Body_Type\", \"Gearbox\": \"Gearbox_Type\"}, inplace=True)\n",
    "df.columns"
   ],
   "metadata": {
    "collapsed": false,
    "ExecuteTime": {
     "end_time": "2024-02-07T12:08:57.615419Z",
     "start_time": "2024-02-07T12:08:57.609374Z"
    }
   },
   "id": "e9e02c68d84295f1",
   "execution_count": 4
  },
  {
   "cell_type": "markdown",
   "source": [
    "## Pre-cleaning"
   ],
   "metadata": {
    "collapsed": false
   },
   "id": "89af9f88e6316614"
  },
  {
   "cell_type": "code",
   "outputs": [
    {
     "data": {
      "text/plain": "Maker            object\nGenmodel         object\nGenmodel_ID      object\nAdv_ID           object\nAdv_Year          int64\nAdv_Month         int64\nColor            object\nReg_Year        float64\nBody_Type        object\nMileage          object\nEngine_Size      object\nGearbox_Type     object\nFuel_Type        object\nPrice           float64\nEngine_Power    float64\nAnnual_Tax       object\nWheelbase       float64\nHeight          float64\nWidth           float64\nLength          float64\nAverage_Mpg      object\nTop_Speed        object\nSeat_Num        float64\nDoor_Num        float64\ndtype: object"
     },
     "execution_count": 5,
     "metadata": {},
     "output_type": "execute_result"
    }
   ],
   "source": [
    "df.dtypes"
   ],
   "metadata": {
    "collapsed": false,
    "ExecuteTime": {
     "end_time": "2024-02-07T12:08:57.619951Z",
     "start_time": "2024-02-07T12:08:57.612416Z"
    }
   },
   "id": "b73715bf6b50bb6f",
   "execution_count": 5
  },
  {
   "cell_type": "markdown",
   "source": [
    "### Handling null values in wrong format"
   ],
   "metadata": {
    "collapsed": false
   },
   "id": "67d5450cd726b928"
  },
  {
   "cell_type": "code",
   "outputs": [],
   "source": [
    "df = df.replace(\"nan\", np.nan)\n",
    "df[[\"Length\", \"Height\", \"Width\", \"Wheelbase\"]] = df[[\"Length\", \"Height\", \"Width\", \"Wheelbase\"]].replace(0, np.nan)"
   ],
   "metadata": {
    "collapsed": false,
    "ExecuteTime": {
     "end_time": "2024-02-07T12:08:57.745964Z",
     "start_time": "2024-02-07T12:08:57.615033Z"
    }
   },
   "id": "448f584b1e1bfecc",
   "execution_count": 6
  },
  {
   "cell_type": "markdown",
   "source": [
    "### Replacing $$ in Adv_ID and setting it as an index"
   ],
   "metadata": {
    "collapsed": false
   },
   "id": "2aedf42555d08a3e"
  },
  {
   "cell_type": "code",
   "outputs": [
    {
     "data": {
      "text/plain": "     Maker Genmodel Genmodel_ID  Adv_ID  Adv_Year  Adv_Month   Color  \\\n0  Bentley   Arnage        10_1  10_1_1      2018          4  Silver   \n1  Bentley   Arnage        10_1  10_1_2      2018          6    Grey   \n2  Bentley   Arnage        10_1  10_1_3      2017         11    Blue   \n3  Bentley   Arnage        10_1  10_1_4      2018          4   Green   \n4  Bentley   Arnage        10_1  10_1_5      2017         11    Grey   \n\n   Reg_Year Body_Type Mileage  ... Engine_Power Annual_Tax Wheelbase  Height  \\\n0    2000.0    Saloon   60000  ...          NaN        NaN    3116.0  1515.0   \n1    2002.0    Saloon   44000  ...        450.0        315    3116.0  1515.0   \n2    2002.0    Saloon   55000  ...        400.0        315    3116.0  1515.0   \n3    2003.0    Saloon   14000  ...          NaN        NaN    3116.0  1515.0   \n4    2003.0    Saloon   61652  ...          NaN        NaN    3116.0  1515.0   \n\n    Width  Length  Average_Mpg  Top_Speed  Seat_Num  Door_Num  \n0  2125.0  5390.0          NaN        NaN       5.0       4.0  \n1  2125.0  5390.0     13.7 mpg    179 mph       5.0       4.0  \n2  2125.0  5390.0     14.7 mpg    155 mph       5.0       4.0  \n3  2125.0  5390.0          NaN        NaN       5.0       4.0  \n4  2125.0  5390.0          NaN        NaN       5.0       4.0  \n\n[5 rows x 24 columns]",
      "text/html": "<div>\n<style scoped>\n    .dataframe tbody tr th:only-of-type {\n        vertical-align: middle;\n    }\n\n    .dataframe tbody tr th {\n        vertical-align: top;\n    }\n\n    .dataframe thead th {\n        text-align: right;\n    }\n</style>\n<table border=\"1\" class=\"dataframe\">\n  <thead>\n    <tr style=\"text-align: right;\">\n      <th></th>\n      <th>Maker</th>\n      <th>Genmodel</th>\n      <th>Genmodel_ID</th>\n      <th>Adv_ID</th>\n      <th>Adv_Year</th>\n      <th>Adv_Month</th>\n      <th>Color</th>\n      <th>Reg_Year</th>\n      <th>Body_Type</th>\n      <th>Mileage</th>\n      <th>...</th>\n      <th>Engine_Power</th>\n      <th>Annual_Tax</th>\n      <th>Wheelbase</th>\n      <th>Height</th>\n      <th>Width</th>\n      <th>Length</th>\n      <th>Average_Mpg</th>\n      <th>Top_Speed</th>\n      <th>Seat_Num</th>\n      <th>Door_Num</th>\n    </tr>\n  </thead>\n  <tbody>\n    <tr>\n      <th>0</th>\n      <td>Bentley</td>\n      <td>Arnage</td>\n      <td>10_1</td>\n      <td>10_1_1</td>\n      <td>2018</td>\n      <td>4</td>\n      <td>Silver</td>\n      <td>2000.0</td>\n      <td>Saloon</td>\n      <td>60000</td>\n      <td>...</td>\n      <td>NaN</td>\n      <td>NaN</td>\n      <td>3116.0</td>\n      <td>1515.0</td>\n      <td>2125.0</td>\n      <td>5390.0</td>\n      <td>NaN</td>\n      <td>NaN</td>\n      <td>5.0</td>\n      <td>4.0</td>\n    </tr>\n    <tr>\n      <th>1</th>\n      <td>Bentley</td>\n      <td>Arnage</td>\n      <td>10_1</td>\n      <td>10_1_2</td>\n      <td>2018</td>\n      <td>6</td>\n      <td>Grey</td>\n      <td>2002.0</td>\n      <td>Saloon</td>\n      <td>44000</td>\n      <td>...</td>\n      <td>450.0</td>\n      <td>315</td>\n      <td>3116.0</td>\n      <td>1515.0</td>\n      <td>2125.0</td>\n      <td>5390.0</td>\n      <td>13.7 mpg</td>\n      <td>179 mph</td>\n      <td>5.0</td>\n      <td>4.0</td>\n    </tr>\n    <tr>\n      <th>2</th>\n      <td>Bentley</td>\n      <td>Arnage</td>\n      <td>10_1</td>\n      <td>10_1_3</td>\n      <td>2017</td>\n      <td>11</td>\n      <td>Blue</td>\n      <td>2002.0</td>\n      <td>Saloon</td>\n      <td>55000</td>\n      <td>...</td>\n      <td>400.0</td>\n      <td>315</td>\n      <td>3116.0</td>\n      <td>1515.0</td>\n      <td>2125.0</td>\n      <td>5390.0</td>\n      <td>14.7 mpg</td>\n      <td>155 mph</td>\n      <td>5.0</td>\n      <td>4.0</td>\n    </tr>\n    <tr>\n      <th>3</th>\n      <td>Bentley</td>\n      <td>Arnage</td>\n      <td>10_1</td>\n      <td>10_1_4</td>\n      <td>2018</td>\n      <td>4</td>\n      <td>Green</td>\n      <td>2003.0</td>\n      <td>Saloon</td>\n      <td>14000</td>\n      <td>...</td>\n      <td>NaN</td>\n      <td>NaN</td>\n      <td>3116.0</td>\n      <td>1515.0</td>\n      <td>2125.0</td>\n      <td>5390.0</td>\n      <td>NaN</td>\n      <td>NaN</td>\n      <td>5.0</td>\n      <td>4.0</td>\n    </tr>\n    <tr>\n      <th>4</th>\n      <td>Bentley</td>\n      <td>Arnage</td>\n      <td>10_1</td>\n      <td>10_1_5</td>\n      <td>2017</td>\n      <td>11</td>\n      <td>Grey</td>\n      <td>2003.0</td>\n      <td>Saloon</td>\n      <td>61652</td>\n      <td>...</td>\n      <td>NaN</td>\n      <td>NaN</td>\n      <td>3116.0</td>\n      <td>1515.0</td>\n      <td>2125.0</td>\n      <td>5390.0</td>\n      <td>NaN</td>\n      <td>NaN</td>\n      <td>5.0</td>\n      <td>4.0</td>\n    </tr>\n  </tbody>\n</table>\n<p>5 rows × 24 columns</p>\n</div>"
     },
     "execution_count": 7,
     "metadata": {},
     "output_type": "execute_result"
    }
   ],
   "source": [
    "def dolars(x):\n",
    "    if \"$$\" in x:\n",
    "        x = x.replace(\"$$\", \"_\")\n",
    "    return x\n",
    "\n",
    "df[\"Adv_ID\"] = df[\"Adv_ID\"].apply(dolars)\n",
    "df.head()"
   ],
   "metadata": {
    "collapsed": false,
    "ExecuteTime": {
     "end_time": "2024-02-07T12:08:57.788710Z",
     "start_time": "2024-02-07T12:08:57.746774Z"
    }
   },
   "id": "bccfcecab99708ca",
   "execution_count": 7
  },
  {
   "cell_type": "code",
   "outputs": [
    {
     "data": {
      "text/plain": "268255"
     },
     "execution_count": 8,
     "metadata": {},
     "output_type": "execute_result"
    }
   ],
   "source": [
    "df[\"Adv_ID\"].nunique()"
   ],
   "metadata": {
    "collapsed": false,
    "ExecuteTime": {
     "end_time": "2024-02-07T12:08:57.827994Z",
     "start_time": "2024-02-07T12:08:57.793862Z"
    }
   },
   "id": "6597229016c54e32",
   "execution_count": 8
  },
  {
   "cell_type": "code",
   "outputs": [
    {
     "data": {
      "text/plain": "268255"
     },
     "execution_count": 9,
     "metadata": {},
     "output_type": "execute_result"
    }
   ],
   "source": [
    "len(df)"
   ],
   "metadata": {
    "collapsed": false,
    "ExecuteTime": {
     "end_time": "2024-02-07T12:08:57.829107Z",
     "start_time": "2024-02-07T12:08:57.813178Z"
    }
   },
   "id": "8ae4b0788343c063",
   "execution_count": 9
  },
  {
   "cell_type": "code",
   "outputs": [],
   "source": [
    "df = df.set_index(\"Adv_ID\")"
   ],
   "metadata": {
    "collapsed": false,
    "ExecuteTime": {
     "end_time": "2024-02-07T12:08:57.896077Z",
     "start_time": "2024-02-07T12:08:57.815656Z"
    }
   },
   "id": "ca7eae9b2c16172e",
   "execution_count": 10
  },
  {
   "cell_type": "markdown",
   "source": [
    "### Finding duplicats"
   ],
   "metadata": {
    "collapsed": false
   },
   "id": "c6d31ca050c93a7d"
  },
  {
   "cell_type": "code",
   "outputs": [
    {
     "data": {
      "text/plain": "               Maker           Genmodel Genmodel_ID  Adv_Year  Adv_Month  \\\nAdv_ID                                                                     \n10_5_599     Bentley        Continental        10_5      2018          4   \n16_5_91    Chevrolet            Captiva        16_5      2018          8   \n18_10_374    Citroen         C3 Picasso       18_10      2017         12   \n18_12_892    Citroen                 C4       18_12      2018          8   \n18_13_70     Citroen          C4 Cactus       18_13      2018          4   \n...              ...                ...         ...       ...        ...   \n96_3_163       Volvo                S40        96_3      2018          7   \n96_4_340       Volvo                S60        96_4      2018          6   \n96_6_82        Volvo                S90        96_6      2018          5   \n96_7_266       Volvo                V40        96_7      2018          4   \n96_8_618       Volvo  V40 Cross Country        96_8      2018          5   \n\n            Color  Reg_Year    Body_Type Mileage Engine_Size  ...  \\\nAdv_ID                                                        ...   \n10_5_599   Purple    2014.0  Convertible    4800        6.0L  ...   \n16_5_91     Black    2012.0          SUV  115000        2.2L  ...   \n18_10_374  Silver    2017.0          MPV      10        1.6L  ...   \n18_12_892    Blue    2007.0    Hatchback  186000        2.0L  ...   \n18_13_70    White    2018.0    Hatchback      10        1.6L  ...   \n...           ...       ...          ...     ...         ...  ...   \n96_3_163   Silver    2007.0       Saloon   79500        2.0L  ...   \n96_4_340     Grey    2018.0       Saloon      18        2.0L  ...   \n96_6_82     Black    2018.0       Saloon     100        2.0L  ...   \n96_7_266    White    2016.0    Hatchback   15094        2.0L  ...   \n96_8_618      NaN    2018.0    Hatchback    3000        2.0L  ...   \n\n          Engine_Power Annual_Tax  Wheelbase  Height   Width  Length  \\\nAdv_ID                                                                 \n10_5_599           NaN        NaN     2746.0  1394.0  2227.0  4806.0   \n16_5_91         181.00        315     2705.0  1720.0  1850.0  4635.0   \n18_10_374        98.63       140*     2540.0  1624.0  1766.0  4078.0   \n18_12_892       138.00        140     2608.0  1458.0  1773.0  4260.0   \n18_13_70         99.00       140*     2595.0  1540.0  1946.0  4157.0   \n...                ...        ...        ...     ...     ...     ...   \n96_3_163        136.00        195     2640.0  1452.0  1770.0  4468.0   \n96_4_340        190.00       140*     2776.0  1484.0  2097.0  4635.0   \n96_6_82         190.00       140*     2941.0  1443.0  2019.0  4963.0   \n96_7_266        120.00          0     2647.0  1439.0  2041.0  4369.0   \n96_8_618        152.00       140*     2646.0  1470.0  2041.0  4370.0   \n\n           Average_Mpg  Top_Speed  Seat_Num Door_Num  \nAdv_ID                                                \n10_5_599           NaN        NaN       4.0      2.0  \n16_5_91       36.6 mpg        NaN       7.0      5.0  \n18_10_374     72.4 mpg    111 mph       5.0      5.0  \n18_12_892     51.4 mpg    129 mph       5.0      5.0  \n18_13_70      83.1 mpg    114 mph       5.0      5.0  \n...                ...        ...       ...      ...  \n96_3_163      48.7 mpg    127 mph       5.0      4.0  \n96_4_340      48.7 mpg    143 mph       5.0      4.0  \n96_6_82       64.2 mpg    140 mph       5.0      4.0  \n96_7_266      78.5 mpg    118 mph       5.0      5.0  \n96_8_618      50.4 mpg    130 mph       5.0      5.0  \n\n[889 rows x 23 columns]",
      "text/html": "<div>\n<style scoped>\n    .dataframe tbody tr th:only-of-type {\n        vertical-align: middle;\n    }\n\n    .dataframe tbody tr th {\n        vertical-align: top;\n    }\n\n    .dataframe thead th {\n        text-align: right;\n    }\n</style>\n<table border=\"1\" class=\"dataframe\">\n  <thead>\n    <tr style=\"text-align: right;\">\n      <th></th>\n      <th>Maker</th>\n      <th>Genmodel</th>\n      <th>Genmodel_ID</th>\n      <th>Adv_Year</th>\n      <th>Adv_Month</th>\n      <th>Color</th>\n      <th>Reg_Year</th>\n      <th>Body_Type</th>\n      <th>Mileage</th>\n      <th>Engine_Size</th>\n      <th>...</th>\n      <th>Engine_Power</th>\n      <th>Annual_Tax</th>\n      <th>Wheelbase</th>\n      <th>Height</th>\n      <th>Width</th>\n      <th>Length</th>\n      <th>Average_Mpg</th>\n      <th>Top_Speed</th>\n      <th>Seat_Num</th>\n      <th>Door_Num</th>\n    </tr>\n    <tr>\n      <th>Adv_ID</th>\n      <th></th>\n      <th></th>\n      <th></th>\n      <th></th>\n      <th></th>\n      <th></th>\n      <th></th>\n      <th></th>\n      <th></th>\n      <th></th>\n      <th></th>\n      <th></th>\n      <th></th>\n      <th></th>\n      <th></th>\n      <th></th>\n      <th></th>\n      <th></th>\n      <th></th>\n      <th></th>\n      <th></th>\n    </tr>\n  </thead>\n  <tbody>\n    <tr>\n      <th>10_5_599</th>\n      <td>Bentley</td>\n      <td>Continental</td>\n      <td>10_5</td>\n      <td>2018</td>\n      <td>4</td>\n      <td>Purple</td>\n      <td>2014.0</td>\n      <td>Convertible</td>\n      <td>4800</td>\n      <td>6.0L</td>\n      <td>...</td>\n      <td>NaN</td>\n      <td>NaN</td>\n      <td>2746.0</td>\n      <td>1394.0</td>\n      <td>2227.0</td>\n      <td>4806.0</td>\n      <td>NaN</td>\n      <td>NaN</td>\n      <td>4.0</td>\n      <td>2.0</td>\n    </tr>\n    <tr>\n      <th>16_5_91</th>\n      <td>Chevrolet</td>\n      <td>Captiva</td>\n      <td>16_5</td>\n      <td>2018</td>\n      <td>8</td>\n      <td>Black</td>\n      <td>2012.0</td>\n      <td>SUV</td>\n      <td>115000</td>\n      <td>2.2L</td>\n      <td>...</td>\n      <td>181.00</td>\n      <td>315</td>\n      <td>2705.0</td>\n      <td>1720.0</td>\n      <td>1850.0</td>\n      <td>4635.0</td>\n      <td>36.6 mpg</td>\n      <td>NaN</td>\n      <td>7.0</td>\n      <td>5.0</td>\n    </tr>\n    <tr>\n      <th>18_10_374</th>\n      <td>Citroen</td>\n      <td>C3 Picasso</td>\n      <td>18_10</td>\n      <td>2017</td>\n      <td>12</td>\n      <td>Silver</td>\n      <td>2017.0</td>\n      <td>MPV</td>\n      <td>10</td>\n      <td>1.6L</td>\n      <td>...</td>\n      <td>98.63</td>\n      <td>140*</td>\n      <td>2540.0</td>\n      <td>1624.0</td>\n      <td>1766.0</td>\n      <td>4078.0</td>\n      <td>72.4 mpg</td>\n      <td>111 mph</td>\n      <td>5.0</td>\n      <td>5.0</td>\n    </tr>\n    <tr>\n      <th>18_12_892</th>\n      <td>Citroen</td>\n      <td>C4</td>\n      <td>18_12</td>\n      <td>2018</td>\n      <td>8</td>\n      <td>Blue</td>\n      <td>2007.0</td>\n      <td>Hatchback</td>\n      <td>186000</td>\n      <td>2.0L</td>\n      <td>...</td>\n      <td>138.00</td>\n      <td>140</td>\n      <td>2608.0</td>\n      <td>1458.0</td>\n      <td>1773.0</td>\n      <td>4260.0</td>\n      <td>51.4 mpg</td>\n      <td>129 mph</td>\n      <td>5.0</td>\n      <td>5.0</td>\n    </tr>\n    <tr>\n      <th>18_13_70</th>\n      <td>Citroen</td>\n      <td>C4 Cactus</td>\n      <td>18_13</td>\n      <td>2018</td>\n      <td>4</td>\n      <td>White</td>\n      <td>2018.0</td>\n      <td>Hatchback</td>\n      <td>10</td>\n      <td>1.6L</td>\n      <td>...</td>\n      <td>99.00</td>\n      <td>140*</td>\n      <td>2595.0</td>\n      <td>1540.0</td>\n      <td>1946.0</td>\n      <td>4157.0</td>\n      <td>83.1 mpg</td>\n      <td>114 mph</td>\n      <td>5.0</td>\n      <td>5.0</td>\n    </tr>\n    <tr>\n      <th>...</th>\n      <td>...</td>\n      <td>...</td>\n      <td>...</td>\n      <td>...</td>\n      <td>...</td>\n      <td>...</td>\n      <td>...</td>\n      <td>...</td>\n      <td>...</td>\n      <td>...</td>\n      <td>...</td>\n      <td>...</td>\n      <td>...</td>\n      <td>...</td>\n      <td>...</td>\n      <td>...</td>\n      <td>...</td>\n      <td>...</td>\n      <td>...</td>\n      <td>...</td>\n      <td>...</td>\n    </tr>\n    <tr>\n      <th>96_3_163</th>\n      <td>Volvo</td>\n      <td>S40</td>\n      <td>96_3</td>\n      <td>2018</td>\n      <td>7</td>\n      <td>Silver</td>\n      <td>2007.0</td>\n      <td>Saloon</td>\n      <td>79500</td>\n      <td>2.0L</td>\n      <td>...</td>\n      <td>136.00</td>\n      <td>195</td>\n      <td>2640.0</td>\n      <td>1452.0</td>\n      <td>1770.0</td>\n      <td>4468.0</td>\n      <td>48.7 mpg</td>\n      <td>127 mph</td>\n      <td>5.0</td>\n      <td>4.0</td>\n    </tr>\n    <tr>\n      <th>96_4_340</th>\n      <td>Volvo</td>\n      <td>S60</td>\n      <td>96_4</td>\n      <td>2018</td>\n      <td>6</td>\n      <td>Grey</td>\n      <td>2018.0</td>\n      <td>Saloon</td>\n      <td>18</td>\n      <td>2.0L</td>\n      <td>...</td>\n      <td>190.00</td>\n      <td>140*</td>\n      <td>2776.0</td>\n      <td>1484.0</td>\n      <td>2097.0</td>\n      <td>4635.0</td>\n      <td>48.7 mpg</td>\n      <td>143 mph</td>\n      <td>5.0</td>\n      <td>4.0</td>\n    </tr>\n    <tr>\n      <th>96_6_82</th>\n      <td>Volvo</td>\n      <td>S90</td>\n      <td>96_6</td>\n      <td>2018</td>\n      <td>5</td>\n      <td>Black</td>\n      <td>2018.0</td>\n      <td>Saloon</td>\n      <td>100</td>\n      <td>2.0L</td>\n      <td>...</td>\n      <td>190.00</td>\n      <td>140*</td>\n      <td>2941.0</td>\n      <td>1443.0</td>\n      <td>2019.0</td>\n      <td>4963.0</td>\n      <td>64.2 mpg</td>\n      <td>140 mph</td>\n      <td>5.0</td>\n      <td>4.0</td>\n    </tr>\n    <tr>\n      <th>96_7_266</th>\n      <td>Volvo</td>\n      <td>V40</td>\n      <td>96_7</td>\n      <td>2018</td>\n      <td>4</td>\n      <td>White</td>\n      <td>2016.0</td>\n      <td>Hatchback</td>\n      <td>15094</td>\n      <td>2.0L</td>\n      <td>...</td>\n      <td>120.00</td>\n      <td>0</td>\n      <td>2647.0</td>\n      <td>1439.0</td>\n      <td>2041.0</td>\n      <td>4369.0</td>\n      <td>78.5 mpg</td>\n      <td>118 mph</td>\n      <td>5.0</td>\n      <td>5.0</td>\n    </tr>\n    <tr>\n      <th>96_8_618</th>\n      <td>Volvo</td>\n      <td>V40 Cross Country</td>\n      <td>96_8</td>\n      <td>2018</td>\n      <td>5</td>\n      <td>NaN</td>\n      <td>2018.0</td>\n      <td>Hatchback</td>\n      <td>3000</td>\n      <td>2.0L</td>\n      <td>...</td>\n      <td>152.00</td>\n      <td>140*</td>\n      <td>2646.0</td>\n      <td>1470.0</td>\n      <td>2041.0</td>\n      <td>4370.0</td>\n      <td>50.4 mpg</td>\n      <td>130 mph</td>\n      <td>5.0</td>\n      <td>5.0</td>\n    </tr>\n  </tbody>\n</table>\n<p>889 rows × 23 columns</p>\n</div>"
     },
     "execution_count": 11,
     "metadata": {},
     "output_type": "execute_result"
    }
   ],
   "source": [
    "df[df.duplicated()]"
   ],
   "metadata": {
    "collapsed": false,
    "ExecuteTime": {
     "end_time": "2024-02-07T12:08:58.068423Z",
     "start_time": "2024-02-07T12:08:57.870320Z"
    }
   },
   "id": "415b247195d7ee2e",
   "execution_count": 11
  },
  {
   "cell_type": "code",
   "outputs": [
    {
     "data": {
      "text/plain": "267366"
     },
     "execution_count": 12,
     "metadata": {},
     "output_type": "execute_result"
    }
   ],
   "source": [
    "df = df.drop_duplicates(keep=\"first\")\n",
    "len(df)"
   ],
   "metadata": {
    "collapsed": false,
    "ExecuteTime": {
     "end_time": "2024-02-07T12:08:58.283205Z",
     "start_time": "2024-02-07T12:08:58.070067Z"
    }
   },
   "id": "a0e4d781c785f632",
   "execution_count": 12
  },
  {
   "cell_type": "markdown",
   "source": [
    "### Deleting rows with Adv_Month greater than 12"
   ],
   "metadata": {
    "collapsed": false
   },
   "id": "6a3999ce4e45cc78"
  },
  {
   "cell_type": "code",
   "outputs": [
    {
     "data": {
      "text/plain": "                Maker  Genmodel Genmodel_ID  Adv_Year  Adv_Month  Color  \\\nAdv_ID                                                                    \n29_32_75         Ford  Streetka       29_32      2012         13   Blue   \n69_23_2       Peugeot       407       69_23      2012         17   Blue   \n77_4_10   Rolls-Royce   Phantom        77_4      2012         33  Black   \n\n          Reg_Year    Body_Type Mileage Engine_Size  ... Engine_Power  \\\nAdv_ID                                               ...                \n29_32_75    2005.0  Convertible   22000        1.6L  ...         94.0   \n69_23_2     2006.0        Coupe   77000        2.7L  ...        205.0   \n77_4_10     2007.0       Saloon   20000        6.7L  ...          NaN   \n\n         Annual_Tax  Wheelbase  Height   Width  Length  Average_Mpg  \\\nAdv_ID                                                                \n29_32_75        NaN     2450.0  1332.0  1852.0  3650.0     35.8 mpg   \n69_23_2         NaN     2725.0  1399.0  1868.0  4815.0     33.2 mpg   \n77_4_10         555        NaN     NaN     NaN     NaN          NaN   \n\n          Top_Speed  Seat_Num Door_Num  \nAdv_ID                                  \n29_32_75    108 mph       2.0      2.0  \n69_23_2     143 mph       4.0      2.0  \n77_4_10         NaN       5.0      NaN  \n\n[3 rows x 23 columns]",
      "text/html": "<div>\n<style scoped>\n    .dataframe tbody tr th:only-of-type {\n        vertical-align: middle;\n    }\n\n    .dataframe tbody tr th {\n        vertical-align: top;\n    }\n\n    .dataframe thead th {\n        text-align: right;\n    }\n</style>\n<table border=\"1\" class=\"dataframe\">\n  <thead>\n    <tr style=\"text-align: right;\">\n      <th></th>\n      <th>Maker</th>\n      <th>Genmodel</th>\n      <th>Genmodel_ID</th>\n      <th>Adv_Year</th>\n      <th>Adv_Month</th>\n      <th>Color</th>\n      <th>Reg_Year</th>\n      <th>Body_Type</th>\n      <th>Mileage</th>\n      <th>Engine_Size</th>\n      <th>...</th>\n      <th>Engine_Power</th>\n      <th>Annual_Tax</th>\n      <th>Wheelbase</th>\n      <th>Height</th>\n      <th>Width</th>\n      <th>Length</th>\n      <th>Average_Mpg</th>\n      <th>Top_Speed</th>\n      <th>Seat_Num</th>\n      <th>Door_Num</th>\n    </tr>\n    <tr>\n      <th>Adv_ID</th>\n      <th></th>\n      <th></th>\n      <th></th>\n      <th></th>\n      <th></th>\n      <th></th>\n      <th></th>\n      <th></th>\n      <th></th>\n      <th></th>\n      <th></th>\n      <th></th>\n      <th></th>\n      <th></th>\n      <th></th>\n      <th></th>\n      <th></th>\n      <th></th>\n      <th></th>\n      <th></th>\n      <th></th>\n    </tr>\n  </thead>\n  <tbody>\n    <tr>\n      <th>29_32_75</th>\n      <td>Ford</td>\n      <td>Streetka</td>\n      <td>29_32</td>\n      <td>2012</td>\n      <td>13</td>\n      <td>Blue</td>\n      <td>2005.0</td>\n      <td>Convertible</td>\n      <td>22000</td>\n      <td>1.6L</td>\n      <td>...</td>\n      <td>94.0</td>\n      <td>NaN</td>\n      <td>2450.0</td>\n      <td>1332.0</td>\n      <td>1852.0</td>\n      <td>3650.0</td>\n      <td>35.8 mpg</td>\n      <td>108 mph</td>\n      <td>2.0</td>\n      <td>2.0</td>\n    </tr>\n    <tr>\n      <th>69_23_2</th>\n      <td>Peugeot</td>\n      <td>407</td>\n      <td>69_23</td>\n      <td>2012</td>\n      <td>17</td>\n      <td>Blue</td>\n      <td>2006.0</td>\n      <td>Coupe</td>\n      <td>77000</td>\n      <td>2.7L</td>\n      <td>...</td>\n      <td>205.0</td>\n      <td>NaN</td>\n      <td>2725.0</td>\n      <td>1399.0</td>\n      <td>1868.0</td>\n      <td>4815.0</td>\n      <td>33.2 mpg</td>\n      <td>143 mph</td>\n      <td>4.0</td>\n      <td>2.0</td>\n    </tr>\n    <tr>\n      <th>77_4_10</th>\n      <td>Rolls-Royce</td>\n      <td>Phantom</td>\n      <td>77_4</td>\n      <td>2012</td>\n      <td>33</td>\n      <td>Black</td>\n      <td>2007.0</td>\n      <td>Saloon</td>\n      <td>20000</td>\n      <td>6.7L</td>\n      <td>...</td>\n      <td>NaN</td>\n      <td>555</td>\n      <td>NaN</td>\n      <td>NaN</td>\n      <td>NaN</td>\n      <td>NaN</td>\n      <td>NaN</td>\n      <td>NaN</td>\n      <td>5.0</td>\n      <td>NaN</td>\n    </tr>\n  </tbody>\n</table>\n<p>3 rows × 23 columns</p>\n</div>"
     },
     "execution_count": 13,
     "metadata": {},
     "output_type": "execute_result"
    }
   ],
   "source": [
    "df[df[\"Adv_Month\"] > 12]"
   ],
   "metadata": {
    "collapsed": false,
    "ExecuteTime": {
     "end_time": "2024-02-07T12:08:58.291260Z",
     "start_time": "2024-02-07T12:08:58.283729Z"
    }
   },
   "id": "70618de15df7bb2d",
   "execution_count": 13
  },
  {
   "cell_type": "code",
   "outputs": [],
   "source": [
    "df.drop(df[df[\"Adv_Month\"] > 12].index, inplace=True)"
   ],
   "metadata": {
    "collapsed": false,
    "ExecuteTime": {
     "end_time": "2024-02-07T12:08:58.384745Z",
     "start_time": "2024-02-07T12:08:58.291187Z"
    }
   },
   "id": "a6065fba8a960607",
   "execution_count": 14
  },
  {
   "cell_type": "code",
   "outputs": [],
   "source": [
    "def to_month_abr(x):\n",
    "    months = [\"Jan\", \"Feb\", \"Mar\", \"Apr\", \"May\", \"Jun\", \"Jul\", \"Aug\", \"Sep\", \"Oct\", \"Nov\", \"Dec\"]\n",
    "    if str(x).isnumeric():\n",
    "        x = months[x - 1]\n",
    "    return x"
   ],
   "metadata": {
    "collapsed": false,
    "ExecuteTime": {
     "end_time": "2024-02-07T12:08:58.386005Z",
     "start_time": "2024-02-07T12:08:58.355136Z"
    }
   },
   "id": "60a2ee5eab665d0a",
   "execution_count": 15
  },
  {
   "cell_type": "code",
   "outputs": [],
   "source": [
    "df[\"Adv_Month\"] = df[\"Adv_Month\"].apply(to_month_abr).astype(\"category\")"
   ],
   "metadata": {
    "collapsed": false,
    "ExecuteTime": {
     "end_time": "2024-02-07T12:08:58.432641Z",
     "start_time": "2024-02-07T12:08:58.357881Z"
    }
   },
   "id": "5a69a5a0e88f0957",
   "execution_count": 16
  },
  {
   "cell_type": "markdown",
   "source": [
    "### Removing units or non-numerical characters from numeric columns"
   ],
   "metadata": {
    "collapsed": false
   },
   "id": "c5018304ac89c064"
  },
  {
   "cell_type": "code",
   "outputs": [],
   "source": [
    "def remove_units(x):\n",
    "    if x is not np.nan:\n",
    "        output = \"\"\n",
    "        x = str(x)\n",
    "        for i in range(len(x)):\n",
    "            if x[i].isnumeric() or x[i] == \".\":\n",
    "                output += x[i]\n",
    "        if output == \"\":\n",
    "            x = np.nan\n",
    "        else:\n",
    "            x = float(output)\n",
    "    return x"
   ],
   "metadata": {
    "collapsed": false,
    "ExecuteTime": {
     "end_time": "2024-02-07T12:08:58.433969Z",
     "start_time": "2024-02-07T12:08:58.409226Z"
    }
   },
   "id": "d9281e38e89c4174",
   "execution_count": 17
  },
  {
   "cell_type": "code",
   "outputs": [
    {
     "data": {
      "text/plain": "Maker             object\nGenmodel          object\nGenmodel_ID       object\nAdv_Year           int64\nAdv_Month       category\nColor             object\nReg_Year         float64\nBody_Type         object\nMileage          float64\nEngine_Size      float64\nGearbox_Type      object\nFuel_Type         object\nPrice            float64\nEngine_Power     float64\nAnnual_Tax       float64\nWheelbase        float64\nHeight           float64\nWidth            float64\nLength           float64\nAverage_Mpg      float64\nTop_Speed        float64\nSeat_Num         float64\nDoor_Num         float64\ndtype: object"
     },
     "execution_count": 18,
     "metadata": {},
     "output_type": "execute_result"
    }
   ],
   "source": [
    "df[\"Engine_Size\"] = df[\"Engine_Size\"].apply(remove_units)\n",
    "df[\"Average_Mpg\"] = df[\"Average_Mpg\"].apply(remove_units)\n",
    "df[\"Top_Speed\"] = df[\"Top_Speed\"].apply(remove_units)\n",
    "df[\"Mileage\"] = df[\"Mileage\"].apply(remove_units)\n",
    "df[\"Annual_Tax\"] = df[\"Annual_Tax\"].apply(remove_units)\n",
    "df.dtypes"
   ],
   "metadata": {
    "collapsed": false,
    "ExecuteTime": {
     "end_time": "2024-02-07T12:08:59.035078Z",
     "start_time": "2024-02-07T12:08:58.411908Z"
    }
   },
   "id": "a6779bbd9cf52847",
   "execution_count": 18
  },
  {
   "cell_type": "markdown",
   "source": [
    "### Genmodel - managing data-like formats"
   ],
   "metadata": {
    "collapsed": false
   },
   "id": "c7b747101262903f"
  },
  {
   "cell_type": "code",
   "outputs": [],
   "source": [
    "df[\"Genmodel\"] = df[\"Genmodel\"].replace(\"09-Mar\", \"9-3\")\n",
    "df[\"Genmodel\"] = df[\"Genmodel\"].replace(\"09-May\", \"9-5\")"
   ],
   "metadata": {
    "collapsed": false,
    "ExecuteTime": {
     "end_time": "2024-02-07T12:08:59.069308Z",
     "start_time": "2024-02-07T12:08:59.040942Z"
    }
   },
   "id": "4c7aa975a7215388",
   "execution_count": 19
  },
  {
   "cell_type": "markdown",
   "source": [
    "### Engine_Size - correcting outliers"
   ],
   "metadata": {
    "collapsed": false
   },
   "id": "1f2c6bde8374e8c7"
  },
  {
   "cell_type": "code",
   "outputs": [
    {
     "data": {
      "text/plain": "Adv_ID\n71_8_487       8.2\n87_3_349      10.0\n64_6_2      1400.0\n62_11_3     2998.0\n64_8_77     3500.0\nName: Engine_Size, dtype: float64"
     },
     "execution_count": 20,
     "metadata": {},
     "output_type": "execute_result"
    }
   ],
   "source": [
    "df[df[\"Engine_Size\"].isnull() == False][\"Engine_Size\"].sort_values().tail()"
   ],
   "metadata": {
    "collapsed": false,
    "ExecuteTime": {
     "end_time": "2024-02-07T12:08:59.103384Z",
     "start_time": "2024-02-07T12:08:59.061204Z"
    }
   },
   "id": "ec86d02aca6a587d",
   "execution_count": 20
  },
  {
   "cell_type": "code",
   "outputs": [],
   "source": [
    "def eng_size_outliers(x):\n",
    "    if x > 1000:\n",
    "        x = x/1000\n",
    "    return x\n",
    "\n",
    "df[\"Engine_Size\"] = df[\"Engine_Size\"].apply(eng_size_outliers)"
   ],
   "metadata": {
    "collapsed": false,
    "ExecuteTime": {
     "end_time": "2024-02-07T12:08:59.134356Z",
     "start_time": "2024-02-07T12:08:59.103786Z"
    }
   },
   "id": "fc25e895152fd66f",
   "execution_count": 21
  },
  {
   "cell_type": "markdown",
   "source": [
    "### Fuel_Types - merging duplicate categories"
   ],
   "metadata": {
    "collapsed": false
   },
   "id": "1fea1408bbe4bf41"
  },
  {
   "cell_type": "code",
   "outputs": [
    {
     "data": {
      "text/plain": "array(['Petrol', 'Diesel', 'Petrol Plug-in Hybrid', 'Petrol Ethanol',\n       'Hybrid  Petrol/Electric Plug-in', 'Electric', nan,\n       'Hybrid  Diesel/Electric', 'Bi Fuel', 'Hybrid  Petrol/Electric',\n       'Petrol Hybrid', 'Diesel Hybrid', 'Diesel Plug-in Hybrid',\n       'Hybrid  Diesel/Electric Plug-in'], dtype=object)"
     },
     "execution_count": 22,
     "metadata": {},
     "output_type": "execute_result"
    }
   ],
   "source": [
    "df[\"Fuel_Type\"].unique()"
   ],
   "metadata": {
    "collapsed": false,
    "ExecuteTime": {
     "end_time": "2024-02-07T12:08:59.141949Z",
     "start_time": "2024-02-07T12:08:59.137059Z"
    }
   },
   "id": "e747b7a1f7b43cc0",
   "execution_count": 22
  },
  {
   "cell_type": "code",
   "outputs": [
    {
     "data": {
      "text/plain": "array(['Petrol', 'Diesel', 'Petrol Plug-in Hybrid', 'Petrol Ethanol',\n       'Hybrid Petrol/Electric Plug-in', 'Electric', 'nan',\n       'Hybrid Diesel/Electric', 'Bi Fuel', 'Hybrid Petrol/Electric',\n       'Petrol Hybrid', 'Diesel Hybrid', 'Diesel Plug-in Hybrid',\n       'Hybrid Diesel/Electric Plug-in'], dtype=object)"
     },
     "execution_count": 23,
     "metadata": {},
     "output_type": "execute_result"
    }
   ],
   "source": [
    "df[\"Fuel_Type\"] = df[\"Fuel_Type\"].apply(lambda x: str(x).replace(\"  \", \" \"))\n",
    "df[\"Fuel_Type\"].unique()"
   ],
   "metadata": {
    "collapsed": false,
    "ExecuteTime": {
     "end_time": "2024-02-07T12:08:59.176176Z",
     "start_time": "2024-02-07T12:08:59.139516Z"
    }
   },
   "id": "adba700fa7ad52bc",
   "execution_count": 23
  },
  {
   "cell_type": "code",
   "outputs": [],
   "source": [
    "df[\"Fuel_Type\"] = df[\"Fuel_Type\"].replace(\"Hybrid Petrol/Electric Plug-in\", \"Petrol Plug-in Hybrid\") \n",
    "df[\"Fuel_Type\"] = df[\"Fuel_Type\"].replace(\"Hybrid Petrol Plug-in\", \"Petrol Plug-in Hybrid\")\n",
    "df[\"Fuel_Type\"] = df[\"Fuel_Type\"].replace(\"Hybrid Diesel Plug-in\", \"Diesel Plug-in Hybrid\")\n",
    "df[\"Fuel_Type\"] = df[\"Fuel_Type\"].replace(\"Hybrid Diesel/Electric Plug-in\", \"Diesel Plug-in Hybrid\")\n",
    "df[\"Fuel_Type\"] = df[\"Fuel_Type\"].replace(\"Hybrid Diesel/Electric\", \"Diesel Hybrid\")\n",
    "df[\"Fuel_Type\"] = df[\"Fuel_Type\"].replace(\"Hybrid Petrol/Electric\", \"Petrol Hybrid\")\n",
    "# There should be 10 resulting categories including NaN"
   ],
   "metadata": {
    "collapsed": false,
    "ExecuteTime": {
     "end_time": "2024-02-07T12:08:59.249083Z",
     "start_time": "2024-02-07T12:08:59.181083Z"
    }
   },
   "id": "448291d4d4db4304",
   "execution_count": 24
  },
  {
   "cell_type": "code",
   "outputs": [
    {
     "data": {
      "text/plain": "array(['Petrol', 'Diesel', 'Petrol Plug-in Hybrid', 'Petrol Ethanol',\n       'Electric', nan, 'Diesel Hybrid', 'Bi Fuel', 'Petrol Hybrid',\n       'Diesel Plug-in Hybrid'], dtype=object)"
     },
     "execution_count": 25,
     "metadata": {},
     "output_type": "execute_result"
    }
   ],
   "source": [
    "df[\"Fuel_Type\"] = df[\"Fuel_Type\"].replace(\"nan\", np.nan)\n",
    "df[\"Fuel_Type\"].unique()"
   ],
   "metadata": {
    "collapsed": false,
    "ExecuteTime": {
     "end_time": "2024-02-07T12:08:59.268943Z",
     "start_time": "2024-02-07T12:08:59.254147Z"
    }
   },
   "id": "8120d28bbb36c59c",
   "execution_count": 25
  },
  {
   "cell_type": "markdown",
   "source": [
    "### Mpg"
   ],
   "metadata": {
    "collapsed": false
   },
   "id": "1802a8439522d40"
  },
  {
   "cell_type": "code",
   "outputs": [
    {
     "data": {
      "text/plain": "count    225552.000000\nmean         50.902868\nstd          15.807056\nmin           9.400000\n25%          41.500000\n50%          50.400000\n75%          60.100000\nmax         471.000000\nName: Average_Mpg, dtype: float64"
     },
     "execution_count": 26,
     "metadata": {},
     "output_type": "execute_result"
    }
   ],
   "source": [
    "df[\"Average_Mpg\"].describe()"
   ],
   "metadata": {
    "collapsed": false,
    "ExecuteTime": {
     "end_time": "2024-02-07T12:08:59.284437Z",
     "start_time": "2024-02-07T12:08:59.269531Z"
    }
   },
   "id": "851cfb697e71228d",
   "execution_count": 26
  },
  {
   "cell_type": "code",
   "outputs": [
    {
     "data": {
      "text/plain": "array(['Petrol Plug-in Hybrid', 'Petrol Hybrid', 'Diesel Plug-in Hybrid',\n       'Electric'], dtype=object)"
     },
     "execution_count": 27,
     "metadata": {},
     "output_type": "execute_result"
    }
   ],
   "source": [
    "df[df[\"Average_Mpg\"] > 100][\"Fuel_Type\"].unique()"
   ],
   "metadata": {
    "collapsed": false,
    "ExecuteTime": {
     "end_time": "2024-02-07T12:08:59.287420Z",
     "start_time": "2024-02-07T12:08:59.281560Z"
    }
   },
   "id": "2b00d893481f110f",
   "execution_count": 27
  },
  {
   "cell_type": "markdown",
   "source": [
    "### Removing outliers"
   ],
   "metadata": {
    "collapsed": false
   },
   "id": "d3a31feb853b4999"
  },
  {
   "cell_type": "code",
   "outputs": [
    {
     "data": {
      "text/plain": "           Maker Genmodel Genmodel_ID  Adv_Year Adv_Month   Color  Reg_Year  \\\nAdv_ID                                                                        \n58_6_13  McLaren    675LT        58_6      2017       Jun  Silver    2016.0   \n\n        Body_Type  Mileage  Engine_Size  ... Engine_Power Annual_Tax  \\\nAdv_ID                                   ...                           \n58_6_13     Coupe    200.0          3.8  ...        666.0      555.0   \n\n         Wheelbase  Height   Width  Length  Average_Mpg  Top_Speed  Seat_Num  \\\nAdv_ID                                                                         \n58_6_13     2670.0  1188.0  2095.0  4546.0          NaN      205.0       2.0   \n\n         Door_Num  \nAdv_ID             \n58_6_13       2.0  \n\n[1 rows x 23 columns]",
      "text/html": "<div>\n<style scoped>\n    .dataframe tbody tr th:only-of-type {\n        vertical-align: middle;\n    }\n\n    .dataframe tbody tr th {\n        vertical-align: top;\n    }\n\n    .dataframe thead th {\n        text-align: right;\n    }\n</style>\n<table border=\"1\" class=\"dataframe\">\n  <thead>\n    <tr style=\"text-align: right;\">\n      <th></th>\n      <th>Maker</th>\n      <th>Genmodel</th>\n      <th>Genmodel_ID</th>\n      <th>Adv_Year</th>\n      <th>Adv_Month</th>\n      <th>Color</th>\n      <th>Reg_Year</th>\n      <th>Body_Type</th>\n      <th>Mileage</th>\n      <th>Engine_Size</th>\n      <th>...</th>\n      <th>Engine_Power</th>\n      <th>Annual_Tax</th>\n      <th>Wheelbase</th>\n      <th>Height</th>\n      <th>Width</th>\n      <th>Length</th>\n      <th>Average_Mpg</th>\n      <th>Top_Speed</th>\n      <th>Seat_Num</th>\n      <th>Door_Num</th>\n    </tr>\n    <tr>\n      <th>Adv_ID</th>\n      <th></th>\n      <th></th>\n      <th></th>\n      <th></th>\n      <th></th>\n      <th></th>\n      <th></th>\n      <th></th>\n      <th></th>\n      <th></th>\n      <th></th>\n      <th></th>\n      <th></th>\n      <th></th>\n      <th></th>\n      <th></th>\n      <th></th>\n      <th></th>\n      <th></th>\n      <th></th>\n      <th></th>\n    </tr>\n  </thead>\n  <tbody>\n    <tr>\n      <th>58_6_13</th>\n      <td>McLaren</td>\n      <td>675LT</td>\n      <td>58_6</td>\n      <td>2017</td>\n      <td>Jun</td>\n      <td>Silver</td>\n      <td>2016.0</td>\n      <td>Coupe</td>\n      <td>200.0</td>\n      <td>3.8</td>\n      <td>...</td>\n      <td>666.0</td>\n      <td>555.0</td>\n      <td>2670.0</td>\n      <td>1188.0</td>\n      <td>2095.0</td>\n      <td>4546.0</td>\n      <td>NaN</td>\n      <td>205.0</td>\n      <td>2.0</td>\n      <td>2.0</td>\n    </tr>\n  </tbody>\n</table>\n<p>1 rows × 23 columns</p>\n</div>"
     },
     "execution_count": 28,
     "metadata": {},
     "output_type": "execute_result"
    }
   ],
   "source": [
    "df[df[\"Price\"] > 3000000]"
   ],
   "metadata": {
    "collapsed": false,
    "ExecuteTime": {
     "end_time": "2024-02-07T12:08:59.298795Z",
     "start_time": "2024-02-07T12:08:59.286374Z"
    }
   },
   "id": "3f2e98deb42af221",
   "execution_count": 28
  },
  {
   "cell_type": "code",
   "outputs": [
    {
     "data": {
      "text/plain": "           Maker Genmodel Genmodel_ID  Adv_Year Adv_Month   Color  Reg_Year  \\\nAdv_ID                                                                        \n58_6_1   McLaren    675LT        58_6      2017       Jun  Orange    2016.0   \n58_6_2   McLaren    675LT        58_6      2017       Oct  Orange    2016.0   \n58_6_3   McLaren    675LT        58_6      2018       May    Grey    2016.0   \n58_6_4   McLaren    675LT        58_6      2018       Feb   Black    2016.0   \n58_6_5   McLaren    675LT        58_6      2017       Sep  Orange    2016.0   \n58_6_6   McLaren    675LT        58_6      2018       Jan  Orange    2016.0   \n58_6_7   McLaren    675LT        58_6      2018       May   White    2016.0   \n58_6_8   McLaren    675LT        58_6      2018       Jan   Black    2016.0   \n58_6_9   McLaren    675LT        58_6      2018       Mar  Purple    2015.0   \n58_6_10  McLaren    675LT        58_6      2018       May   White    2015.0   \n58_6_11  McLaren    675LT        58_6      2018       May   White    2016.0   \n58_6_12  McLaren    675LT        58_6      2018       Mar   Green    2016.0   \n58_6_13  McLaren    675LT        58_6      2017       Jun  Silver    2016.0   \n58_6_14  McLaren    675LT        58_6      2018       Apr     NaN    2016.0   \n58_6_15  McLaren    675LT        58_6      2017       Jul    Grey    2016.0   \n58_6_16  McLaren    675LT        58_6      2018       May    Grey    2016.0   \n58_6_17  McLaren    675LT        58_6      2017       Sep   Green    2016.0   \n58_6_18  McLaren    675LT        58_6      2018       May   Black    2016.0   \n58_6_19  McLaren    675LT        58_6      2018       May    Grey    2015.0   \n58_6_20  McLaren    675LT        58_6      2018       May   White    2015.0   \n58_6_21  McLaren    675LT        58_6      2018       Apr    Blue    2016.0   \n58_6_22  McLaren    675LT        58_6      2017       Apr   White    2015.0   \n\n           Body_Type  Mileage  Engine_Size  ... Engine_Power Annual_Tax  \\\nAdv_ID                                      ...                           \n58_6_1   Convertible    193.0          3.8  ...        666.0      555.0   \n58_6_2         Coupe    662.0          3.8  ...        666.0      555.0   \n58_6_3   Convertible   1100.0          3.8  ...          NaN      555.0   \n58_6_4   Convertible    840.0          3.8  ...        666.0      555.0   \n58_6_5         Coupe   9843.0          3.8  ...          NaN      555.0   \n58_6_6         Coupe   2850.0          3.8  ...        666.0      555.0   \n58_6_7   Convertible   2402.0          3.8  ...        666.0      555.0   \n58_6_8         Coupe   2800.0          3.8  ...        666.0      555.0   \n58_6_9         Coupe    800.0          3.8  ...        666.0      555.0   \n58_6_10        Coupe   4000.0          3.8  ...          NaN      555.0   \n58_6_11        Coupe    375.0          3.8  ...          NaN      555.0   \n58_6_12        Coupe    786.0          3.8  ...        666.0        NaN   \n58_6_13        Coupe    200.0          3.8  ...        666.0      555.0   \n58_6_14        Coupe   1849.0          3.8  ...          NaN      555.0   \n58_6_15  Convertible    280.0          3.8  ...          NaN        NaN   \n58_6_16  Convertible   2050.0          3.8  ...        666.0        NaN   \n58_6_17  Convertible     10.0          3.8  ...          NaN      555.0   \n58_6_18  Convertible     15.0          3.8  ...          NaN        NaN   \n58_6_19        Coupe   2484.0          3.8  ...        666.0      555.0   \n58_6_20        Coupe    350.0          3.8  ...          NaN      555.0   \n58_6_21  Convertible    500.0          3.8  ...          NaN        NaN   \n58_6_22        Coupe  30000.0          3.8  ...        666.0      555.0   \n\n         Wheelbase  Height   Width  Length  Average_Mpg  Top_Speed  Seat_Num  \\\nAdv_ID                                                                         \n58_6_1      2670.0  1188.0  2095.0  4546.0         11.7      203.0       2.0   \n58_6_2      2670.0  1188.0  2095.0  4546.0          NaN      205.0       2.0   \n58_6_3         NaN     NaN     NaN     NaN          NaN        NaN       2.0   \n58_6_4      2670.0  1188.0  2095.0  4546.0         11.7      203.0       2.0   \n58_6_5         NaN     NaN     NaN     NaN          NaN        NaN       2.0   \n58_6_6      2670.0  1188.0  2095.0  4546.0          NaN      205.0       2.0   \n58_6_7      2670.0  1188.0  2095.0  4546.0         11.7      203.0       2.0   \n58_6_8      2670.0  1188.0  2095.0  4546.0          NaN      205.0       2.0   \n58_6_9      2670.0  1188.0  2095.0  4546.0          NaN      205.0       2.0   \n58_6_10        NaN     NaN     NaN     NaN          NaN        NaN       2.0   \n58_6_11        NaN     NaN     NaN     NaN          NaN        NaN       2.0   \n58_6_12     2670.0  1188.0  2095.0  4546.0          NaN      205.0       2.0   \n58_6_13     2670.0  1188.0  2095.0  4546.0          NaN      205.0       2.0   \n58_6_14        NaN     NaN     NaN     NaN          NaN        NaN       2.0   \n58_6_15        NaN     NaN     NaN     NaN          NaN        NaN       NaN   \n58_6_16     2670.0  1188.0  2095.0  4546.0         11.7      203.0       2.0   \n58_6_17        NaN     NaN     NaN     NaN          NaN        NaN       2.0   \n58_6_18        NaN     NaN     NaN     NaN          NaN        NaN       NaN   \n58_6_19     2670.0  1188.0  2095.0  4546.0          NaN      205.0       2.0   \n58_6_20        NaN     NaN     NaN     NaN          NaN        NaN       2.0   \n58_6_21        NaN     NaN     NaN     NaN          NaN        NaN       NaN   \n58_6_22     2670.0  1188.0  2095.0  4546.0          NaN      205.0       2.0   \n\n         Door_Num  \nAdv_ID             \n58_6_1        2.0  \n58_6_2        2.0  \n58_6_3        NaN  \n58_6_4        2.0  \n58_6_5        NaN  \n58_6_6        2.0  \n58_6_7        2.0  \n58_6_8        2.0  \n58_6_9        2.0  \n58_6_10       NaN  \n58_6_11       NaN  \n58_6_12       2.0  \n58_6_13       2.0  \n58_6_14       NaN  \n58_6_15       NaN  \n58_6_16       2.0  \n58_6_17       NaN  \n58_6_18       NaN  \n58_6_19       2.0  \n58_6_20       NaN  \n58_6_21       NaN  \n58_6_22       2.0  \n\n[22 rows x 23 columns]",
      "text/html": "<div>\n<style scoped>\n    .dataframe tbody tr th:only-of-type {\n        vertical-align: middle;\n    }\n\n    .dataframe tbody tr th {\n        vertical-align: top;\n    }\n\n    .dataframe thead th {\n        text-align: right;\n    }\n</style>\n<table border=\"1\" class=\"dataframe\">\n  <thead>\n    <tr style=\"text-align: right;\">\n      <th></th>\n      <th>Maker</th>\n      <th>Genmodel</th>\n      <th>Genmodel_ID</th>\n      <th>Adv_Year</th>\n      <th>Adv_Month</th>\n      <th>Color</th>\n      <th>Reg_Year</th>\n      <th>Body_Type</th>\n      <th>Mileage</th>\n      <th>Engine_Size</th>\n      <th>...</th>\n      <th>Engine_Power</th>\n      <th>Annual_Tax</th>\n      <th>Wheelbase</th>\n      <th>Height</th>\n      <th>Width</th>\n      <th>Length</th>\n      <th>Average_Mpg</th>\n      <th>Top_Speed</th>\n      <th>Seat_Num</th>\n      <th>Door_Num</th>\n    </tr>\n    <tr>\n      <th>Adv_ID</th>\n      <th></th>\n      <th></th>\n      <th></th>\n      <th></th>\n      <th></th>\n      <th></th>\n      <th></th>\n      <th></th>\n      <th></th>\n      <th></th>\n      <th></th>\n      <th></th>\n      <th></th>\n      <th></th>\n      <th></th>\n      <th></th>\n      <th></th>\n      <th></th>\n      <th></th>\n      <th></th>\n      <th></th>\n    </tr>\n  </thead>\n  <tbody>\n    <tr>\n      <th>58_6_1</th>\n      <td>McLaren</td>\n      <td>675LT</td>\n      <td>58_6</td>\n      <td>2017</td>\n      <td>Jun</td>\n      <td>Orange</td>\n      <td>2016.0</td>\n      <td>Convertible</td>\n      <td>193.0</td>\n      <td>3.8</td>\n      <td>...</td>\n      <td>666.0</td>\n      <td>555.0</td>\n      <td>2670.0</td>\n      <td>1188.0</td>\n      <td>2095.0</td>\n      <td>4546.0</td>\n      <td>11.7</td>\n      <td>203.0</td>\n      <td>2.0</td>\n      <td>2.0</td>\n    </tr>\n    <tr>\n      <th>58_6_2</th>\n      <td>McLaren</td>\n      <td>675LT</td>\n      <td>58_6</td>\n      <td>2017</td>\n      <td>Oct</td>\n      <td>Orange</td>\n      <td>2016.0</td>\n      <td>Coupe</td>\n      <td>662.0</td>\n      <td>3.8</td>\n      <td>...</td>\n      <td>666.0</td>\n      <td>555.0</td>\n      <td>2670.0</td>\n      <td>1188.0</td>\n      <td>2095.0</td>\n      <td>4546.0</td>\n      <td>NaN</td>\n      <td>205.0</td>\n      <td>2.0</td>\n      <td>2.0</td>\n    </tr>\n    <tr>\n      <th>58_6_3</th>\n      <td>McLaren</td>\n      <td>675LT</td>\n      <td>58_6</td>\n      <td>2018</td>\n      <td>May</td>\n      <td>Grey</td>\n      <td>2016.0</td>\n      <td>Convertible</td>\n      <td>1100.0</td>\n      <td>3.8</td>\n      <td>...</td>\n      <td>NaN</td>\n      <td>555.0</td>\n      <td>NaN</td>\n      <td>NaN</td>\n      <td>NaN</td>\n      <td>NaN</td>\n      <td>NaN</td>\n      <td>NaN</td>\n      <td>2.0</td>\n      <td>NaN</td>\n    </tr>\n    <tr>\n      <th>58_6_4</th>\n      <td>McLaren</td>\n      <td>675LT</td>\n      <td>58_6</td>\n      <td>2018</td>\n      <td>Feb</td>\n      <td>Black</td>\n      <td>2016.0</td>\n      <td>Convertible</td>\n      <td>840.0</td>\n      <td>3.8</td>\n      <td>...</td>\n      <td>666.0</td>\n      <td>555.0</td>\n      <td>2670.0</td>\n      <td>1188.0</td>\n      <td>2095.0</td>\n      <td>4546.0</td>\n      <td>11.7</td>\n      <td>203.0</td>\n      <td>2.0</td>\n      <td>2.0</td>\n    </tr>\n    <tr>\n      <th>58_6_5</th>\n      <td>McLaren</td>\n      <td>675LT</td>\n      <td>58_6</td>\n      <td>2017</td>\n      <td>Sep</td>\n      <td>Orange</td>\n      <td>2016.0</td>\n      <td>Coupe</td>\n      <td>9843.0</td>\n      <td>3.8</td>\n      <td>...</td>\n      <td>NaN</td>\n      <td>555.0</td>\n      <td>NaN</td>\n      <td>NaN</td>\n      <td>NaN</td>\n      <td>NaN</td>\n      <td>NaN</td>\n      <td>NaN</td>\n      <td>2.0</td>\n      <td>NaN</td>\n    </tr>\n    <tr>\n      <th>58_6_6</th>\n      <td>McLaren</td>\n      <td>675LT</td>\n      <td>58_6</td>\n      <td>2018</td>\n      <td>Jan</td>\n      <td>Orange</td>\n      <td>2016.0</td>\n      <td>Coupe</td>\n      <td>2850.0</td>\n      <td>3.8</td>\n      <td>...</td>\n      <td>666.0</td>\n      <td>555.0</td>\n      <td>2670.0</td>\n      <td>1188.0</td>\n      <td>2095.0</td>\n      <td>4546.0</td>\n      <td>NaN</td>\n      <td>205.0</td>\n      <td>2.0</td>\n      <td>2.0</td>\n    </tr>\n    <tr>\n      <th>58_6_7</th>\n      <td>McLaren</td>\n      <td>675LT</td>\n      <td>58_6</td>\n      <td>2018</td>\n      <td>May</td>\n      <td>White</td>\n      <td>2016.0</td>\n      <td>Convertible</td>\n      <td>2402.0</td>\n      <td>3.8</td>\n      <td>...</td>\n      <td>666.0</td>\n      <td>555.0</td>\n      <td>2670.0</td>\n      <td>1188.0</td>\n      <td>2095.0</td>\n      <td>4546.0</td>\n      <td>11.7</td>\n      <td>203.0</td>\n      <td>2.0</td>\n      <td>2.0</td>\n    </tr>\n    <tr>\n      <th>58_6_8</th>\n      <td>McLaren</td>\n      <td>675LT</td>\n      <td>58_6</td>\n      <td>2018</td>\n      <td>Jan</td>\n      <td>Black</td>\n      <td>2016.0</td>\n      <td>Coupe</td>\n      <td>2800.0</td>\n      <td>3.8</td>\n      <td>...</td>\n      <td>666.0</td>\n      <td>555.0</td>\n      <td>2670.0</td>\n      <td>1188.0</td>\n      <td>2095.0</td>\n      <td>4546.0</td>\n      <td>NaN</td>\n      <td>205.0</td>\n      <td>2.0</td>\n      <td>2.0</td>\n    </tr>\n    <tr>\n      <th>58_6_9</th>\n      <td>McLaren</td>\n      <td>675LT</td>\n      <td>58_6</td>\n      <td>2018</td>\n      <td>Mar</td>\n      <td>Purple</td>\n      <td>2015.0</td>\n      <td>Coupe</td>\n      <td>800.0</td>\n      <td>3.8</td>\n      <td>...</td>\n      <td>666.0</td>\n      <td>555.0</td>\n      <td>2670.0</td>\n      <td>1188.0</td>\n      <td>2095.0</td>\n      <td>4546.0</td>\n      <td>NaN</td>\n      <td>205.0</td>\n      <td>2.0</td>\n      <td>2.0</td>\n    </tr>\n    <tr>\n      <th>58_6_10</th>\n      <td>McLaren</td>\n      <td>675LT</td>\n      <td>58_6</td>\n      <td>2018</td>\n      <td>May</td>\n      <td>White</td>\n      <td>2015.0</td>\n      <td>Coupe</td>\n      <td>4000.0</td>\n      <td>3.8</td>\n      <td>...</td>\n      <td>NaN</td>\n      <td>555.0</td>\n      <td>NaN</td>\n      <td>NaN</td>\n      <td>NaN</td>\n      <td>NaN</td>\n      <td>NaN</td>\n      <td>NaN</td>\n      <td>2.0</td>\n      <td>NaN</td>\n    </tr>\n    <tr>\n      <th>58_6_11</th>\n      <td>McLaren</td>\n      <td>675LT</td>\n      <td>58_6</td>\n      <td>2018</td>\n      <td>May</td>\n      <td>White</td>\n      <td>2016.0</td>\n      <td>Coupe</td>\n      <td>375.0</td>\n      <td>3.8</td>\n      <td>...</td>\n      <td>NaN</td>\n      <td>555.0</td>\n      <td>NaN</td>\n      <td>NaN</td>\n      <td>NaN</td>\n      <td>NaN</td>\n      <td>NaN</td>\n      <td>NaN</td>\n      <td>2.0</td>\n      <td>NaN</td>\n    </tr>\n    <tr>\n      <th>58_6_12</th>\n      <td>McLaren</td>\n      <td>675LT</td>\n      <td>58_6</td>\n      <td>2018</td>\n      <td>Mar</td>\n      <td>Green</td>\n      <td>2016.0</td>\n      <td>Coupe</td>\n      <td>786.0</td>\n      <td>3.8</td>\n      <td>...</td>\n      <td>666.0</td>\n      <td>NaN</td>\n      <td>2670.0</td>\n      <td>1188.0</td>\n      <td>2095.0</td>\n      <td>4546.0</td>\n      <td>NaN</td>\n      <td>205.0</td>\n      <td>2.0</td>\n      <td>2.0</td>\n    </tr>\n    <tr>\n      <th>58_6_13</th>\n      <td>McLaren</td>\n      <td>675LT</td>\n      <td>58_6</td>\n      <td>2017</td>\n      <td>Jun</td>\n      <td>Silver</td>\n      <td>2016.0</td>\n      <td>Coupe</td>\n      <td>200.0</td>\n      <td>3.8</td>\n      <td>...</td>\n      <td>666.0</td>\n      <td>555.0</td>\n      <td>2670.0</td>\n      <td>1188.0</td>\n      <td>2095.0</td>\n      <td>4546.0</td>\n      <td>NaN</td>\n      <td>205.0</td>\n      <td>2.0</td>\n      <td>2.0</td>\n    </tr>\n    <tr>\n      <th>58_6_14</th>\n      <td>McLaren</td>\n      <td>675LT</td>\n      <td>58_6</td>\n      <td>2018</td>\n      <td>Apr</td>\n      <td>NaN</td>\n      <td>2016.0</td>\n      <td>Coupe</td>\n      <td>1849.0</td>\n      <td>3.8</td>\n      <td>...</td>\n      <td>NaN</td>\n      <td>555.0</td>\n      <td>NaN</td>\n      <td>NaN</td>\n      <td>NaN</td>\n      <td>NaN</td>\n      <td>NaN</td>\n      <td>NaN</td>\n      <td>2.0</td>\n      <td>NaN</td>\n    </tr>\n    <tr>\n      <th>58_6_15</th>\n      <td>McLaren</td>\n      <td>675LT</td>\n      <td>58_6</td>\n      <td>2017</td>\n      <td>Jul</td>\n      <td>Grey</td>\n      <td>2016.0</td>\n      <td>Convertible</td>\n      <td>280.0</td>\n      <td>3.8</td>\n      <td>...</td>\n      <td>NaN</td>\n      <td>NaN</td>\n      <td>NaN</td>\n      <td>NaN</td>\n      <td>NaN</td>\n      <td>NaN</td>\n      <td>NaN</td>\n      <td>NaN</td>\n      <td>NaN</td>\n      <td>NaN</td>\n    </tr>\n    <tr>\n      <th>58_6_16</th>\n      <td>McLaren</td>\n      <td>675LT</td>\n      <td>58_6</td>\n      <td>2018</td>\n      <td>May</td>\n      <td>Grey</td>\n      <td>2016.0</td>\n      <td>Convertible</td>\n      <td>2050.0</td>\n      <td>3.8</td>\n      <td>...</td>\n      <td>666.0</td>\n      <td>NaN</td>\n      <td>2670.0</td>\n      <td>1188.0</td>\n      <td>2095.0</td>\n      <td>4546.0</td>\n      <td>11.7</td>\n      <td>203.0</td>\n      <td>2.0</td>\n      <td>2.0</td>\n    </tr>\n    <tr>\n      <th>58_6_17</th>\n      <td>McLaren</td>\n      <td>675LT</td>\n      <td>58_6</td>\n      <td>2017</td>\n      <td>Sep</td>\n      <td>Green</td>\n      <td>2016.0</td>\n      <td>Convertible</td>\n      <td>10.0</td>\n      <td>3.8</td>\n      <td>...</td>\n      <td>NaN</td>\n      <td>555.0</td>\n      <td>NaN</td>\n      <td>NaN</td>\n      <td>NaN</td>\n      <td>NaN</td>\n      <td>NaN</td>\n      <td>NaN</td>\n      <td>2.0</td>\n      <td>NaN</td>\n    </tr>\n    <tr>\n      <th>58_6_18</th>\n      <td>McLaren</td>\n      <td>675LT</td>\n      <td>58_6</td>\n      <td>2018</td>\n      <td>May</td>\n      <td>Black</td>\n      <td>2016.0</td>\n      <td>Convertible</td>\n      <td>15.0</td>\n      <td>3.8</td>\n      <td>...</td>\n      <td>NaN</td>\n      <td>NaN</td>\n      <td>NaN</td>\n      <td>NaN</td>\n      <td>NaN</td>\n      <td>NaN</td>\n      <td>NaN</td>\n      <td>NaN</td>\n      <td>NaN</td>\n      <td>NaN</td>\n    </tr>\n    <tr>\n      <th>58_6_19</th>\n      <td>McLaren</td>\n      <td>675LT</td>\n      <td>58_6</td>\n      <td>2018</td>\n      <td>May</td>\n      <td>Grey</td>\n      <td>2015.0</td>\n      <td>Coupe</td>\n      <td>2484.0</td>\n      <td>3.8</td>\n      <td>...</td>\n      <td>666.0</td>\n      <td>555.0</td>\n      <td>2670.0</td>\n      <td>1188.0</td>\n      <td>2095.0</td>\n      <td>4546.0</td>\n      <td>NaN</td>\n      <td>205.0</td>\n      <td>2.0</td>\n      <td>2.0</td>\n    </tr>\n    <tr>\n      <th>58_6_20</th>\n      <td>McLaren</td>\n      <td>675LT</td>\n      <td>58_6</td>\n      <td>2018</td>\n      <td>May</td>\n      <td>White</td>\n      <td>2015.0</td>\n      <td>Coupe</td>\n      <td>350.0</td>\n      <td>3.8</td>\n      <td>...</td>\n      <td>NaN</td>\n      <td>555.0</td>\n      <td>NaN</td>\n      <td>NaN</td>\n      <td>NaN</td>\n      <td>NaN</td>\n      <td>NaN</td>\n      <td>NaN</td>\n      <td>2.0</td>\n      <td>NaN</td>\n    </tr>\n    <tr>\n      <th>58_6_21</th>\n      <td>McLaren</td>\n      <td>675LT</td>\n      <td>58_6</td>\n      <td>2018</td>\n      <td>Apr</td>\n      <td>Blue</td>\n      <td>2016.0</td>\n      <td>Convertible</td>\n      <td>500.0</td>\n      <td>3.8</td>\n      <td>...</td>\n      <td>NaN</td>\n      <td>NaN</td>\n      <td>NaN</td>\n      <td>NaN</td>\n      <td>NaN</td>\n      <td>NaN</td>\n      <td>NaN</td>\n      <td>NaN</td>\n      <td>NaN</td>\n      <td>NaN</td>\n    </tr>\n    <tr>\n      <th>58_6_22</th>\n      <td>McLaren</td>\n      <td>675LT</td>\n      <td>58_6</td>\n      <td>2017</td>\n      <td>Apr</td>\n      <td>White</td>\n      <td>2015.0</td>\n      <td>Coupe</td>\n      <td>30000.0</td>\n      <td>3.8</td>\n      <td>...</td>\n      <td>666.0</td>\n      <td>555.0</td>\n      <td>2670.0</td>\n      <td>1188.0</td>\n      <td>2095.0</td>\n      <td>4546.0</td>\n      <td>NaN</td>\n      <td>205.0</td>\n      <td>2.0</td>\n      <td>2.0</td>\n    </tr>\n  </tbody>\n</table>\n<p>22 rows × 23 columns</p>\n</div>"
     },
     "execution_count": 29,
     "metadata": {},
     "output_type": "execute_result"
    }
   ],
   "source": [
    "df[df[\"Genmodel\"] == \"675LT\"]"
   ],
   "metadata": {
    "collapsed": false,
    "ExecuteTime": {
     "end_time": "2024-02-07T12:08:59.328677Z",
     "start_time": "2024-02-07T12:08:59.305518Z"
    }
   },
   "id": "d8ff03cd01db5e49",
   "execution_count": 29
  },
  {
   "cell_type": "code",
   "outputs": [],
   "source": [
    "df.drop(df[df[\"Price\"] > 3000000].index, inplace=True)\n"
   ],
   "metadata": {
    "collapsed": false,
    "ExecuteTime": {
     "end_time": "2024-02-07T12:08:59.401125Z",
     "start_time": "2024-02-07T12:08:59.318651Z"
    }
   },
   "id": "cc2e68eb8290cfbc",
   "execution_count": 30
  },
  {
   "cell_type": "code",
   "outputs": [],
   "source": [
    "# df[\"Reg_Year\"].sort_values().head()"
   ],
   "metadata": {
    "collapsed": false,
    "ExecuteTime": {
     "end_time": "2024-02-07T12:08:59.402219Z",
     "start_time": "2024-02-07T12:08:59.375995Z"
    }
   },
   "id": "998bda71863d2184",
   "execution_count": 31
  },
  {
   "cell_type": "code",
   "outputs": [
    {
     "data": {
      "text/plain": "             Maker Genmodel Genmodel_ID  Adv_Year Adv_Month Color  Reg_Year  \\\nAdv_ID                                                                        \n94_9_342  Vauxhall    Corsa        94_9      2018       May  Grey    1900.0   \n\n          Body_Type  Mileage  Engine_Size  ... Engine_Power Annual_Tax  \\\nAdv_ID                                     ...                           \n94_9_342  Hatchback   4386.0          1.4  ...          NaN        NaN   \n\n          Wheelbase  Height  Width  Length  Average_Mpg  Top_Speed  Seat_Num  \\\nAdv_ID                                                                         \n94_9_342        NaN     NaN    NaN     NaN          NaN        NaN       NaN   \n\n          Door_Num  \nAdv_ID              \n94_9_342       NaN  \n\n[1 rows x 23 columns]",
      "text/html": "<div>\n<style scoped>\n    .dataframe tbody tr th:only-of-type {\n        vertical-align: middle;\n    }\n\n    .dataframe tbody tr th {\n        vertical-align: top;\n    }\n\n    .dataframe thead th {\n        text-align: right;\n    }\n</style>\n<table border=\"1\" class=\"dataframe\">\n  <thead>\n    <tr style=\"text-align: right;\">\n      <th></th>\n      <th>Maker</th>\n      <th>Genmodel</th>\n      <th>Genmodel_ID</th>\n      <th>Adv_Year</th>\n      <th>Adv_Month</th>\n      <th>Color</th>\n      <th>Reg_Year</th>\n      <th>Body_Type</th>\n      <th>Mileage</th>\n      <th>Engine_Size</th>\n      <th>...</th>\n      <th>Engine_Power</th>\n      <th>Annual_Tax</th>\n      <th>Wheelbase</th>\n      <th>Height</th>\n      <th>Width</th>\n      <th>Length</th>\n      <th>Average_Mpg</th>\n      <th>Top_Speed</th>\n      <th>Seat_Num</th>\n      <th>Door_Num</th>\n    </tr>\n    <tr>\n      <th>Adv_ID</th>\n      <th></th>\n      <th></th>\n      <th></th>\n      <th></th>\n      <th></th>\n      <th></th>\n      <th></th>\n      <th></th>\n      <th></th>\n      <th></th>\n      <th></th>\n      <th></th>\n      <th></th>\n      <th></th>\n      <th></th>\n      <th></th>\n      <th></th>\n      <th></th>\n      <th></th>\n      <th></th>\n      <th></th>\n    </tr>\n  </thead>\n  <tbody>\n    <tr>\n      <th>94_9_342</th>\n      <td>Vauxhall</td>\n      <td>Corsa</td>\n      <td>94_9</td>\n      <td>2018</td>\n      <td>May</td>\n      <td>Grey</td>\n      <td>1900.0</td>\n      <td>Hatchback</td>\n      <td>4386.0</td>\n      <td>1.4</td>\n      <td>...</td>\n      <td>NaN</td>\n      <td>NaN</td>\n      <td>NaN</td>\n      <td>NaN</td>\n      <td>NaN</td>\n      <td>NaN</td>\n      <td>NaN</td>\n      <td>NaN</td>\n      <td>NaN</td>\n      <td>NaN</td>\n    </tr>\n  </tbody>\n</table>\n<p>1 rows × 23 columns</p>\n</div>"
     },
     "execution_count": 32,
     "metadata": {},
     "output_type": "execute_result"
    }
   ],
   "source": [
    "df[df[\"Reg_Year\"] == 1900]"
   ],
   "metadata": {
    "collapsed": false,
    "ExecuteTime": {
     "end_time": "2024-02-07T12:08:59.403441Z",
     "start_time": "2024-02-07T12:08:59.378019Z"
    }
   },
   "id": "83703e7981b28ee0",
   "execution_count": 32
  },
  {
   "cell_type": "code",
   "outputs": [],
   "source": [
    "df.drop(df[\"Reg_Year\"].sort_values().head(1).index, inplace=True)"
   ],
   "metadata": {
    "collapsed": false,
    "ExecuteTime": {
     "end_time": "2024-02-07T12:08:59.513297Z",
     "start_time": "2024-02-07T12:08:59.389463Z"
    }
   },
   "id": "96825265379c5210",
   "execution_count": 33
  },
  {
   "cell_type": "code",
   "outputs": [],
   "source": [],
   "metadata": {
    "collapsed": false,
    "ExecuteTime": {
     "end_time": "2024-02-07T12:08:59.514382Z",
     "start_time": "2024-02-07T12:08:59.457646Z"
    }
   },
   "id": "3a7697c99eb7dc31",
   "execution_count": 33
  },
  {
   "cell_type": "markdown",
   "source": [
    "### Correcting data types"
   ],
   "metadata": {
    "collapsed": false
   },
   "id": "83c5773f06a37d24"
  },
  {
   "cell_type": "code",
   "outputs": [
    {
     "data": {
      "text/plain": "Maker             object\nGenmodel          object\nGenmodel_ID       object\nAdv_Year           int64\nAdv_Month       category\nColor             object\nReg_Year         float64\nBody_Type         object\nMileage          float64\nEngine_Size      float64\nGearbox_Type      object\nFuel_Type         object\nPrice            float64\nEngine_Power     float64\nAnnual_Tax       float64\nWheelbase        float64\nHeight           float64\nWidth            float64\nLength           float64\nAverage_Mpg      float64\nTop_Speed        float64\nSeat_Num         float64\nDoor_Num         float64\ndtype: object"
     },
     "execution_count": 34,
     "metadata": {},
     "output_type": "execute_result"
    }
   ],
   "source": [
    "df.dtypes"
   ],
   "metadata": {
    "collapsed": false,
    "ExecuteTime": {
     "end_time": "2024-02-07T12:08:59.515614Z",
     "start_time": "2024-02-07T12:08:59.460456Z"
    }
   },
   "id": "f3ef611d98dbafd7",
   "execution_count": 34
  },
  {
   "cell_type": "code",
   "outputs": [
    {
     "data": {
      "text/plain": "Maker              88\nGenmodel          896\nGenmodel_ID       881\nAdv_Year            9\nAdv_Month          12\nColor              22\nReg_Year           25\nBody_Type          18\nMileage         72420\nEngine_Size        72\nGearbox_Type        3\nFuel_Type           9\nPrice           20454\nEngine_Power      466\nAnnual_Tax         24\nWheelbase         426\nHeight            578\nWidth             475\nLength            983\nAverage_Mpg       358\nTop_Speed         138\nSeat_Num           10\nDoor_Num            7\ndtype: int64"
     },
     "execution_count": 35,
     "metadata": {},
     "output_type": "execute_result"
    }
   ],
   "source": [
    "df.nunique()"
   ],
   "metadata": {
    "collapsed": false,
    "ExecuteTime": {
     "end_time": "2024-02-07T12:08:59.626493Z",
     "start_time": "2024-02-07T12:08:59.467850Z"
    }
   },
   "id": "4d4574e171f23e13",
   "execution_count": 35
  },
  {
   "cell_type": "code",
   "outputs": [],
   "source": [
    "df[\"Adv_Year\"] = df[\"Adv_Year\"].astype(\"category\")\n",
    "df[\"Gearbox_Type\"] = df[\"Gearbox_Type\"].astype(\"category\")\n",
    "df[\"Fuel_Type\"] = df[\"Fuel_Type\"].astype(\"category\")"
   ],
   "metadata": {
    "collapsed": false,
    "ExecuteTime": {
     "end_time": "2024-02-07T12:08:59.650799Z",
     "start_time": "2024-02-07T12:08:59.540328Z"
    }
   },
   "id": "fc996abe56c9b9bb",
   "execution_count": 36
  },
  {
   "cell_type": "markdown",
   "source": [
    "### Reordering columns"
   ],
   "metadata": {
    "collapsed": false
   },
   "id": "5de6ae055a37fe57"
  },
  {
   "cell_type": "code",
   "outputs": [
    {
     "data": {
      "text/plain": "Index(['Maker', 'Genmodel', 'Genmodel_ID', 'Adv_Year', 'Adv_Month', 'Color',\n       'Reg_Year', 'Body_Type', 'Mileage', 'Engine_Size', 'Gearbox_Type',\n       'Fuel_Type', 'Price', 'Engine_Power', 'Annual_Tax', 'Wheelbase',\n       'Height', 'Width', 'Length', 'Average_Mpg', 'Top_Speed', 'Seat_Num',\n       'Door_Num'],\n      dtype='object')"
     },
     "execution_count": 37,
     "metadata": {},
     "output_type": "execute_result"
    }
   ],
   "source": [
    "col_names = df.columns\n",
    "col_names"
   ],
   "metadata": {
    "collapsed": false,
    "ExecuteTime": {
     "end_time": "2024-02-07T12:08:59.683204Z",
     "start_time": "2024-02-07T12:08:59.570156Z"
    }
   },
   "id": "de0d68759f0ccadf",
   "execution_count": 37
  },
  {
   "cell_type": "code",
   "outputs": [
    {
     "data": {
      "text/plain": "23"
     },
     "execution_count": 38,
     "metadata": {},
     "output_type": "execute_result"
    }
   ],
   "source": [
    "new_order = ['Maker', 'Genmodel', 'Genmodel_ID', 'Adv_Year', 'Adv_Month', 'Color', 'Body_Type', 'Gearbox_Type', 'Fuel_Type', 'Reg_Year', 'Mileage', 'Engine_Size','Price', 'Engine_Power', 'Annual_Tax', 'Wheelbase', 'Height', 'Width', 'Length', 'Average_Mpg', 'Top_Speed', 'Seat_Num', 'Door_Num']\n",
    "len(new_order)"
   ],
   "metadata": {
    "collapsed": false,
    "ExecuteTime": {
     "end_time": "2024-02-07T12:08:59.684337Z",
     "start_time": "2024-02-07T12:08:59.573953Z"
    }
   },
   "id": "c43bbb164a487f0e",
   "execution_count": 38
  },
  {
   "cell_type": "code",
   "outputs": [
    {
     "data": {
      "text/plain": "          Maker Genmodel Genmodel_ID Adv_Year Adv_Month   Color Body_Type  \\\nAdv_ID                                                                      \n10_1_1  Bentley   Arnage        10_1     2018       Apr  Silver    Saloon   \n10_1_2  Bentley   Arnage        10_1     2018       Jun    Grey    Saloon   \n10_1_3  Bentley   Arnage        10_1     2017       Nov    Blue    Saloon   \n10_1_4  Bentley   Arnage        10_1     2018       Apr   Green    Saloon   \n10_1_5  Bentley   Arnage        10_1     2017       Nov    Grey    Saloon   \n\n       Gearbox_Type Fuel_Type  Reg_Year  ...  Engine_Power  Annual_Tax  \\\nAdv_ID                                   ...                             \n10_1_1    Automatic    Petrol    2000.0  ...           NaN         NaN   \n10_1_2    Automatic    Petrol    2002.0  ...         450.0       315.0   \n10_1_3    Automatic    Petrol    2002.0  ...         400.0       315.0   \n10_1_4    Automatic    Petrol    2003.0  ...           NaN         NaN   \n10_1_5    Automatic    Petrol    2003.0  ...           NaN         NaN   \n\n        Wheelbase  Height   Width  Length  Average_Mpg  Top_Speed  Seat_Num  \\\nAdv_ID                                                                        \n10_1_1     3116.0  1515.0  2125.0  5390.0          NaN        NaN       5.0   \n10_1_2     3116.0  1515.0  2125.0  5390.0         13.7      179.0       5.0   \n10_1_3     3116.0  1515.0  2125.0  5390.0         14.7      155.0       5.0   \n10_1_4     3116.0  1515.0  2125.0  5390.0          NaN        NaN       5.0   \n10_1_5     3116.0  1515.0  2125.0  5390.0          NaN        NaN       5.0   \n\n        Door_Num  \nAdv_ID            \n10_1_1       4.0  \n10_1_2       4.0  \n10_1_3       4.0  \n10_1_4       4.0  \n10_1_5       4.0  \n\n[5 rows x 23 columns]",
      "text/html": "<div>\n<style scoped>\n    .dataframe tbody tr th:only-of-type {\n        vertical-align: middle;\n    }\n\n    .dataframe tbody tr th {\n        vertical-align: top;\n    }\n\n    .dataframe thead th {\n        text-align: right;\n    }\n</style>\n<table border=\"1\" class=\"dataframe\">\n  <thead>\n    <tr style=\"text-align: right;\">\n      <th></th>\n      <th>Maker</th>\n      <th>Genmodel</th>\n      <th>Genmodel_ID</th>\n      <th>Adv_Year</th>\n      <th>Adv_Month</th>\n      <th>Color</th>\n      <th>Body_Type</th>\n      <th>Gearbox_Type</th>\n      <th>Fuel_Type</th>\n      <th>Reg_Year</th>\n      <th>...</th>\n      <th>Engine_Power</th>\n      <th>Annual_Tax</th>\n      <th>Wheelbase</th>\n      <th>Height</th>\n      <th>Width</th>\n      <th>Length</th>\n      <th>Average_Mpg</th>\n      <th>Top_Speed</th>\n      <th>Seat_Num</th>\n      <th>Door_Num</th>\n    </tr>\n    <tr>\n      <th>Adv_ID</th>\n      <th></th>\n      <th></th>\n      <th></th>\n      <th></th>\n      <th></th>\n      <th></th>\n      <th></th>\n      <th></th>\n      <th></th>\n      <th></th>\n      <th></th>\n      <th></th>\n      <th></th>\n      <th></th>\n      <th></th>\n      <th></th>\n      <th></th>\n      <th></th>\n      <th></th>\n      <th></th>\n      <th></th>\n    </tr>\n  </thead>\n  <tbody>\n    <tr>\n      <th>10_1_1</th>\n      <td>Bentley</td>\n      <td>Arnage</td>\n      <td>10_1</td>\n      <td>2018</td>\n      <td>Apr</td>\n      <td>Silver</td>\n      <td>Saloon</td>\n      <td>Automatic</td>\n      <td>Petrol</td>\n      <td>2000.0</td>\n      <td>...</td>\n      <td>NaN</td>\n      <td>NaN</td>\n      <td>3116.0</td>\n      <td>1515.0</td>\n      <td>2125.0</td>\n      <td>5390.0</td>\n      <td>NaN</td>\n      <td>NaN</td>\n      <td>5.0</td>\n      <td>4.0</td>\n    </tr>\n    <tr>\n      <th>10_1_2</th>\n      <td>Bentley</td>\n      <td>Arnage</td>\n      <td>10_1</td>\n      <td>2018</td>\n      <td>Jun</td>\n      <td>Grey</td>\n      <td>Saloon</td>\n      <td>Automatic</td>\n      <td>Petrol</td>\n      <td>2002.0</td>\n      <td>...</td>\n      <td>450.0</td>\n      <td>315.0</td>\n      <td>3116.0</td>\n      <td>1515.0</td>\n      <td>2125.0</td>\n      <td>5390.0</td>\n      <td>13.7</td>\n      <td>179.0</td>\n      <td>5.0</td>\n      <td>4.0</td>\n    </tr>\n    <tr>\n      <th>10_1_3</th>\n      <td>Bentley</td>\n      <td>Arnage</td>\n      <td>10_1</td>\n      <td>2017</td>\n      <td>Nov</td>\n      <td>Blue</td>\n      <td>Saloon</td>\n      <td>Automatic</td>\n      <td>Petrol</td>\n      <td>2002.0</td>\n      <td>...</td>\n      <td>400.0</td>\n      <td>315.0</td>\n      <td>3116.0</td>\n      <td>1515.0</td>\n      <td>2125.0</td>\n      <td>5390.0</td>\n      <td>14.7</td>\n      <td>155.0</td>\n      <td>5.0</td>\n      <td>4.0</td>\n    </tr>\n    <tr>\n      <th>10_1_4</th>\n      <td>Bentley</td>\n      <td>Arnage</td>\n      <td>10_1</td>\n      <td>2018</td>\n      <td>Apr</td>\n      <td>Green</td>\n      <td>Saloon</td>\n      <td>Automatic</td>\n      <td>Petrol</td>\n      <td>2003.0</td>\n      <td>...</td>\n      <td>NaN</td>\n      <td>NaN</td>\n      <td>3116.0</td>\n      <td>1515.0</td>\n      <td>2125.0</td>\n      <td>5390.0</td>\n      <td>NaN</td>\n      <td>NaN</td>\n      <td>5.0</td>\n      <td>4.0</td>\n    </tr>\n    <tr>\n      <th>10_1_5</th>\n      <td>Bentley</td>\n      <td>Arnage</td>\n      <td>10_1</td>\n      <td>2017</td>\n      <td>Nov</td>\n      <td>Grey</td>\n      <td>Saloon</td>\n      <td>Automatic</td>\n      <td>Petrol</td>\n      <td>2003.0</td>\n      <td>...</td>\n      <td>NaN</td>\n      <td>NaN</td>\n      <td>3116.0</td>\n      <td>1515.0</td>\n      <td>2125.0</td>\n      <td>5390.0</td>\n      <td>NaN</td>\n      <td>NaN</td>\n      <td>5.0</td>\n      <td>4.0</td>\n    </tr>\n  </tbody>\n</table>\n<p>5 rows × 23 columns</p>\n</div>"
     },
     "execution_count": 39,
     "metadata": {},
     "output_type": "execute_result"
    }
   ],
   "source": [
    "df = df.reindex(new_order, axis=\"columns\")\n",
    "df.head()"
   ],
   "metadata": {
    "collapsed": false,
    "ExecuteTime": {
     "end_time": "2024-02-07T12:08:59.686256Z",
     "start_time": "2024-02-07T12:08:59.576402Z"
    }
   },
   "id": "b86d6270b2246f1c",
   "execution_count": 39
  },
  {
   "cell_type": "markdown",
   "source": [
    "### Filling null values with Genmodel mode"
   ],
   "metadata": {
    "collapsed": false
   },
   "id": "f3f270f757cfbd9e"
  },
  {
   "cell_type": "code",
   "outputs": [],
   "source": [
    "def null_to_mode(data_frame, grouping_column, column_to_fill):\n",
    "    return data_frame[column_to_fill].fillna(data_frame.groupby(grouping_column)[column_to_fill].transform(\n",
    "        lambda x: x.mode().iloc[0] if not x.mode().empty else np.nan)\n",
    "    )"
   ],
   "metadata": {
    "collapsed": false,
    "ExecuteTime": {
     "end_time": "2024-02-07T12:08:59.687441Z",
     "start_time": "2024-02-07T12:08:59.599119Z"
    }
   },
   "id": "da8246cac07cbad2",
   "execution_count": 40
  },
  {
   "cell_type": "code",
   "outputs": [
    {
     "name": "stdout",
     "output_type": "stream",
     "text": [
      "<class 'pandas.core.series.Series'>\n",
      "Index: 267361 entries, 10_1_1 to 99_1_3\n",
      "Series name: Seat_Num\n",
      "Non-Null Count   Dtype  \n",
      "--------------   -----  \n",
      "260923 non-null  float64\n",
      "dtypes: float64(1)\n",
      "memory usage: 4.1+ MB\n"
     ]
    }
   ],
   "source": [
    "df[\"Seat_Num\"].info()"
   ],
   "metadata": {
    "collapsed": false,
    "ExecuteTime": {
     "end_time": "2024-02-07T12:08:59.690100Z",
     "start_time": "2024-02-07T12:08:59.600962Z"
    }
   },
   "id": "1b48a429ac4b1d05",
   "execution_count": 41
  },
  {
   "cell_type": "code",
   "outputs": [
    {
     "name": "stdout",
     "output_type": "stream",
     "text": [
      "<class 'pandas.core.series.Series'>\n",
      "Index: 267361 entries, 10_1_1 to 99_1_3\n",
      "Series name: Seat_Num\n",
      "Non-Null Count   Dtype  \n",
      "--------------   -----  \n",
      "267296 non-null  float64\n",
      "dtypes: float64(1)\n",
      "memory usage: 4.1+ MB\n"
     ]
    }
   ],
   "source": [
    "null_to_mode(df, \"Genmodel_ID\", \"Seat_Num\").info()"
   ],
   "metadata": {
    "collapsed": false,
    "ExecuteTime": {
     "end_time": "2024-02-07T12:08:59.751238Z",
     "start_time": "2024-02-07T12:08:59.611660Z"
    }
   },
   "id": "e680399a092d68c8",
   "execution_count": 42
  },
  {
   "cell_type": "code",
   "outputs": [],
   "source": [
    "df[\"Body_Type\"] = null_to_mode(df, \"Genmodel_ID\", \"Body_Type\")\n",
    "df[\"Gearbox_Type\"] = null_to_mode(df, \"Genmodel_ID\", \"Gearbox_Type\")\n",
    "df[\"Fuel_Type\"] = null_to_mode(df, \"Genmodel_ID\", \"Fuel_Type\")\n",
    "df[\"Seat_Num\"] = null_to_mode(df, \"Genmodel_ID\", \"Seat_Num\")\n",
    "df[\"Door_Num\"] = null_to_mode(df, \"Genmodel_ID\", \"Door_Num\")"
   ],
   "metadata": {
    "collapsed": false,
    "ExecuteTime": {
     "end_time": "2024-02-07T12:09:00.236366Z",
     "start_time": "2024-02-07T12:08:59.699836Z"
    }
   },
   "id": "88f4984a8f7cf504",
   "execution_count": 43
  },
  {
   "cell_type": "code",
   "outputs": [
    {
     "name": "stdout",
     "output_type": "stream",
     "text": [
      "<class 'pandas.core.frame.DataFrame'>\n",
      "Index: 267361 entries, 10_1_1 to 99_1_3\n",
      "Data columns (total 23 columns):\n",
      " #   Column        Non-Null Count   Dtype   \n",
      "---  ------        --------------   -----   \n",
      " 0   Maker         267361 non-null  object  \n",
      " 1   Genmodel      267361 non-null  object  \n",
      " 2   Genmodel_ID   267361 non-null  object  \n",
      " 3   Adv_Year      267361 non-null  category\n",
      " 4   Adv_Month     267361 non-null  category\n",
      " 5   Color         245616 non-null  object  \n",
      " 6   Body_Type     267342 non-null  object  \n",
      " 7   Gearbox_Type  267355 non-null  category\n",
      " 8   Fuel_Type     267359 non-null  category\n",
      " 9   Reg_Year      267355 non-null  float64 \n",
      " 10  Mileage       266318 non-null  float64 \n",
      " 11  Engine_Size   265308 non-null  float64 \n",
      " 12  Price         266235 non-null  float64 \n",
      " 13  Engine_Power  235665 non-null  float64 \n",
      " 14  Annual_Tax    219941 non-null  float64 \n",
      " 15  Wheelbase     232043 non-null  float64 \n",
      " 16  Height        238705 non-null  float64 \n",
      " 17  Width         239367 non-null  float64 \n",
      " 18  Length        239558 non-null  float64 \n",
      " 19  Average_Mpg   225552 non-null  float64 \n",
      " 20  Top_Speed     223882 non-null  float64 \n",
      " 21  Seat_Num      267296 non-null  float64 \n",
      " 22  Door_Num      267053 non-null  float64 \n",
      "dtypes: category(4), float64(14), object(5)\n",
      "memory usage: 41.8+ MB\n"
     ]
    }
   ],
   "source": [
    "df.info()"
   ],
   "metadata": {
    "collapsed": false,
    "ExecuteTime": {
     "end_time": "2024-02-07T12:09:00.271431Z",
     "start_time": "2024-02-07T12:09:00.254450Z"
    }
   },
   "id": "2a2f082f8ccc6985",
   "execution_count": 44
  },
  {
   "cell_type": "code",
   "outputs": [],
   "source": [
    "df.to_csv(\"/Users/mpolcyn/PycharmProjects/DataProcessingCapstone/capstone_data_clean.csv\", index=False)"
   ],
   "metadata": {
    "collapsed": false,
    "ExecuteTime": {
     "end_time": "2024-02-07T12:09:01.418457Z",
     "start_time": "2024-02-07T12:09:00.271976Z"
    }
   },
   "id": "17aa68d11d2ac153",
   "execution_count": 45
  }
 ],
 "metadata": {
  "kernelspec": {
   "display_name": "Python 3",
   "language": "python",
   "name": "python3"
  },
  "language_info": {
   "codemirror_mode": {
    "name": "ipython",
    "version": 2
   },
   "file_extension": ".py",
   "mimetype": "text/x-python",
   "name": "python",
   "nbconvert_exporter": "python",
   "pygments_lexer": "ipython2",
   "version": "2.7.6"
  }
 },
 "nbformat": 4,
 "nbformat_minor": 5
}
