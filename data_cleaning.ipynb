{
 "cells": [
  {
   "cell_type": "markdown",
   "source": [
    "# Dataset fields description\n",
    "fields:\n",
    "- Maker: Producer name \n",
    "- Genmodel: Model name\n",
    "- Genmodel_ID: Unique model ID\n",
    "- Adv_ID: Advertisement_ID - unique for each row\n",
    "- Adv_Year: Advertisement year\n",
    "- Adv_Month: Advertisement month\n",
    "- Color:\n",
    "- Reg_Year: Registration year\n",
    "- Bodytype:\n",
    "- Mileage:\n",
    "- Engine_Size: Engine capacity in liters\n",
    "- Gearbox: type of the gearbox (category)\n",
    "- Fuel_Type:\n",
    "- Price:\n",
    "- Engine_Power:\n",
    "- Annual_Tax:\n",
    "- Wheelbase:\n",
    "- Height:\n",
    "- Width:\n",
    "- Length:\n",
    "- Average_Mpg: miles per gallon\n",
    "- Top_Speed: mph\n",
    "- Seat_Num:\n",
    "- Door_Num\n"
   ],
   "metadata": {
    "collapsed": false
   },
   "id": "ea54625d8cb779dd"
  },
  {
   "cell_type": "code",
   "outputs": [],
   "source": [
    "import numpy as np\n",
    "import pandas as pd"
   ],
   "metadata": {
    "collapsed": false,
    "ExecuteTime": {
     "end_time": "2024-01-31T15:04:34.930326Z",
     "start_time": "2024-01-31T15:04:34.927664Z"
    }
   },
   "id": "7c3dfcfae920d0e7",
   "execution_count": 1
  },
  {
   "cell_type": "code",
   "outputs": [],
   "source": [
    "df = pd.read_csv('capstone_data.csv')"
   ],
   "metadata": {
    "collapsed": false,
    "ExecuteTime": {
     "end_time": "2024-01-31T15:04:36.819428Z",
     "start_time": "2024-01-31T15:04:35.727863Z"
    }
   },
   "id": "44f60e3cffd588c6",
   "execution_count": 2
  },
  {
   "cell_type": "markdown",
   "source": [
    "### Renaming columns with typos etc."
   ],
   "metadata": {
    "collapsed": false
   },
   "id": "b578cc4773013f1d"
  },
  {
   "cell_type": "code",
   "outputs": [],
   "source": [
    "names = df.columns.values\n",
    "\n",
    "for i in range(len(names)):\n",
    "    names[i] = names[i].strip().capitalize()\n",
    "    if \"_\" in names[i]:\n",
    "        split1 = names[i].split(\"_\")[0]\n",
    "        split2 = names[i].split(\"_\")[1]\n",
    "        if split2.lower() == \"id\":\n",
    "            split2 = split2.upper()\n",
    "        else:\n",
    "            split2 = split2.capitalize()      \n",
    "        names[i] = split1 + \"_\" + split2\n",
    "\n",
    "df = df.set_axis(labels=names, axis=\"columns\")"
   ],
   "metadata": {
    "collapsed": false,
    "ExecuteTime": {
     "end_time": "2024-01-31T15:04:37.450279Z",
     "start_time": "2024-01-31T15:04:37.392856Z"
    }
   },
   "id": "9d66b29acf682aa1",
   "execution_count": 3
  },
  {
   "cell_type": "code",
   "outputs": [
    {
     "data": {
      "text/plain": "Index(['Maker', 'Genmodel', 'Genmodel_ID', 'Adv_ID', 'Adv_Year', 'Adv_Month',\n       'Color', 'Reg_Year', 'Body_Type', 'Mileage', 'Engine_Size',\n       'Gearbox_Type', 'Fuel_Type', 'Price', 'Engine_Power', 'Annual_Tax',\n       'Wheelbase', 'Height', 'Width', 'Length', 'Average_Mpg', 'Top_Speed',\n       'Seat_Num', 'Door_Num'],\n      dtype='object')"
     },
     "execution_count": 4,
     "metadata": {},
     "output_type": "execute_result"
    }
   ],
   "source": [
    "df.rename(columns={\"Engin_Size\": \"Engine_Size\", \"Runned_Miles\": \"Mileage\", \"Bodytype\": \"Body_Type\", \"Gearbox\": \"Gearbox_Type\"}, inplace=True)\n",
    "df.columns"
   ],
   "metadata": {
    "collapsed": false,
    "ExecuteTime": {
     "end_time": "2024-01-31T15:04:38.459421Z",
     "start_time": "2024-01-31T15:04:38.429225Z"
    }
   },
   "id": "e9e02c68d84295f1",
   "execution_count": 4
  },
  {
   "cell_type": "markdown",
   "source": [
    "## Pre-cleaning"
   ],
   "metadata": {
    "collapsed": false
   },
   "id": "89af9f88e6316614"
  },
  {
   "cell_type": "code",
   "outputs": [
    {
     "data": {
      "text/plain": "Maker            object\nGenmodel         object\nGenmodel_ID      object\nAdv_ID           object\nAdv_Year          int64\nAdv_Month         int64\nColor            object\nReg_Year        float64\nBody_Type        object\nMileage          object\nEngine_Size      object\nGearbox_Type     object\nFuel_Type        object\nPrice           float64\nEngine_Power    float64\nAnnual_Tax       object\nWheelbase       float64\nHeight          float64\nWidth           float64\nLength          float64\nAverage_Mpg      object\nTop_Speed        object\nSeat_Num        float64\nDoor_Num        float64\ndtype: object"
     },
     "execution_count": 5,
     "metadata": {},
     "output_type": "execute_result"
    }
   ],
   "source": [
    "df.dtypes"
   ],
   "metadata": {
    "collapsed": false,
    "ExecuteTime": {
     "end_time": "2024-01-31T15:04:39.884845Z",
     "start_time": "2024-01-31T15:04:39.853105Z"
    }
   },
   "id": "b73715bf6b50bb6f",
   "execution_count": 5
  },
  {
   "cell_type": "markdown",
   "source": [
    "### Handling null values in wrong format"
   ],
   "metadata": {
    "collapsed": false
   },
   "id": "67d5450cd726b928"
  },
  {
   "cell_type": "code",
   "outputs": [],
   "source": [
    "df = df.replace(\"nan\", np.nan)\n",
    "df[[\"Length\", \"Height\", \"Width\", \"Wheelbase\"]] = df[[\"Length\", \"Height\", \"Width\", \"Wheelbase\"]].replace(0, np.nan)"
   ],
   "metadata": {
    "collapsed": false,
    "ExecuteTime": {
     "end_time": "2024-01-31T15:04:41.408609Z",
     "start_time": "2024-01-31T15:04:41.187888Z"
    }
   },
   "id": "448f584b1e1bfecc",
   "execution_count": 6
  },
  {
   "cell_type": "markdown",
   "source": [
    "### Replacing $$ in Adv_ID "
   ],
   "metadata": {
    "collapsed": false
   },
   "id": "2aedf42555d08a3e"
  },
  {
   "cell_type": "code",
   "outputs": [
    {
     "data": {
      "text/plain": "     Maker Genmodel Genmodel_ID  Adv_ID  Adv_Year  Adv_Month   Color  \\\n0  Bentley   Arnage        10_1  10_1_1      2018          4  Silver   \n1  Bentley   Arnage        10_1  10_1_2      2018          6    Grey   \n2  Bentley   Arnage        10_1  10_1_3      2017         11    Blue   \n3  Bentley   Arnage        10_1  10_1_4      2018          4   Green   \n4  Bentley   Arnage        10_1  10_1_5      2017         11    Grey   \n\n   Reg_Year Body_Type Mileage  ... Engine_Power Annual_Tax Wheelbase  Height  \\\n0    2000.0    Saloon   60000  ...          NaN        NaN    3116.0  1515.0   \n1    2002.0    Saloon   44000  ...        450.0        315    3116.0  1515.0   \n2    2002.0    Saloon   55000  ...        400.0        315    3116.0  1515.0   \n3    2003.0    Saloon   14000  ...          NaN        NaN    3116.0  1515.0   \n4    2003.0    Saloon   61652  ...          NaN        NaN    3116.0  1515.0   \n\n    Width  Length  Average_Mpg  Top_Speed  Seat_Num  Door_Num  \n0  2125.0  5390.0          NaN        NaN       5.0       4.0  \n1  2125.0  5390.0     13.7 mpg    179 mph       5.0       4.0  \n2  2125.0  5390.0     14.7 mpg    155 mph       5.0       4.0  \n3  2125.0  5390.0          NaN        NaN       5.0       4.0  \n4  2125.0  5390.0          NaN        NaN       5.0       4.0  \n\n[5 rows x 24 columns]",
      "text/html": "<div>\n<style scoped>\n    .dataframe tbody tr th:only-of-type {\n        vertical-align: middle;\n    }\n\n    .dataframe tbody tr th {\n        vertical-align: top;\n    }\n\n    .dataframe thead th {\n        text-align: right;\n    }\n</style>\n<table border=\"1\" class=\"dataframe\">\n  <thead>\n    <tr style=\"text-align: right;\">\n      <th></th>\n      <th>Maker</th>\n      <th>Genmodel</th>\n      <th>Genmodel_ID</th>\n      <th>Adv_ID</th>\n      <th>Adv_Year</th>\n      <th>Adv_Month</th>\n      <th>Color</th>\n      <th>Reg_Year</th>\n      <th>Body_Type</th>\n      <th>Mileage</th>\n      <th>...</th>\n      <th>Engine_Power</th>\n      <th>Annual_Tax</th>\n      <th>Wheelbase</th>\n      <th>Height</th>\n      <th>Width</th>\n      <th>Length</th>\n      <th>Average_Mpg</th>\n      <th>Top_Speed</th>\n      <th>Seat_Num</th>\n      <th>Door_Num</th>\n    </tr>\n  </thead>\n  <tbody>\n    <tr>\n      <th>0</th>\n      <td>Bentley</td>\n      <td>Arnage</td>\n      <td>10_1</td>\n      <td>10_1_1</td>\n      <td>2018</td>\n      <td>4</td>\n      <td>Silver</td>\n      <td>2000.0</td>\n      <td>Saloon</td>\n      <td>60000</td>\n      <td>...</td>\n      <td>NaN</td>\n      <td>NaN</td>\n      <td>3116.0</td>\n      <td>1515.0</td>\n      <td>2125.0</td>\n      <td>5390.0</td>\n      <td>NaN</td>\n      <td>NaN</td>\n      <td>5.0</td>\n      <td>4.0</td>\n    </tr>\n    <tr>\n      <th>1</th>\n      <td>Bentley</td>\n      <td>Arnage</td>\n      <td>10_1</td>\n      <td>10_1_2</td>\n      <td>2018</td>\n      <td>6</td>\n      <td>Grey</td>\n      <td>2002.0</td>\n      <td>Saloon</td>\n      <td>44000</td>\n      <td>...</td>\n      <td>450.0</td>\n      <td>315</td>\n      <td>3116.0</td>\n      <td>1515.0</td>\n      <td>2125.0</td>\n      <td>5390.0</td>\n      <td>13.7 mpg</td>\n      <td>179 mph</td>\n      <td>5.0</td>\n      <td>4.0</td>\n    </tr>\n    <tr>\n      <th>2</th>\n      <td>Bentley</td>\n      <td>Arnage</td>\n      <td>10_1</td>\n      <td>10_1_3</td>\n      <td>2017</td>\n      <td>11</td>\n      <td>Blue</td>\n      <td>2002.0</td>\n      <td>Saloon</td>\n      <td>55000</td>\n      <td>...</td>\n      <td>400.0</td>\n      <td>315</td>\n      <td>3116.0</td>\n      <td>1515.0</td>\n      <td>2125.0</td>\n      <td>5390.0</td>\n      <td>14.7 mpg</td>\n      <td>155 mph</td>\n      <td>5.0</td>\n      <td>4.0</td>\n    </tr>\n    <tr>\n      <th>3</th>\n      <td>Bentley</td>\n      <td>Arnage</td>\n      <td>10_1</td>\n      <td>10_1_4</td>\n      <td>2018</td>\n      <td>4</td>\n      <td>Green</td>\n      <td>2003.0</td>\n      <td>Saloon</td>\n      <td>14000</td>\n      <td>...</td>\n      <td>NaN</td>\n      <td>NaN</td>\n      <td>3116.0</td>\n      <td>1515.0</td>\n      <td>2125.0</td>\n      <td>5390.0</td>\n      <td>NaN</td>\n      <td>NaN</td>\n      <td>5.0</td>\n      <td>4.0</td>\n    </tr>\n    <tr>\n      <th>4</th>\n      <td>Bentley</td>\n      <td>Arnage</td>\n      <td>10_1</td>\n      <td>10_1_5</td>\n      <td>2017</td>\n      <td>11</td>\n      <td>Grey</td>\n      <td>2003.0</td>\n      <td>Saloon</td>\n      <td>61652</td>\n      <td>...</td>\n      <td>NaN</td>\n      <td>NaN</td>\n      <td>3116.0</td>\n      <td>1515.0</td>\n      <td>2125.0</td>\n      <td>5390.0</td>\n      <td>NaN</td>\n      <td>NaN</td>\n      <td>5.0</td>\n      <td>4.0</td>\n    </tr>\n  </tbody>\n</table>\n<p>5 rows × 24 columns</p>\n</div>"
     },
     "execution_count": 7,
     "metadata": {},
     "output_type": "execute_result"
    }
   ],
   "source": [
    "def dolars(x):\n",
    "    if \"$$\" in x:\n",
    "        x = x.replace(\"$$\", \"_\")\n",
    "    return x\n",
    "\n",
    "df[\"Adv_ID\"] = df[\"Adv_ID\"].apply(dolars)\n",
    "df.head()"
   ],
   "metadata": {
    "collapsed": false,
    "ExecuteTime": {
     "end_time": "2024-01-31T15:04:42.444753Z",
     "start_time": "2024-01-31T15:04:42.337739Z"
    }
   },
   "id": "bccfcecab99708ca",
   "execution_count": 7
  },
  {
   "cell_type": "markdown",
   "source": [
    "### Deleting rows with Adv_Month greater than 12"
   ],
   "metadata": {
    "collapsed": false
   },
   "id": "6a3999ce4e45cc78"
  },
  {
   "cell_type": "code",
   "outputs": [
    {
     "data": {
      "text/plain": "              Maker  Genmodel Genmodel_ID    Adv_ID  Adv_Year  Adv_Month  \\\n46560          Ford  Streetka       29_32  29_32_75      2012         13   \n135473      Peugeot       407       69_23   69_23_2      2012         17   \n154764  Rolls-Royce   Phantom        77_4   77_4_10      2012         33   \n\n        Color  Reg_Year    Body_Type Mileage  ... Engine_Power Annual_Tax  \\\n46560    Blue    2005.0  Convertible   22000  ...         94.0        NaN   \n135473   Blue    2006.0        Coupe   77000  ...        205.0        NaN   \n154764  Black    2007.0       Saloon   20000  ...          NaN        555   \n\n       Wheelbase  Height   Width  Length  Average_Mpg  Top_Speed  Seat_Num  \\\n46560     2450.0  1332.0  1852.0  3650.0     35.8 mpg    108 mph       2.0   \n135473    2725.0  1399.0  1868.0  4815.0     33.2 mpg    143 mph       4.0   \n154764       NaN     NaN     NaN     NaN          NaN        NaN       5.0   \n\n        Door_Num  \n46560        2.0  \n135473       2.0  \n154764       NaN  \n\n[3 rows x 24 columns]",
      "text/html": "<div>\n<style scoped>\n    .dataframe tbody tr th:only-of-type {\n        vertical-align: middle;\n    }\n\n    .dataframe tbody tr th {\n        vertical-align: top;\n    }\n\n    .dataframe thead th {\n        text-align: right;\n    }\n</style>\n<table border=\"1\" class=\"dataframe\">\n  <thead>\n    <tr style=\"text-align: right;\">\n      <th></th>\n      <th>Maker</th>\n      <th>Genmodel</th>\n      <th>Genmodel_ID</th>\n      <th>Adv_ID</th>\n      <th>Adv_Year</th>\n      <th>Adv_Month</th>\n      <th>Color</th>\n      <th>Reg_Year</th>\n      <th>Body_Type</th>\n      <th>Mileage</th>\n      <th>...</th>\n      <th>Engine_Power</th>\n      <th>Annual_Tax</th>\n      <th>Wheelbase</th>\n      <th>Height</th>\n      <th>Width</th>\n      <th>Length</th>\n      <th>Average_Mpg</th>\n      <th>Top_Speed</th>\n      <th>Seat_Num</th>\n      <th>Door_Num</th>\n    </tr>\n  </thead>\n  <tbody>\n    <tr>\n      <th>46560</th>\n      <td>Ford</td>\n      <td>Streetka</td>\n      <td>29_32</td>\n      <td>29_32_75</td>\n      <td>2012</td>\n      <td>13</td>\n      <td>Blue</td>\n      <td>2005.0</td>\n      <td>Convertible</td>\n      <td>22000</td>\n      <td>...</td>\n      <td>94.0</td>\n      <td>NaN</td>\n      <td>2450.0</td>\n      <td>1332.0</td>\n      <td>1852.0</td>\n      <td>3650.0</td>\n      <td>35.8 mpg</td>\n      <td>108 mph</td>\n      <td>2.0</td>\n      <td>2.0</td>\n    </tr>\n    <tr>\n      <th>135473</th>\n      <td>Peugeot</td>\n      <td>407</td>\n      <td>69_23</td>\n      <td>69_23_2</td>\n      <td>2012</td>\n      <td>17</td>\n      <td>Blue</td>\n      <td>2006.0</td>\n      <td>Coupe</td>\n      <td>77000</td>\n      <td>...</td>\n      <td>205.0</td>\n      <td>NaN</td>\n      <td>2725.0</td>\n      <td>1399.0</td>\n      <td>1868.0</td>\n      <td>4815.0</td>\n      <td>33.2 mpg</td>\n      <td>143 mph</td>\n      <td>4.0</td>\n      <td>2.0</td>\n    </tr>\n    <tr>\n      <th>154764</th>\n      <td>Rolls-Royce</td>\n      <td>Phantom</td>\n      <td>77_4</td>\n      <td>77_4_10</td>\n      <td>2012</td>\n      <td>33</td>\n      <td>Black</td>\n      <td>2007.0</td>\n      <td>Saloon</td>\n      <td>20000</td>\n      <td>...</td>\n      <td>NaN</td>\n      <td>555</td>\n      <td>NaN</td>\n      <td>NaN</td>\n      <td>NaN</td>\n      <td>NaN</td>\n      <td>NaN</td>\n      <td>NaN</td>\n      <td>5.0</td>\n      <td>NaN</td>\n    </tr>\n  </tbody>\n</table>\n<p>3 rows × 24 columns</p>\n</div>"
     },
     "execution_count": 8,
     "metadata": {},
     "output_type": "execute_result"
    }
   ],
   "source": [
    "df[df[\"Adv_Month\"] > 12]"
   ],
   "metadata": {
    "collapsed": false,
    "ExecuteTime": {
     "end_time": "2024-01-31T15:04:43.711013Z",
     "start_time": "2024-01-31T15:04:43.684343Z"
    }
   },
   "id": "70618de15df7bb2d",
   "execution_count": 8
  },
  {
   "cell_type": "code",
   "outputs": [],
   "source": [
    "df.drop(df[df[\"Adv_Month\"] > 12].index, inplace=True)"
   ],
   "metadata": {
    "collapsed": false,
    "ExecuteTime": {
     "end_time": "2024-01-31T15:04:44.590897Z",
     "start_time": "2024-01-31T15:04:44.511668Z"
    }
   },
   "id": "a6065fba8a960607",
   "execution_count": 9
  },
  {
   "cell_type": "code",
   "outputs": [],
   "source": [
    "def to_month_abr(x):\n",
    "    months = [\"Jan\", \"Feb\", \"Mar\", \"Apr\", \"May\", \"Jun\", \"Jul\", \"Aug\", \"Sep\", \"Oct\", \"Nov\", \"Dec\"]\n",
    "    if str(x).isnumeric():\n",
    "        x = months[x - 1]\n",
    "    return x"
   ],
   "metadata": {
    "collapsed": false,
    "ExecuteTime": {
     "end_time": "2024-01-31T15:04:45.062Z",
     "start_time": "2024-01-31T15:04:45.046940Z"
    }
   },
   "id": "60a2ee5eab665d0a",
   "execution_count": 10
  },
  {
   "cell_type": "code",
   "outputs": [],
   "source": [
    "df[\"Adv_Month\"] = df[\"Adv_Month\"].apply(to_month_abr).astype(\"category\")"
   ],
   "metadata": {
    "collapsed": false,
    "ExecuteTime": {
     "end_time": "2024-01-31T15:04:45.773211Z",
     "start_time": "2024-01-31T15:04:45.652719Z"
    }
   },
   "id": "5a69a5a0e88f0957",
   "execution_count": 11
  },
  {
   "cell_type": "markdown",
   "source": [
    "### Removing units or non-numerical characters from numeric columns"
   ],
   "metadata": {
    "collapsed": false
   },
   "id": "c5018304ac89c064"
  },
  {
   "cell_type": "code",
   "outputs": [],
   "source": [
    "def remove_units(x):\n",
    "    if x is not np.nan:\n",
    "        output = \"\"\n",
    "        x = str(x)\n",
    "        for i in range(len(x)):\n",
    "            if x[i].isnumeric() or x[i] == \".\":\n",
    "                output += x[i]\n",
    "        if output == \"\":\n",
    "            x = np.nan\n",
    "        else:\n",
    "            x = float(output)\n",
    "    return x"
   ],
   "metadata": {
    "collapsed": false,
    "ExecuteTime": {
     "end_time": "2024-01-31T15:04:46.870754Z",
     "start_time": "2024-01-31T15:04:46.844237Z"
    }
   },
   "id": "d9281e38e89c4174",
   "execution_count": 12
  },
  {
   "cell_type": "code",
   "outputs": [
    {
     "data": {
      "text/plain": "Maker             object\nGenmodel          object\nGenmodel_ID       object\nAdv_ID            object\nAdv_Year           int64\nAdv_Month       category\nColor             object\nReg_Year         float64\nBody_Type         object\nMileage          float64\nEngine_Size      float64\nGearbox_Type      object\nFuel_Type         object\nPrice            float64\nEngine_Power     float64\nAnnual_Tax       float64\nWheelbase        float64\nHeight           float64\nWidth            float64\nLength           float64\nAverage_Mpg      float64\nTop_Speed        float64\nSeat_Num         float64\nDoor_Num         float64\ndtype: object"
     },
     "execution_count": 13,
     "metadata": {},
     "output_type": "execute_result"
    }
   ],
   "source": [
    "df[\"Engine_Size\"] = df[\"Engine_Size\"].apply(remove_units)\n",
    "df[\"Average_Mpg\"] = df[\"Average_Mpg\"].apply(remove_units)\n",
    "df[\"Top_Speed\"] = df[\"Top_Speed\"].apply(remove_units)\n",
    "df[\"Mileage\"] = df[\"Mileage\"].apply(remove_units)\n",
    "df[\"Annual_Tax\"] = df[\"Annual_Tax\"].apply(remove_units)\n",
    "df.dtypes"
   ],
   "metadata": {
    "collapsed": false,
    "ExecuteTime": {
     "end_time": "2024-01-31T15:04:48.877519Z",
     "start_time": "2024-01-31T15:04:47.425967Z"
    }
   },
   "id": "a6779bbd9cf52847",
   "execution_count": 13
  },
  {
   "cell_type": "markdown",
   "source": [
    "### Genmodel - managing data-like formats"
   ],
   "metadata": {
    "collapsed": false
   },
   "id": "c7b747101262903f"
  },
  {
   "cell_type": "code",
   "outputs": [
    {
     "data": {
      "text/plain": "'09-Mar'"
     },
     "execution_count": 14,
     "metadata": {},
     "output_type": "execute_result"
    }
   ],
   "source": [
    "df[\"Genmodel\"].iloc[187981]"
   ],
   "metadata": {
    "collapsed": false,
    "ExecuteTime": {
     "end_time": "2024-01-31T15:04:48.878796Z",
     "start_time": "2024-01-31T15:04:48.874202Z"
    }
   },
   "id": "fad290de2894d5df",
   "execution_count": 14
  },
  {
   "cell_type": "code",
   "outputs": [
    {
     "data": {
      "text/plain": "'09-May'"
     },
     "execution_count": 15,
     "metadata": {},
     "output_type": "execute_result"
    }
   ],
   "source": [
    "df[\"Genmodel\"].iloc[188688]"
   ],
   "metadata": {
    "collapsed": false,
    "ExecuteTime": {
     "end_time": "2024-01-31T15:04:49.794042Z",
     "start_time": "2024-01-31T15:04:49.786230Z"
    }
   },
   "id": "12f43d8c47518de1",
   "execution_count": 15
  },
  {
   "cell_type": "code",
   "outputs": [],
   "source": [
    "df[\"Genmodel\"] = df[\"Genmodel\"].replace(\"09-Mar\", \"9-3\")\n",
    "df[\"Genmodel\"] = df[\"Genmodel\"].replace(\"09-May\", \"9-5\")"
   ],
   "metadata": {
    "collapsed": false,
    "ExecuteTime": {
     "end_time": "2024-01-31T15:04:50.493003Z",
     "start_time": "2024-01-31T15:04:50.459235Z"
    }
   },
   "id": "4c7aa975a7215388",
   "execution_count": 16
  },
  {
   "cell_type": "markdown",
   "source": [
    "### Engine_Size - correcting outliers"
   ],
   "metadata": {
    "collapsed": false
   },
   "id": "1f2c6bde8374e8c7"
  },
  {
   "cell_type": "code",
   "outputs": [
    {
     "data": {
      "text/plain": "146118       8.2\n194214      10.0\n130712    1400.0\n114114    2998.0\n130799    3500.0\nName: Engine_Size, dtype: float64"
     },
     "execution_count": 17,
     "metadata": {},
     "output_type": "execute_result"
    }
   ],
   "source": [
    "df[df[\"Engine_Size\"].isnull() == False][\"Engine_Size\"].sort_values().tail()"
   ],
   "metadata": {
    "collapsed": false,
    "ExecuteTime": {
     "end_time": "2024-01-31T15:04:51.853237Z",
     "start_time": "2024-01-31T15:04:51.769595Z"
    }
   },
   "id": "ec86d02aca6a587d",
   "execution_count": 17
  },
  {
   "cell_type": "code",
   "outputs": [],
   "source": [
    "def eng_size_outliers(x):\n",
    "    if x > 1000:\n",
    "        x = x/1000\n",
    "    return x\n",
    "\n",
    "df[\"Engine_Size\"] = df[\"Engine_Size\"].apply(eng_size_outliers)"
   ],
   "metadata": {
    "collapsed": false,
    "ExecuteTime": {
     "end_time": "2024-01-31T15:04:52.717752Z",
     "start_time": "2024-01-31T15:04:52.656914Z"
    }
   },
   "id": "fc25e895152fd66f",
   "execution_count": 18
  },
  {
   "cell_type": "markdown",
   "source": [
    "### Fuel_Types - merging duplicate categories"
   ],
   "metadata": {
    "collapsed": false
   },
   "id": "1fea1408bbe4bf41"
  },
  {
   "cell_type": "code",
   "outputs": [
    {
     "data": {
      "text/plain": "array(['Petrol', 'Diesel', 'Petrol Plug-in Hybrid', 'Petrol Ethanol',\n       'Hybrid  Petrol/Electric Plug-in', 'Electric', nan,\n       'Hybrid  Diesel/Electric', 'Bi Fuel', 'Hybrid  Petrol/Electric',\n       'Petrol Hybrid', 'Diesel Hybrid', 'Diesel Plug-in Hybrid',\n       'Hybrid  Diesel/Electric Plug-in'], dtype=object)"
     },
     "execution_count": 19,
     "metadata": {},
     "output_type": "execute_result"
    }
   ],
   "source": [
    "df[\"Fuel_Type\"].unique()"
   ],
   "metadata": {
    "collapsed": false,
    "ExecuteTime": {
     "end_time": "2024-01-31T15:04:54.027102Z",
     "start_time": "2024-01-31T15:04:54.017252Z"
    }
   },
   "id": "e747b7a1f7b43cc0",
   "execution_count": 19
  },
  {
   "cell_type": "code",
   "outputs": [
    {
     "data": {
      "text/plain": "array(['Petrol', 'Diesel', 'Petrol Plug-in Hybrid', 'Petrol Ethanol',\n       'Hybrid Petrol/Electric Plug-in', 'Electric', 'nan',\n       'Hybrid Diesel/Electric', 'Bi Fuel', 'Hybrid Petrol/Electric',\n       'Petrol Hybrid', 'Diesel Hybrid', 'Diesel Plug-in Hybrid',\n       'Hybrid Diesel/Electric Plug-in'], dtype=object)"
     },
     "execution_count": 20,
     "metadata": {},
     "output_type": "execute_result"
    }
   ],
   "source": [
    "df[\"Fuel_Type\"] = df[\"Fuel_Type\"].apply(lambda x: str(x).replace(\"  \", \" \"))\n",
    "df[\"Fuel_Type\"].unique()"
   ],
   "metadata": {
    "collapsed": false,
    "ExecuteTime": {
     "end_time": "2024-01-31T15:04:54.813558Z",
     "start_time": "2024-01-31T15:04:54.790544Z"
    }
   },
   "id": "adba700fa7ad52bc",
   "execution_count": 20
  },
  {
   "cell_type": "code",
   "outputs": [],
   "source": [
    "df[\"Fuel_Type\"] = df[\"Fuel_Type\"].replace(\"Hybrid Petrol/Electric Plug-in\", \"Petrol Plug-in Hybrid\") \n",
    "df[\"Fuel_Type\"] = df[\"Fuel_Type\"].replace(\"Hybrid Petrol Plug-in\", \"Petrol Plug-in Hybrid\")\n",
    "df[\"Fuel_Type\"] = df[\"Fuel_Type\"].replace(\"Hybrid Diesel Plug-in\", \"Diesel Plug-in Hybrid\")\n",
    "df[\"Fuel_Type\"] = df[\"Fuel_Type\"].replace(\"Hybrid Diesel/Electric Plug-in\", \"Diesel Plug-in Hybrid\")\n",
    "df[\"Fuel_Type\"] = df[\"Fuel_Type\"].replace(\"Hybrid Diesel/Electric\", \"Diesel Hybrid\")\n",
    "df[\"Fuel_Type\"] = df[\"Fuel_Type\"].replace(\"Hybrid Petrol/Electric\", \"Petrol Hybrid\")\n",
    "# There should be 10 resulting categories including NaN"
   ],
   "metadata": {
    "collapsed": false,
    "ExecuteTime": {
     "end_time": "2024-01-31T15:04:55.665910Z",
     "start_time": "2024-01-31T15:04:55.537707Z"
    }
   },
   "id": "448291d4d4db4304",
   "execution_count": 21
  },
  {
   "cell_type": "code",
   "outputs": [
    {
     "data": {
      "text/plain": "array(['Petrol', 'Diesel', 'Petrol Plug-in Hybrid', 'Petrol Ethanol',\n       'Electric', nan, 'Diesel Hybrid', 'Bi Fuel', 'Petrol Hybrid',\n       'Diesel Plug-in Hybrid'], dtype=object)"
     },
     "execution_count": 22,
     "metadata": {},
     "output_type": "execute_result"
    }
   ],
   "source": [
    "df[\"Fuel_Type\"] = df[\"Fuel_Type\"].replace(\"nan\", np.nan)\n",
    "df[\"Fuel_Type\"].unique()"
   ],
   "metadata": {
    "collapsed": false,
    "ExecuteTime": {
     "end_time": "2024-01-31T15:04:56.481563Z",
     "start_time": "2024-01-31T15:04:56.444338Z"
    }
   },
   "id": "8120d28bbb36c59c",
   "execution_count": 22
  },
  {
   "cell_type": "markdown",
   "source": [
    "### Removing outliers"
   ],
   "metadata": {
    "collapsed": false
   },
   "id": "d3a31feb853b4999"
  },
  {
   "cell_type": "code",
   "outputs": [
    {
     "data": {
      "text/plain": "          Maker Genmodel Genmodel_ID   Adv_ID  Adv_Year Adv_Month   Color  \\\n104958  McLaren    675LT        58_6  58_6_13      2017       Jun  Silver   \n\n        Reg_Year Body_Type  Mileage  ...  Engine_Power Annual_Tax Wheelbase  \\\n104958    2016.0     Coupe    200.0  ...         666.0      555.0    2670.0   \n\n        Height   Width  Length  Average_Mpg  Top_Speed  Seat_Num  Door_Num  \n104958  1188.0  2095.0  4546.0          NaN      205.0       2.0       2.0  \n\n[1 rows x 24 columns]",
      "text/html": "<div>\n<style scoped>\n    .dataframe tbody tr th:only-of-type {\n        vertical-align: middle;\n    }\n\n    .dataframe tbody tr th {\n        vertical-align: top;\n    }\n\n    .dataframe thead th {\n        text-align: right;\n    }\n</style>\n<table border=\"1\" class=\"dataframe\">\n  <thead>\n    <tr style=\"text-align: right;\">\n      <th></th>\n      <th>Maker</th>\n      <th>Genmodel</th>\n      <th>Genmodel_ID</th>\n      <th>Adv_ID</th>\n      <th>Adv_Year</th>\n      <th>Adv_Month</th>\n      <th>Color</th>\n      <th>Reg_Year</th>\n      <th>Body_Type</th>\n      <th>Mileage</th>\n      <th>...</th>\n      <th>Engine_Power</th>\n      <th>Annual_Tax</th>\n      <th>Wheelbase</th>\n      <th>Height</th>\n      <th>Width</th>\n      <th>Length</th>\n      <th>Average_Mpg</th>\n      <th>Top_Speed</th>\n      <th>Seat_Num</th>\n      <th>Door_Num</th>\n    </tr>\n  </thead>\n  <tbody>\n    <tr>\n      <th>104958</th>\n      <td>McLaren</td>\n      <td>675LT</td>\n      <td>58_6</td>\n      <td>58_6_13</td>\n      <td>2017</td>\n      <td>Jun</td>\n      <td>Silver</td>\n      <td>2016.0</td>\n      <td>Coupe</td>\n      <td>200.0</td>\n      <td>...</td>\n      <td>666.0</td>\n      <td>555.0</td>\n      <td>2670.0</td>\n      <td>1188.0</td>\n      <td>2095.0</td>\n      <td>4546.0</td>\n      <td>NaN</td>\n      <td>205.0</td>\n      <td>2.0</td>\n      <td>2.0</td>\n    </tr>\n  </tbody>\n</table>\n<p>1 rows × 24 columns</p>\n</div>"
     },
     "execution_count": 23,
     "metadata": {},
     "output_type": "execute_result"
    }
   ],
   "source": [
    "df[df[\"Price\"] > 3000000]"
   ],
   "metadata": {
    "collapsed": false,
    "ExecuteTime": {
     "end_time": "2024-01-31T15:04:59.705685Z",
     "start_time": "2024-01-31T15:04:59.679426Z"
    }
   },
   "id": "3f2e98deb42af221",
   "execution_count": 23
  },
  {
   "cell_type": "code",
   "outputs": [],
   "source": [
    "df.drop(df[df[\"Price\"] > 3000000].index, inplace=True)\n"
   ],
   "metadata": {
    "collapsed": false,
    "ExecuteTime": {
     "end_time": "2024-01-31T15:05:23.373506Z",
     "start_time": "2024-01-31T15:05:23.299192Z"
    }
   },
   "id": "cc2e68eb8290cfbc",
   "execution_count": 24
  },
  {
   "cell_type": "code",
   "outputs": [
    {
     "data": {
      "text/plain": "237059    1900.0\n21120     1960.0\n141874    1960.0\n21114     1970.0\n148255    1970.0\nName: Reg_Year, dtype: float64"
     },
     "execution_count": 25,
     "metadata": {},
     "output_type": "execute_result"
    }
   ],
   "source": [
    "df[\"Reg_Year\"].sort_values().head()"
   ],
   "metadata": {
    "collapsed": false,
    "ExecuteTime": {
     "end_time": "2024-01-31T15:05:24.750180Z",
     "start_time": "2024-01-31T15:05:24.701416Z"
    }
   },
   "id": "998bda71863d2184",
   "execution_count": 25
  },
  {
   "cell_type": "code",
   "outputs": [],
   "source": [
    "df.drop(df[\"Reg_Year\"].sort_values().head(1).index, inplace=True)"
   ],
   "metadata": {
    "collapsed": false,
    "ExecuteTime": {
     "end_time": "2024-01-31T15:05:26.630661Z",
     "start_time": "2024-01-31T15:05:26.530317Z"
    }
   },
   "id": "96825265379c5210",
   "execution_count": 26
  },
  {
   "cell_type": "markdown",
   "source": [
    "### Correcting data types"
   ],
   "metadata": {
    "collapsed": false
   },
   "id": "83c5773f06a37d24"
  },
  {
   "cell_type": "code",
   "outputs": [
    {
     "data": {
      "text/plain": "Maker             object\nGenmodel          object\nGenmodel_ID       object\nAdv_ID            object\nAdv_Year           int64\nAdv_Month       category\nColor             object\nReg_Year         float64\nBody_Type         object\nMileage          float64\nEngine_Size      float64\nGearbox_Type      object\nFuel_Type         object\nPrice            float64\nEngine_Power     float64\nAnnual_Tax       float64\nWheelbase        float64\nHeight           float64\nWidth            float64\nLength           float64\nAverage_Mpg      float64\nTop_Speed        float64\nSeat_Num         float64\nDoor_Num         float64\ndtype: object"
     },
     "execution_count": 27,
     "metadata": {},
     "output_type": "execute_result"
    }
   ],
   "source": [
    "df.dtypes"
   ],
   "metadata": {
    "collapsed": false,
    "ExecuteTime": {
     "end_time": "2024-01-31T15:05:28.578706Z",
     "start_time": "2024-01-31T15:05:28.573557Z"
    }
   },
   "id": "f3ef611d98dbafd7",
   "execution_count": 27
  },
  {
   "cell_type": "code",
   "outputs": [
    {
     "data": {
      "text/plain": "Maker               88\nGenmodel           896\nGenmodel_ID        881\nAdv_ID          268250\nAdv_Year             9\nAdv_Month           12\nColor               22\nReg_Year            25\nBody_Type           18\nMileage          72420\nEngine_Size         72\nGearbox_Type         3\nFuel_Type            9\nPrice            20454\nEngine_Power       466\nAnnual_Tax          24\nWheelbase          426\nHeight             578\nWidth              475\nLength             983\nAverage_Mpg        358\nTop_Speed          138\nSeat_Num            10\nDoor_Num             7\ndtype: int64"
     },
     "execution_count": 28,
     "metadata": {},
     "output_type": "execute_result"
    }
   ],
   "source": [
    "df.nunique()"
   ],
   "metadata": {
    "collapsed": false,
    "ExecuteTime": {
     "end_time": "2024-01-31T15:05:29.947605Z",
     "start_time": "2024-01-31T15:05:29.772876Z"
    }
   },
   "id": "4d4574e171f23e13",
   "execution_count": 28
  },
  {
   "cell_type": "code",
   "outputs": [],
   "source": [
    "df[\"Adv_Year\"] = df[\"Adv_Year\"].astype(\"category\")\n",
    "df[\"Gearbox_Type\"] = df[\"Gearbox_Type\"].astype(\"category\")\n",
    "df[\"Fuel_Type\"] = df[\"Fuel_Type\"].astype(\"category\")"
   ],
   "metadata": {
    "collapsed": false,
    "ExecuteTime": {
     "end_time": "2024-01-31T15:05:31.863910Z",
     "start_time": "2024-01-31T15:05:31.809867Z"
    }
   },
   "id": "fc996abe56c9b9bb",
   "execution_count": 29
  },
  {
   "cell_type": "markdown",
   "source": [
    "### Reordering columns"
   ],
   "metadata": {
    "collapsed": false
   },
   "id": "5de6ae055a37fe57"
  },
  {
   "cell_type": "code",
   "outputs": [
    {
     "data": {
      "text/plain": "Index(['Maker', 'Genmodel', 'Genmodel_ID', 'Adv_ID', 'Adv_Year', 'Adv_Month',\n       'Color', 'Reg_Year', 'Body_Type', 'Mileage', 'Engine_Size',\n       'Gearbox_Type', 'Fuel_Type', 'Price', 'Engine_Power', 'Annual_Tax',\n       'Wheelbase', 'Height', 'Width', 'Length', 'Average_Mpg', 'Top_Speed',\n       'Seat_Num', 'Door_Num'],\n      dtype='object')"
     },
     "execution_count": 30,
     "metadata": {},
     "output_type": "execute_result"
    }
   ],
   "source": [
    "col_names = df.columns\n",
    "col_names"
   ],
   "metadata": {
    "collapsed": false,
    "ExecuteTime": {
     "end_time": "2024-01-31T15:05:33.304811Z",
     "start_time": "2024-01-31T15:05:33.297040Z"
    }
   },
   "id": "de0d68759f0ccadf",
   "execution_count": 30
  },
  {
   "cell_type": "code",
   "outputs": [
    {
     "data": {
      "text/plain": "24"
     },
     "execution_count": 31,
     "metadata": {},
     "output_type": "execute_result"
    }
   ],
   "source": [
    "new_order = ['Maker', 'Genmodel', 'Genmodel_ID', 'Adv_ID', 'Adv_Year', 'Adv_Month', 'Color', 'Body_Type', 'Gearbox_Type', 'Fuel_Type', 'Reg_Year', 'Mileage', 'Engine_Size','Price', 'Engine_Power', 'Annual_Tax', 'Wheelbase', 'Height', 'Width', 'Length', 'Average_Mpg', 'Top_Speed', 'Seat_Num', 'Door_Num']\n",
    "len(new_order)"
   ],
   "metadata": {
    "collapsed": false,
    "ExecuteTime": {
     "end_time": "2024-01-31T15:05:33.925826Z",
     "start_time": "2024-01-31T15:05:33.918896Z"
    }
   },
   "id": "c43bbb164a487f0e",
   "execution_count": 31
  },
  {
   "cell_type": "code",
   "outputs": [
    {
     "data": {
      "text/plain": "     Maker Genmodel Genmodel_ID  Adv_ID Adv_Year Adv_Month   Color Body_Type  \\\n0  Bentley   Arnage        10_1  10_1_1     2018       Apr  Silver    Saloon   \n1  Bentley   Arnage        10_1  10_1_2     2018       Jun    Grey    Saloon   \n2  Bentley   Arnage        10_1  10_1_3     2017       Nov    Blue    Saloon   \n3  Bentley   Arnage        10_1  10_1_4     2018       Apr   Green    Saloon   \n4  Bentley   Arnage        10_1  10_1_5     2017       Nov    Grey    Saloon   \n\n  Gearbox_Type Fuel_Type  ...  Engine_Power  Annual_Tax  Wheelbase  Height  \\\n0    Automatic    Petrol  ...           NaN         NaN     3116.0  1515.0   \n1    Automatic    Petrol  ...         450.0       315.0     3116.0  1515.0   \n2    Automatic    Petrol  ...         400.0       315.0     3116.0  1515.0   \n3    Automatic    Petrol  ...           NaN         NaN     3116.0  1515.0   \n4    Automatic    Petrol  ...           NaN         NaN     3116.0  1515.0   \n\n    Width  Length  Average_Mpg  Top_Speed  Seat_Num  Door_Num  \n0  2125.0  5390.0          NaN        NaN       5.0       4.0  \n1  2125.0  5390.0         13.7      179.0       5.0       4.0  \n2  2125.0  5390.0         14.7      155.0       5.0       4.0  \n3  2125.0  5390.0          NaN        NaN       5.0       4.0  \n4  2125.0  5390.0          NaN        NaN       5.0       4.0  \n\n[5 rows x 24 columns]",
      "text/html": "<div>\n<style scoped>\n    .dataframe tbody tr th:only-of-type {\n        vertical-align: middle;\n    }\n\n    .dataframe tbody tr th {\n        vertical-align: top;\n    }\n\n    .dataframe thead th {\n        text-align: right;\n    }\n</style>\n<table border=\"1\" class=\"dataframe\">\n  <thead>\n    <tr style=\"text-align: right;\">\n      <th></th>\n      <th>Maker</th>\n      <th>Genmodel</th>\n      <th>Genmodel_ID</th>\n      <th>Adv_ID</th>\n      <th>Adv_Year</th>\n      <th>Adv_Month</th>\n      <th>Color</th>\n      <th>Body_Type</th>\n      <th>Gearbox_Type</th>\n      <th>Fuel_Type</th>\n      <th>...</th>\n      <th>Engine_Power</th>\n      <th>Annual_Tax</th>\n      <th>Wheelbase</th>\n      <th>Height</th>\n      <th>Width</th>\n      <th>Length</th>\n      <th>Average_Mpg</th>\n      <th>Top_Speed</th>\n      <th>Seat_Num</th>\n      <th>Door_Num</th>\n    </tr>\n  </thead>\n  <tbody>\n    <tr>\n      <th>0</th>\n      <td>Bentley</td>\n      <td>Arnage</td>\n      <td>10_1</td>\n      <td>10_1_1</td>\n      <td>2018</td>\n      <td>Apr</td>\n      <td>Silver</td>\n      <td>Saloon</td>\n      <td>Automatic</td>\n      <td>Petrol</td>\n      <td>...</td>\n      <td>NaN</td>\n      <td>NaN</td>\n      <td>3116.0</td>\n      <td>1515.0</td>\n      <td>2125.0</td>\n      <td>5390.0</td>\n      <td>NaN</td>\n      <td>NaN</td>\n      <td>5.0</td>\n      <td>4.0</td>\n    </tr>\n    <tr>\n      <th>1</th>\n      <td>Bentley</td>\n      <td>Arnage</td>\n      <td>10_1</td>\n      <td>10_1_2</td>\n      <td>2018</td>\n      <td>Jun</td>\n      <td>Grey</td>\n      <td>Saloon</td>\n      <td>Automatic</td>\n      <td>Petrol</td>\n      <td>...</td>\n      <td>450.0</td>\n      <td>315.0</td>\n      <td>3116.0</td>\n      <td>1515.0</td>\n      <td>2125.0</td>\n      <td>5390.0</td>\n      <td>13.7</td>\n      <td>179.0</td>\n      <td>5.0</td>\n      <td>4.0</td>\n    </tr>\n    <tr>\n      <th>2</th>\n      <td>Bentley</td>\n      <td>Arnage</td>\n      <td>10_1</td>\n      <td>10_1_3</td>\n      <td>2017</td>\n      <td>Nov</td>\n      <td>Blue</td>\n      <td>Saloon</td>\n      <td>Automatic</td>\n      <td>Petrol</td>\n      <td>...</td>\n      <td>400.0</td>\n      <td>315.0</td>\n      <td>3116.0</td>\n      <td>1515.0</td>\n      <td>2125.0</td>\n      <td>5390.0</td>\n      <td>14.7</td>\n      <td>155.0</td>\n      <td>5.0</td>\n      <td>4.0</td>\n    </tr>\n    <tr>\n      <th>3</th>\n      <td>Bentley</td>\n      <td>Arnage</td>\n      <td>10_1</td>\n      <td>10_1_4</td>\n      <td>2018</td>\n      <td>Apr</td>\n      <td>Green</td>\n      <td>Saloon</td>\n      <td>Automatic</td>\n      <td>Petrol</td>\n      <td>...</td>\n      <td>NaN</td>\n      <td>NaN</td>\n      <td>3116.0</td>\n      <td>1515.0</td>\n      <td>2125.0</td>\n      <td>5390.0</td>\n      <td>NaN</td>\n      <td>NaN</td>\n      <td>5.0</td>\n      <td>4.0</td>\n    </tr>\n    <tr>\n      <th>4</th>\n      <td>Bentley</td>\n      <td>Arnage</td>\n      <td>10_1</td>\n      <td>10_1_5</td>\n      <td>2017</td>\n      <td>Nov</td>\n      <td>Grey</td>\n      <td>Saloon</td>\n      <td>Automatic</td>\n      <td>Petrol</td>\n      <td>...</td>\n      <td>NaN</td>\n      <td>NaN</td>\n      <td>3116.0</td>\n      <td>1515.0</td>\n      <td>2125.0</td>\n      <td>5390.0</td>\n      <td>NaN</td>\n      <td>NaN</td>\n      <td>5.0</td>\n      <td>4.0</td>\n    </tr>\n  </tbody>\n</table>\n<p>5 rows × 24 columns</p>\n</div>"
     },
     "execution_count": 32,
     "metadata": {},
     "output_type": "execute_result"
    }
   ],
   "source": [
    "df = df.reindex(new_order, axis=\"columns\")\n",
    "df.head()"
   ],
   "metadata": {
    "collapsed": false,
    "ExecuteTime": {
     "end_time": "2024-01-31T15:05:34.953294Z",
     "start_time": "2024-01-31T15:05:34.888534Z"
    }
   },
   "id": "b86d6270b2246f1c",
   "execution_count": 32
  },
  {
   "cell_type": "code",
   "outputs": [],
   "source": [
    "df.to_csv(\"/Users/mpolcyn/PycharmProjects/DataProcessingCapstone/capstone_data_clean.csv\", index=False)"
   ],
   "metadata": {
    "collapsed": false,
    "ExecuteTime": {
     "end_time": "2024-01-31T15:05:41.447887Z",
     "start_time": "2024-01-31T15:05:39.047033Z"
    }
   },
   "id": "17aa68d11d2ac153",
   "execution_count": 33
  },
  {
   "cell_type": "code",
   "outputs": [],
   "source": [],
   "metadata": {
    "collapsed": false
   },
   "id": "394104c22c664ddf"
  }
 ],
 "metadata": {
  "kernelspec": {
   "display_name": "Python 3",
   "language": "python",
   "name": "python3"
  },
  "language_info": {
   "codemirror_mode": {
    "name": "ipython",
    "version": 2
   },
   "file_extension": ".py",
   "mimetype": "text/x-python",
   "name": "python",
   "nbconvert_exporter": "python",
   "pygments_lexer": "ipython2",
   "version": "2.7.6"
  }
 },
 "nbformat": 4,
 "nbformat_minor": 5
}
